{
  "nbformat": 4,
  "nbformat_minor": 0,
  "metadata": {
    "colab": {
      "provenance": []
    },
    "kernelspec": {
      "name": "python3",
      "display_name": "Python 3"
    },
    "language_info": {
      "name": "python"
    },
    "accelerator": "GPU",
    "gpuClass": "standard"
  },
  "cells": [
    {
      "cell_type": "markdown",
      "source": [
        "# Importing all the dependency"
      ],
      "metadata": {
        "id": "7BXQALKV5exI"
      }
    },
    {
      "cell_type": "code",
      "execution_count": null,
      "metadata": {
        "colab": {
          "base_uri": "https://localhost:8080/"
        },
        "id": "_s36-x8dHycA",
        "outputId": "c7d82a58-cd17-4745-9187-497496ed824c"
      },
      "outputs": [
        {
          "output_type": "stream",
          "name": "stderr",
          "text": [
            "[nltk_data] Downloading package stopwords to /root/nltk_data...\n",
            "[nltk_data]   Package stopwords is already up-to-date!\n",
            "[nltk_data] Downloading package wordnet to /root/nltk_data...\n",
            "[nltk_data]   Package wordnet is already up-to-date!\n",
            "[nltk_data] Downloading package punkt to /root/nltk_data...\n",
            "[nltk_data]   Package punkt is already up-to-date!\n"
          ]
        },
        {
          "output_type": "execute_result",
          "data": {
            "text/plain": [
              "True"
            ]
          },
          "metadata": {},
          "execution_count": 173
        }
      ],
      "source": [
        "import re\n",
        "import nltk\n",
        "from nltk.corpus import stopwords\n",
        "nltk.download('stopwords')\n",
        "nltk.download('wordnet')\n",
        "nltk.download('punkt')"
      ]
    },
    {
      "cell_type": "code",
      "source": [
        "!pip install transformers[sentencepiece] -q "
      ],
      "metadata": {
        "id": "JohBATspFsue"
      },
      "execution_count": null,
      "outputs": []
    },
    {
      "cell_type": "code",
      "source": [
        "!pip install transformers datasets evaluate"
      ],
      "metadata": {
        "id": "SVhsI7cXHEQG"
      },
      "execution_count": null,
      "outputs": []
    },
    {
      "cell_type": "code",
      "source": [
        "!pip install tensorflow-text"
      ],
      "metadata": {
        "id": "Wk6-aSBkczQd"
      },
      "execution_count": null,
      "outputs": []
    },
    {
      "cell_type": "code",
      "source": [
        "import tensorflow as tf\n",
        "import numpy as np\n",
        "import pandas as pd\n",
        "import re\n",
        "import torch\n",
        "import os\n",
        "from transformers import AutoTokenizer, DataCollatorWithPadding\n",
        "from transformers import AutoModelForSequenceClassification, TrainingArguments, Trainer, logging\n",
        "from datasets import Dataset\n",
        "from sklearn.metrics import confusion_matrix, ConfusionMatrixDisplay\n",
        "from sklearn.metrics import precision_recall_fscore_support as score\n",
        "import matplotlib.pyplot as plt"
      ],
      "metadata": {
        "id": "rhmaglilFZNQ"
      },
      "execution_count": null,
      "outputs": []
    },
    {
      "cell_type": "code",
      "source": [
        "from sklearn.preprocessing import LabelEncoder"
      ],
      "metadata": {
        "id": "Qz5yF5F2bO5o"
      },
      "execution_count": null,
      "outputs": []
    },
    {
      "cell_type": "code",
      "source": [
        "!pip install tensorflow-addons"
      ],
      "metadata": {
        "colab": {
          "base_uri": "https://localhost:8080/"
        },
        "id": "b6rdVwJxeoZx",
        "outputId": "ddebacac-0232-401c-804b-53c17c33b972"
      },
      "execution_count": null,
      "outputs": [
        {
          "output_type": "stream",
          "name": "stdout",
          "text": [
            "Looking in indexes: https://pypi.org/simple, https://us-python.pkg.dev/colab-wheels/public/simple/\n",
            "Requirement already satisfied: tensorflow-addons in /usr/local/lib/python3.9/dist-packages (0.19.0)\n",
            "Requirement already satisfied: typeguard>=2.7 in /usr/local/lib/python3.9/dist-packages (from tensorflow-addons) (2.13.3)\n",
            "Requirement already satisfied: packaging in /usr/local/lib/python3.9/dist-packages (from tensorflow-addons) (23.0)\n"
          ]
        }
      ]
    },
    {
      "cell_type": "code",
      "source": [
        "!pip install tf-models-official"
      ],
      "metadata": {
        "id": "OM4z-fMie49M"
      },
      "execution_count": null,
      "outputs": []
    },
    {
      "cell_type": "code",
      "source": [
        "import numpy as np\n",
        "import pandas as pd\n",
        "\n",
        "from sklearn import preprocessing\n",
        "from sklearn.model_selection import train_test_split\n",
        "\n",
        "import tensorflow as tf\n",
        "import tensorflow_addons as tfa\n",
        "import tensorflow_hub as hub\n",
        "import tensorflow_text as text  \n",
        "from keras.utils import to_categorical\n",
        "from official.nlp import optimization  \n",
        "from sklearn.preprocessing import LabelEncoder\n",
        "from sklearn.metrics import classification_report, confusion_matrix\n",
        "\n",
        "# Plots\n",
        "import matplotlib.pyplot as plt\n",
        "import seaborn as sns"
      ],
      "metadata": {
        "id": "liWX4WeOcxl6"
      },
      "execution_count": null,
      "outputs": []
    },
    {
      "cell_type": "code",
      "source": [
        "from keras.utils import to_categorical"
      ],
      "metadata": {
        "id": "p3SGjB3zbkqF"
      },
      "execution_count": null,
      "outputs": []
    },
    {
      "cell_type": "code",
      "source": [
        "import tensorflow_hub as hub"
      ],
      "metadata": {
        "id": "82f8v3cscYiu"
      },
      "execution_count": null,
      "outputs": []
    },
    {
      "cell_type": "markdown",
      "source": [
        "Loading the train and test data set"
      ],
      "metadata": {
        "id": "wbSkuICq5sPZ"
      }
    },
    {
      "cell_type": "code",
      "source": [
        "df_train = pd.read_csv(\"/content/train.csv\")\n",
        "df_test = pd.read_csv(\"/content/test.csv\")"
      ],
      "metadata": {
        "id": "PnE-OVCvICfP"
      },
      "execution_count": null,
      "outputs": []
    },
    {
      "cell_type": "code",
      "source": [
        "print(df_train)\n",
        "print(df_test)"
      ],
      "metadata": {
        "id": "YjlwXwFqJCyu"
      },
      "execution_count": null,
      "outputs": []
    },
    {
      "cell_type": "code",
      "source": [
        "df_train.head()"
      ],
      "metadata": {
        "colab": {
          "base_uri": "https://localhost:8080/",
          "height": 250
        },
        "id": "lfCbRgFT_KxI",
        "outputId": "6ae4e010-f779-4eaf-9898-ea9ca9bdf1b9"
      },
      "execution_count": null,
      "outputs": [
        {
          "output_type": "execute_result",
          "data": {
            "text/plain": [
              "   Class Index                                              Title  \\\n",
              "0            3  Wall St. Bears Claw Back Into the Black (Reuters)   \n",
              "1            3  Carlyle Looks Toward Commercial Aerospace (Reu...   \n",
              "2            3    Oil and Economy Cloud Stocks' Outlook (Reuters)   \n",
              "3            3  Iraq Halts Oil Exports from Main Southern Pipe...   \n",
              "4            3  Oil prices soar to all-time record, posing new...   \n",
              "\n",
              "                                         Description  \n",
              "0  Reuters - Short-sellers, Wall Street's dwindli...  \n",
              "1  Reuters - Private investment firm Carlyle Grou...  \n",
              "2  Reuters - Soaring crude prices plus worries\\ab...  \n",
              "3  Reuters - Authorities have halted oil export\\f...  \n",
              "4  AFP - Tearaway world oil prices, toppling reco...  "
            ],
            "text/html": [
              "\n",
              "  <div id=\"df-871df258-818c-4f23-9b87-4dd6217a0bfa\">\n",
              "    <div class=\"colab-df-container\">\n",
              "      <div>\n",
              "<style scoped>\n",
              "    .dataframe tbody tr th:only-of-type {\n",
              "        vertical-align: middle;\n",
              "    }\n",
              "\n",
              "    .dataframe tbody tr th {\n",
              "        vertical-align: top;\n",
              "    }\n",
              "\n",
              "    .dataframe thead th {\n",
              "        text-align: right;\n",
              "    }\n",
              "</style>\n",
              "<table border=\"1\" class=\"dataframe\">\n",
              "  <thead>\n",
              "    <tr style=\"text-align: right;\">\n",
              "      <th></th>\n",
              "      <th>Class Index</th>\n",
              "      <th>Title</th>\n",
              "      <th>Description</th>\n",
              "    </tr>\n",
              "  </thead>\n",
              "  <tbody>\n",
              "    <tr>\n",
              "      <th>0</th>\n",
              "      <td>3</td>\n",
              "      <td>Wall St. Bears Claw Back Into the Black (Reuters)</td>\n",
              "      <td>Reuters - Short-sellers, Wall Street's dwindli...</td>\n",
              "    </tr>\n",
              "    <tr>\n",
              "      <th>1</th>\n",
              "      <td>3</td>\n",
              "      <td>Carlyle Looks Toward Commercial Aerospace (Reu...</td>\n",
              "      <td>Reuters - Private investment firm Carlyle Grou...</td>\n",
              "    </tr>\n",
              "    <tr>\n",
              "      <th>2</th>\n",
              "      <td>3</td>\n",
              "      <td>Oil and Economy Cloud Stocks' Outlook (Reuters)</td>\n",
              "      <td>Reuters - Soaring crude prices plus worries\\ab...</td>\n",
              "    </tr>\n",
              "    <tr>\n",
              "      <th>3</th>\n",
              "      <td>3</td>\n",
              "      <td>Iraq Halts Oil Exports from Main Southern Pipe...</td>\n",
              "      <td>Reuters - Authorities have halted oil export\\f...</td>\n",
              "    </tr>\n",
              "    <tr>\n",
              "      <th>4</th>\n",
              "      <td>3</td>\n",
              "      <td>Oil prices soar to all-time record, posing new...</td>\n",
              "      <td>AFP - Tearaway world oil prices, toppling reco...</td>\n",
              "    </tr>\n",
              "  </tbody>\n",
              "</table>\n",
              "</div>\n",
              "      <button class=\"colab-df-convert\" onclick=\"convertToInteractive('df-871df258-818c-4f23-9b87-4dd6217a0bfa')\"\n",
              "              title=\"Convert this dataframe to an interactive table.\"\n",
              "              style=\"display:none;\">\n",
              "        \n",
              "  <svg xmlns=\"http://www.w3.org/2000/svg\" height=\"24px\"viewBox=\"0 0 24 24\"\n",
              "       width=\"24px\">\n",
              "    <path d=\"M0 0h24v24H0V0z\" fill=\"none\"/>\n",
              "    <path d=\"M18.56 5.44l.94 2.06.94-2.06 2.06-.94-2.06-.94-.94-2.06-.94 2.06-2.06.94zm-11 1L8.5 8.5l.94-2.06 2.06-.94-2.06-.94L8.5 2.5l-.94 2.06-2.06.94zm10 10l.94 2.06.94-2.06 2.06-.94-2.06-.94-.94-2.06-.94 2.06-2.06.94z\"/><path d=\"M17.41 7.96l-1.37-1.37c-.4-.4-.92-.59-1.43-.59-.52 0-1.04.2-1.43.59L10.3 9.45l-7.72 7.72c-.78.78-.78 2.05 0 2.83L4 21.41c.39.39.9.59 1.41.59.51 0 1.02-.2 1.41-.59l7.78-7.78 2.81-2.81c.8-.78.8-2.07 0-2.86zM5.41 20L4 18.59l7.72-7.72 1.47 1.35L5.41 20z\"/>\n",
              "  </svg>\n",
              "      </button>\n",
              "      \n",
              "  <style>\n",
              "    .colab-df-container {\n",
              "      display:flex;\n",
              "      flex-wrap:wrap;\n",
              "      gap: 12px;\n",
              "    }\n",
              "\n",
              "    .colab-df-convert {\n",
              "      background-color: #E8F0FE;\n",
              "      border: none;\n",
              "      border-radius: 50%;\n",
              "      cursor: pointer;\n",
              "      display: none;\n",
              "      fill: #1967D2;\n",
              "      height: 32px;\n",
              "      padding: 0 0 0 0;\n",
              "      width: 32px;\n",
              "    }\n",
              "\n",
              "    .colab-df-convert:hover {\n",
              "      background-color: #E2EBFA;\n",
              "      box-shadow: 0px 1px 2px rgba(60, 64, 67, 0.3), 0px 1px 3px 1px rgba(60, 64, 67, 0.15);\n",
              "      fill: #174EA6;\n",
              "    }\n",
              "\n",
              "    [theme=dark] .colab-df-convert {\n",
              "      background-color: #3B4455;\n",
              "      fill: #D2E3FC;\n",
              "    }\n",
              "\n",
              "    [theme=dark] .colab-df-convert:hover {\n",
              "      background-color: #434B5C;\n",
              "      box-shadow: 0px 1px 3px 1px rgba(0, 0, 0, 0.15);\n",
              "      filter: drop-shadow(0px 1px 2px rgba(0, 0, 0, 0.3));\n",
              "      fill: #FFFFFF;\n",
              "    }\n",
              "  </style>\n",
              "\n",
              "      <script>\n",
              "        const buttonEl =\n",
              "          document.querySelector('#df-871df258-818c-4f23-9b87-4dd6217a0bfa button.colab-df-convert');\n",
              "        buttonEl.style.display =\n",
              "          google.colab.kernel.accessAllowed ? 'block' : 'none';\n",
              "\n",
              "        async function convertToInteractive(key) {\n",
              "          const element = document.querySelector('#df-871df258-818c-4f23-9b87-4dd6217a0bfa');\n",
              "          const dataTable =\n",
              "            await google.colab.kernel.invokeFunction('convertToInteractive',\n",
              "                                                     [key], {});\n",
              "          if (!dataTable) return;\n",
              "\n",
              "          const docLinkHtml = 'Like what you see? Visit the ' +\n",
              "            '<a target=\"_blank\" href=https://colab.research.google.com/notebooks/data_table.ipynb>data table notebook</a>'\n",
              "            + ' to learn more about interactive tables.';\n",
              "          element.innerHTML = '';\n",
              "          dataTable['output_type'] = 'display_data';\n",
              "          await google.colab.output.renderOutput(dataTable, element);\n",
              "          const docLink = document.createElement('div');\n",
              "          docLink.innerHTML = docLinkHtml;\n",
              "          element.appendChild(docLink);\n",
              "        }\n",
              "      </script>\n",
              "    </div>\n",
              "  </div>\n",
              "  "
            ]
          },
          "metadata": {},
          "execution_count": 14
        }
      ]
    },
    {
      "cell_type": "code",
      "source": [
        "df_train['Text']= df_train['Title']+ ' ' + df_train['Description']"
      ],
      "metadata": {
        "id": "BpB8VTxGH4P-"
      },
      "execution_count": null,
      "outputs": []
    },
    {
      "cell_type": "code",
      "source": [
        "df_test['Text']= df_test['Title']+ ' ' + df_test['Description']"
      ],
      "metadata": {
        "id": "184txOfbIOKl"
      },
      "execution_count": null,
      "outputs": []
    },
    {
      "cell_type": "code",
      "source": [
        "df_train.head()"
      ],
      "metadata": {
        "colab": {
          "base_uri": "https://localhost:8080/",
          "height": 354
        },
        "id": "wRCe4mHSIT8d",
        "outputId": "7c08883b-5aad-47ac-f64d-2af0cbf6bf81"
      },
      "execution_count": null,
      "outputs": [
        {
          "output_type": "execute_result",
          "data": {
            "text/plain": [
              "   Class Index                                              Title  \\\n",
              "0            3  Wall St. Bears Claw Back Into the Black (Reuters)   \n",
              "1            3  Carlyle Looks Toward Commercial Aerospace (Reu...   \n",
              "2            3    Oil and Economy Cloud Stocks' Outlook (Reuters)   \n",
              "3            3  Iraq Halts Oil Exports from Main Southern Pipe...   \n",
              "4            3  Oil prices soar to all-time record, posing new...   \n",
              "\n",
              "                                         Description  \\\n",
              "0  Reuters - Short-sellers, Wall Street's dwindli...   \n",
              "1  Reuters - Private investment firm Carlyle Grou...   \n",
              "2  Reuters - Soaring crude prices plus worries\\ab...   \n",
              "3  Reuters - Authorities have halted oil export\\f...   \n",
              "4  AFP - Tearaway world oil prices, toppling reco...   \n",
              "\n",
              "                                                Text  \n",
              "0  Wall St. Bears Claw Back Into the Black (Reute...  \n",
              "1  Carlyle Looks Toward Commercial Aerospace (Reu...  \n",
              "2  Oil and Economy Cloud Stocks' Outlook (Reuters...  \n",
              "3  Iraq Halts Oil Exports from Main Southern Pipe...  \n",
              "4  Oil prices soar to all-time record, posing new...  "
            ],
            "text/html": [
              "\n",
              "  <div id=\"df-e42496ce-b786-4e3a-a0a2-c6094d6f1c87\">\n",
              "    <div class=\"colab-df-container\">\n",
              "      <div>\n",
              "<style scoped>\n",
              "    .dataframe tbody tr th:only-of-type {\n",
              "        vertical-align: middle;\n",
              "    }\n",
              "\n",
              "    .dataframe tbody tr th {\n",
              "        vertical-align: top;\n",
              "    }\n",
              "\n",
              "    .dataframe thead th {\n",
              "        text-align: right;\n",
              "    }\n",
              "</style>\n",
              "<table border=\"1\" class=\"dataframe\">\n",
              "  <thead>\n",
              "    <tr style=\"text-align: right;\">\n",
              "      <th></th>\n",
              "      <th>Class Index</th>\n",
              "      <th>Title</th>\n",
              "      <th>Description</th>\n",
              "      <th>Text</th>\n",
              "    </tr>\n",
              "  </thead>\n",
              "  <tbody>\n",
              "    <tr>\n",
              "      <th>0</th>\n",
              "      <td>3</td>\n",
              "      <td>Wall St. Bears Claw Back Into the Black (Reuters)</td>\n",
              "      <td>Reuters - Short-sellers, Wall Street's dwindli...</td>\n",
              "      <td>Wall St. Bears Claw Back Into the Black (Reute...</td>\n",
              "    </tr>\n",
              "    <tr>\n",
              "      <th>1</th>\n",
              "      <td>3</td>\n",
              "      <td>Carlyle Looks Toward Commercial Aerospace (Reu...</td>\n",
              "      <td>Reuters - Private investment firm Carlyle Grou...</td>\n",
              "      <td>Carlyle Looks Toward Commercial Aerospace (Reu...</td>\n",
              "    </tr>\n",
              "    <tr>\n",
              "      <th>2</th>\n",
              "      <td>3</td>\n",
              "      <td>Oil and Economy Cloud Stocks' Outlook (Reuters)</td>\n",
              "      <td>Reuters - Soaring crude prices plus worries\\ab...</td>\n",
              "      <td>Oil and Economy Cloud Stocks' Outlook (Reuters...</td>\n",
              "    </tr>\n",
              "    <tr>\n",
              "      <th>3</th>\n",
              "      <td>3</td>\n",
              "      <td>Iraq Halts Oil Exports from Main Southern Pipe...</td>\n",
              "      <td>Reuters - Authorities have halted oil export\\f...</td>\n",
              "      <td>Iraq Halts Oil Exports from Main Southern Pipe...</td>\n",
              "    </tr>\n",
              "    <tr>\n",
              "      <th>4</th>\n",
              "      <td>3</td>\n",
              "      <td>Oil prices soar to all-time record, posing new...</td>\n",
              "      <td>AFP - Tearaway world oil prices, toppling reco...</td>\n",
              "      <td>Oil prices soar to all-time record, posing new...</td>\n",
              "    </tr>\n",
              "  </tbody>\n",
              "</table>\n",
              "</div>\n",
              "      <button class=\"colab-df-convert\" onclick=\"convertToInteractive('df-e42496ce-b786-4e3a-a0a2-c6094d6f1c87')\"\n",
              "              title=\"Convert this dataframe to an interactive table.\"\n",
              "              style=\"display:none;\">\n",
              "        \n",
              "  <svg xmlns=\"http://www.w3.org/2000/svg\" height=\"24px\"viewBox=\"0 0 24 24\"\n",
              "       width=\"24px\">\n",
              "    <path d=\"M0 0h24v24H0V0z\" fill=\"none\"/>\n",
              "    <path d=\"M18.56 5.44l.94 2.06.94-2.06 2.06-.94-2.06-.94-.94-2.06-.94 2.06-2.06.94zm-11 1L8.5 8.5l.94-2.06 2.06-.94-2.06-.94L8.5 2.5l-.94 2.06-2.06.94zm10 10l.94 2.06.94-2.06 2.06-.94-2.06-.94-.94-2.06-.94 2.06-2.06.94z\"/><path d=\"M17.41 7.96l-1.37-1.37c-.4-.4-.92-.59-1.43-.59-.52 0-1.04.2-1.43.59L10.3 9.45l-7.72 7.72c-.78.78-.78 2.05 0 2.83L4 21.41c.39.39.9.59 1.41.59.51 0 1.02-.2 1.41-.59l7.78-7.78 2.81-2.81c.8-.78.8-2.07 0-2.86zM5.41 20L4 18.59l7.72-7.72 1.47 1.35L5.41 20z\"/>\n",
              "  </svg>\n",
              "      </button>\n",
              "      \n",
              "  <style>\n",
              "    .colab-df-container {\n",
              "      display:flex;\n",
              "      flex-wrap:wrap;\n",
              "      gap: 12px;\n",
              "    }\n",
              "\n",
              "    .colab-df-convert {\n",
              "      background-color: #E8F0FE;\n",
              "      border: none;\n",
              "      border-radius: 50%;\n",
              "      cursor: pointer;\n",
              "      display: none;\n",
              "      fill: #1967D2;\n",
              "      height: 32px;\n",
              "      padding: 0 0 0 0;\n",
              "      width: 32px;\n",
              "    }\n",
              "\n",
              "    .colab-df-convert:hover {\n",
              "      background-color: #E2EBFA;\n",
              "      box-shadow: 0px 1px 2px rgba(60, 64, 67, 0.3), 0px 1px 3px 1px rgba(60, 64, 67, 0.15);\n",
              "      fill: #174EA6;\n",
              "    }\n",
              "\n",
              "    [theme=dark] .colab-df-convert {\n",
              "      background-color: #3B4455;\n",
              "      fill: #D2E3FC;\n",
              "    }\n",
              "\n",
              "    [theme=dark] .colab-df-convert:hover {\n",
              "      background-color: #434B5C;\n",
              "      box-shadow: 0px 1px 3px 1px rgba(0, 0, 0, 0.15);\n",
              "      filter: drop-shadow(0px 1px 2px rgba(0, 0, 0, 0.3));\n",
              "      fill: #FFFFFF;\n",
              "    }\n",
              "  </style>\n",
              "\n",
              "      <script>\n",
              "        const buttonEl =\n",
              "          document.querySelector('#df-e42496ce-b786-4e3a-a0a2-c6094d6f1c87 button.colab-df-convert');\n",
              "        buttonEl.style.display =\n",
              "          google.colab.kernel.accessAllowed ? 'block' : 'none';\n",
              "\n",
              "        async function convertToInteractive(key) {\n",
              "          const element = document.querySelector('#df-e42496ce-b786-4e3a-a0a2-c6094d6f1c87');\n",
              "          const dataTable =\n",
              "            await google.colab.kernel.invokeFunction('convertToInteractive',\n",
              "                                                     [key], {});\n",
              "          if (!dataTable) return;\n",
              "\n",
              "          const docLinkHtml = 'Like what you see? Visit the ' +\n",
              "            '<a target=\"_blank\" href=https://colab.research.google.com/notebooks/data_table.ipynb>data table notebook</a>'\n",
              "            + ' to learn more about interactive tables.';\n",
              "          element.innerHTML = '';\n",
              "          dataTable['output_type'] = 'display_data';\n",
              "          await google.colab.output.renderOutput(dataTable, element);\n",
              "          const docLink = document.createElement('div');\n",
              "          docLink.innerHTML = docLinkHtml;\n",
              "          element.appendChild(docLink);\n",
              "        }\n",
              "      </script>\n",
              "    </div>\n",
              "  </div>\n",
              "  "
            ]
          },
          "metadata": {},
          "execution_count": 17
        }
      ]
    },
    {
      "cell_type": "code",
      "source": [
        "df_train = df_train.drop(['Title', 'Description'], axis=1)\n",
        "df_test = df_test.drop(['Title', 'Description'], axis=1)"
      ],
      "metadata": {
        "id": "I7HEol7IIYnN"
      },
      "execution_count": null,
      "outputs": []
    },
    {
      "cell_type": "code",
      "source": [
        "df_train.head()"
      ],
      "metadata": {
        "colab": {
          "base_uri": "https://localhost:8080/",
          "height": 206
        },
        "id": "zIBPkBPAIn9V",
        "outputId": "fe5c850b-5ea3-4425-e055-c836202b211f"
      },
      "execution_count": null,
      "outputs": [
        {
          "output_type": "execute_result",
          "data": {
            "text/plain": [
              "   Class Index                                               Text\n",
              "0            3  Wall St. Bears Claw Back Into the Black (Reute...\n",
              "1            3  Carlyle Looks Toward Commercial Aerospace (Reu...\n",
              "2            3  Oil and Economy Cloud Stocks' Outlook (Reuters...\n",
              "3            3  Iraq Halts Oil Exports from Main Southern Pipe...\n",
              "4            3  Oil prices soar to all-time record, posing new..."
            ],
            "text/html": [
              "\n",
              "  <div id=\"df-49c18039-45f3-40b0-a621-2c403d2f31ab\">\n",
              "    <div class=\"colab-df-container\">\n",
              "      <div>\n",
              "<style scoped>\n",
              "    .dataframe tbody tr th:only-of-type {\n",
              "        vertical-align: middle;\n",
              "    }\n",
              "\n",
              "    .dataframe tbody tr th {\n",
              "        vertical-align: top;\n",
              "    }\n",
              "\n",
              "    .dataframe thead th {\n",
              "        text-align: right;\n",
              "    }\n",
              "</style>\n",
              "<table border=\"1\" class=\"dataframe\">\n",
              "  <thead>\n",
              "    <tr style=\"text-align: right;\">\n",
              "      <th></th>\n",
              "      <th>Class Index</th>\n",
              "      <th>Text</th>\n",
              "    </tr>\n",
              "  </thead>\n",
              "  <tbody>\n",
              "    <tr>\n",
              "      <th>0</th>\n",
              "      <td>3</td>\n",
              "      <td>Wall St. Bears Claw Back Into the Black (Reute...</td>\n",
              "    </tr>\n",
              "    <tr>\n",
              "      <th>1</th>\n",
              "      <td>3</td>\n",
              "      <td>Carlyle Looks Toward Commercial Aerospace (Reu...</td>\n",
              "    </tr>\n",
              "    <tr>\n",
              "      <th>2</th>\n",
              "      <td>3</td>\n",
              "      <td>Oil and Economy Cloud Stocks' Outlook (Reuters...</td>\n",
              "    </tr>\n",
              "    <tr>\n",
              "      <th>3</th>\n",
              "      <td>3</td>\n",
              "      <td>Iraq Halts Oil Exports from Main Southern Pipe...</td>\n",
              "    </tr>\n",
              "    <tr>\n",
              "      <th>4</th>\n",
              "      <td>3</td>\n",
              "      <td>Oil prices soar to all-time record, posing new...</td>\n",
              "    </tr>\n",
              "  </tbody>\n",
              "</table>\n",
              "</div>\n",
              "      <button class=\"colab-df-convert\" onclick=\"convertToInteractive('df-49c18039-45f3-40b0-a621-2c403d2f31ab')\"\n",
              "              title=\"Convert this dataframe to an interactive table.\"\n",
              "              style=\"display:none;\">\n",
              "        \n",
              "  <svg xmlns=\"http://www.w3.org/2000/svg\" height=\"24px\"viewBox=\"0 0 24 24\"\n",
              "       width=\"24px\">\n",
              "    <path d=\"M0 0h24v24H0V0z\" fill=\"none\"/>\n",
              "    <path d=\"M18.56 5.44l.94 2.06.94-2.06 2.06-.94-2.06-.94-.94-2.06-.94 2.06-2.06.94zm-11 1L8.5 8.5l.94-2.06 2.06-.94-2.06-.94L8.5 2.5l-.94 2.06-2.06.94zm10 10l.94 2.06.94-2.06 2.06-.94-2.06-.94-.94-2.06-.94 2.06-2.06.94z\"/><path d=\"M17.41 7.96l-1.37-1.37c-.4-.4-.92-.59-1.43-.59-.52 0-1.04.2-1.43.59L10.3 9.45l-7.72 7.72c-.78.78-.78 2.05 0 2.83L4 21.41c.39.39.9.59 1.41.59.51 0 1.02-.2 1.41-.59l7.78-7.78 2.81-2.81c.8-.78.8-2.07 0-2.86zM5.41 20L4 18.59l7.72-7.72 1.47 1.35L5.41 20z\"/>\n",
              "  </svg>\n",
              "      </button>\n",
              "      \n",
              "  <style>\n",
              "    .colab-df-container {\n",
              "      display:flex;\n",
              "      flex-wrap:wrap;\n",
              "      gap: 12px;\n",
              "    }\n",
              "\n",
              "    .colab-df-convert {\n",
              "      background-color: #E8F0FE;\n",
              "      border: none;\n",
              "      border-radius: 50%;\n",
              "      cursor: pointer;\n",
              "      display: none;\n",
              "      fill: #1967D2;\n",
              "      height: 32px;\n",
              "      padding: 0 0 0 0;\n",
              "      width: 32px;\n",
              "    }\n",
              "\n",
              "    .colab-df-convert:hover {\n",
              "      background-color: #E2EBFA;\n",
              "      box-shadow: 0px 1px 2px rgba(60, 64, 67, 0.3), 0px 1px 3px 1px rgba(60, 64, 67, 0.15);\n",
              "      fill: #174EA6;\n",
              "    }\n",
              "\n",
              "    [theme=dark] .colab-df-convert {\n",
              "      background-color: #3B4455;\n",
              "      fill: #D2E3FC;\n",
              "    }\n",
              "\n",
              "    [theme=dark] .colab-df-convert:hover {\n",
              "      background-color: #434B5C;\n",
              "      box-shadow: 0px 1px 3px 1px rgba(0, 0, 0, 0.15);\n",
              "      filter: drop-shadow(0px 1px 2px rgba(0, 0, 0, 0.3));\n",
              "      fill: #FFFFFF;\n",
              "    }\n",
              "  </style>\n",
              "\n",
              "      <script>\n",
              "        const buttonEl =\n",
              "          document.querySelector('#df-49c18039-45f3-40b0-a621-2c403d2f31ab button.colab-df-convert');\n",
              "        buttonEl.style.display =\n",
              "          google.colab.kernel.accessAllowed ? 'block' : 'none';\n",
              "\n",
              "        async function convertToInteractive(key) {\n",
              "          const element = document.querySelector('#df-49c18039-45f3-40b0-a621-2c403d2f31ab');\n",
              "          const dataTable =\n",
              "            await google.colab.kernel.invokeFunction('convertToInteractive',\n",
              "                                                     [key], {});\n",
              "          if (!dataTable) return;\n",
              "\n",
              "          const docLinkHtml = 'Like what you see? Visit the ' +\n",
              "            '<a target=\"_blank\" href=https://colab.research.google.com/notebooks/data_table.ipynb>data table notebook</a>'\n",
              "            + ' to learn more about interactive tables.';\n",
              "          element.innerHTML = '';\n",
              "          dataTable['output_type'] = 'display_data';\n",
              "          await google.colab.output.renderOutput(dataTable, element);\n",
              "          const docLink = document.createElement('div');\n",
              "          docLink.innerHTML = docLinkHtml;\n",
              "          element.appendChild(docLink);\n",
              "        }\n",
              "      </script>\n",
              "    </div>\n",
              "  </div>\n",
              "  "
            ]
          },
          "metadata": {},
          "execution_count": 19
        }
      ]
    },
    {
      "cell_type": "code",
      "source": [
        "df_train = df_train.rename(columns={'Class Index': 'Label'})"
      ],
      "metadata": {
        "id": "Cbeh9IjLIvXt"
      },
      "execution_count": null,
      "outputs": []
    },
    {
      "cell_type": "code",
      "source": [
        "df_test = df_test.rename(columns={'Class Index': 'Label'})"
      ],
      "metadata": {
        "id": "PwJUHeFtJiJU"
      },
      "execution_count": null,
      "outputs": []
    },
    {
      "cell_type": "code",
      "source": [
        "TEXT_LABELS = {1: \"World\", 2: \"Sports\", 3: \"Business\", 4: \"Sci/Tech\"}"
      ],
      "metadata": {
        "id": "SjzDAFdPJq9l"
      },
      "execution_count": null,
      "outputs": []
    },
    {
      "cell_type": "code",
      "source": [
        "print('Shape of the training data: ', df_train.shape)\n",
        "print('Shape of the test data: ', df_test.shape)"
      ],
      "metadata": {
        "colab": {
          "base_uri": "https://localhost:8080/"
        },
        "id": "0mtMoCTjJwcl",
        "outputId": "d2cf1b52-86d9-4bbd-d116-81c1d44e24ab"
      },
      "execution_count": null,
      "outputs": [
        {
          "output_type": "stream",
          "name": "stdout",
          "text": [
            "Shape of the training data:  (120000, 2)\n",
            "Shape of the test data:  (7600, 2)\n"
          ]
        }
      ]
    },
    {
      "cell_type": "markdown",
      "source": [
        "The train set had 120000 text i.e, 30000 text in each label"
      ],
      "metadata": {
        "id": "CoMmQx4F53UM"
      }
    },
    {
      "cell_type": "code",
      "source": [
        "df_train.groupby('Label').count()"
      ],
      "metadata": {
        "colab": {
          "base_uri": "https://localhost:8080/",
          "height": 206
        },
        "id": "wqr0xFUNJ8gV",
        "outputId": "59048651-b101-41d5-cef2-0d36df735aa3"
      },
      "execution_count": null,
      "outputs": [
        {
          "output_type": "execute_result",
          "data": {
            "text/plain": [
              "        Text\n",
              "Label       \n",
              "1      30000\n",
              "2      30000\n",
              "3      30000\n",
              "4      30000"
            ],
            "text/html": [
              "\n",
              "  <div id=\"df-f23d2707-d668-4da5-b132-017b3b59ac32\">\n",
              "    <div class=\"colab-df-container\">\n",
              "      <div>\n",
              "<style scoped>\n",
              "    .dataframe tbody tr th:only-of-type {\n",
              "        vertical-align: middle;\n",
              "    }\n",
              "\n",
              "    .dataframe tbody tr th {\n",
              "        vertical-align: top;\n",
              "    }\n",
              "\n",
              "    .dataframe thead th {\n",
              "        text-align: right;\n",
              "    }\n",
              "</style>\n",
              "<table border=\"1\" class=\"dataframe\">\n",
              "  <thead>\n",
              "    <tr style=\"text-align: right;\">\n",
              "      <th></th>\n",
              "      <th>Text</th>\n",
              "    </tr>\n",
              "    <tr>\n",
              "      <th>Label</th>\n",
              "      <th></th>\n",
              "    </tr>\n",
              "  </thead>\n",
              "  <tbody>\n",
              "    <tr>\n",
              "      <th>1</th>\n",
              "      <td>30000</td>\n",
              "    </tr>\n",
              "    <tr>\n",
              "      <th>2</th>\n",
              "      <td>30000</td>\n",
              "    </tr>\n",
              "    <tr>\n",
              "      <th>3</th>\n",
              "      <td>30000</td>\n",
              "    </tr>\n",
              "    <tr>\n",
              "      <th>4</th>\n",
              "      <td>30000</td>\n",
              "    </tr>\n",
              "  </tbody>\n",
              "</table>\n",
              "</div>\n",
              "      <button class=\"colab-df-convert\" onclick=\"convertToInteractive('df-f23d2707-d668-4da5-b132-017b3b59ac32')\"\n",
              "              title=\"Convert this dataframe to an interactive table.\"\n",
              "              style=\"display:none;\">\n",
              "        \n",
              "  <svg xmlns=\"http://www.w3.org/2000/svg\" height=\"24px\"viewBox=\"0 0 24 24\"\n",
              "       width=\"24px\">\n",
              "    <path d=\"M0 0h24v24H0V0z\" fill=\"none\"/>\n",
              "    <path d=\"M18.56 5.44l.94 2.06.94-2.06 2.06-.94-2.06-.94-.94-2.06-.94 2.06-2.06.94zm-11 1L8.5 8.5l.94-2.06 2.06-.94-2.06-.94L8.5 2.5l-.94 2.06-2.06.94zm10 10l.94 2.06.94-2.06 2.06-.94-2.06-.94-.94-2.06-.94 2.06-2.06.94z\"/><path d=\"M17.41 7.96l-1.37-1.37c-.4-.4-.92-.59-1.43-.59-.52 0-1.04.2-1.43.59L10.3 9.45l-7.72 7.72c-.78.78-.78 2.05 0 2.83L4 21.41c.39.39.9.59 1.41.59.51 0 1.02-.2 1.41-.59l7.78-7.78 2.81-2.81c.8-.78.8-2.07 0-2.86zM5.41 20L4 18.59l7.72-7.72 1.47 1.35L5.41 20z\"/>\n",
              "  </svg>\n",
              "      </button>\n",
              "      \n",
              "  <style>\n",
              "    .colab-df-container {\n",
              "      display:flex;\n",
              "      flex-wrap:wrap;\n",
              "      gap: 12px;\n",
              "    }\n",
              "\n",
              "    .colab-df-convert {\n",
              "      background-color: #E8F0FE;\n",
              "      border: none;\n",
              "      border-radius: 50%;\n",
              "      cursor: pointer;\n",
              "      display: none;\n",
              "      fill: #1967D2;\n",
              "      height: 32px;\n",
              "      padding: 0 0 0 0;\n",
              "      width: 32px;\n",
              "    }\n",
              "\n",
              "    .colab-df-convert:hover {\n",
              "      background-color: #E2EBFA;\n",
              "      box-shadow: 0px 1px 2px rgba(60, 64, 67, 0.3), 0px 1px 3px 1px rgba(60, 64, 67, 0.15);\n",
              "      fill: #174EA6;\n",
              "    }\n",
              "\n",
              "    [theme=dark] .colab-df-convert {\n",
              "      background-color: #3B4455;\n",
              "      fill: #D2E3FC;\n",
              "    }\n",
              "\n",
              "    [theme=dark] .colab-df-convert:hover {\n",
              "      background-color: #434B5C;\n",
              "      box-shadow: 0px 1px 3px 1px rgba(0, 0, 0, 0.15);\n",
              "      filter: drop-shadow(0px 1px 2px rgba(0, 0, 0, 0.3));\n",
              "      fill: #FFFFFF;\n",
              "    }\n",
              "  </style>\n",
              "\n",
              "      <script>\n",
              "        const buttonEl =\n",
              "          document.querySelector('#df-f23d2707-d668-4da5-b132-017b3b59ac32 button.colab-df-convert');\n",
              "        buttonEl.style.display =\n",
              "          google.colab.kernel.accessAllowed ? 'block' : 'none';\n",
              "\n",
              "        async function convertToInteractive(key) {\n",
              "          const element = document.querySelector('#df-f23d2707-d668-4da5-b132-017b3b59ac32');\n",
              "          const dataTable =\n",
              "            await google.colab.kernel.invokeFunction('convertToInteractive',\n",
              "                                                     [key], {});\n",
              "          if (!dataTable) return;\n",
              "\n",
              "          const docLinkHtml = 'Like what you see? Visit the ' +\n",
              "            '<a target=\"_blank\" href=https://colab.research.google.com/notebooks/data_table.ipynb>data table notebook</a>'\n",
              "            + ' to learn more about interactive tables.';\n",
              "          element.innerHTML = '';\n",
              "          dataTable['output_type'] = 'display_data';\n",
              "          await google.colab.output.renderOutput(dataTable, element);\n",
              "          const docLink = document.createElement('div');\n",
              "          docLink.innerHTML = docLinkHtml;\n",
              "          element.appendChild(docLink);\n",
              "        }\n",
              "      </script>\n",
              "    </div>\n",
              "  </div>\n",
              "  "
            ]
          },
          "metadata": {},
          "execution_count": 24
        }
      ]
    },
    {
      "cell_type": "code",
      "source": [],
      "metadata": {
        "id": "7SxyjlnRKCke"
      },
      "execution_count": null,
      "outputs": []
    },
    {
      "cell_type": "code",
      "source": [
        "max_rows_per_label_train = 2000\n",
        "train = df_train.groupby('Label').apply(lambda x: x.sample(min(len(x), max_rows_per_label_train)))\n"
      ],
      "metadata": {
        "id": "ZaKBWQr3Lb2N"
      },
      "execution_count": null,
      "outputs": []
    },
    {
      "cell_type": "code",
      "source": [
        "max_rows_per_label_test = 500\n",
        "test = df_test.groupby('Label').apply(lambda x: x.sample(min(len(x), max_rows_per_label_test)))"
      ],
      "metadata": {
        "id": "TgmYqR8cNfM9"
      },
      "execution_count": null,
      "outputs": []
    },
    {
      "cell_type": "code",
      "source": [
        "train.head()"
      ],
      "metadata": {
        "colab": {
          "base_uri": "https://localhost:8080/",
          "height": 238
        },
        "id": "U8x2wvBHLgq1",
        "outputId": "553cd5c6-90c5-4fc1-daf3-6410cc8c4e50"
      },
      "execution_count": null,
      "outputs": [
        {
          "output_type": "execute_result",
          "data": {
            "text/plain": [
              "             Label                                               Text\n",
              "Label                                                                \n",
              "1     1866       1  Ill. Plans Online Network to Import Drugs CHIC...\n",
              "      69293      1  Bush Signs  #36;136B Corporate Tax Cut Bill (A...\n",
              "      97034      1  Slumping Dollar to Dominate G-20 Meeting (AP) ...\n",
              "      56568      1  War crimes suspect surrenders to Serbs One of ...\n",
              "      41289      1  Palestinian Gunmen Kidnap CNN Producer (AP) AP..."
            ],
            "text/html": [
              "\n",
              "  <div id=\"df-b68023cd-9022-4495-9022-8d23c7da751f\">\n",
              "    <div class=\"colab-df-container\">\n",
              "      <div>\n",
              "<style scoped>\n",
              "    .dataframe tbody tr th:only-of-type {\n",
              "        vertical-align: middle;\n",
              "    }\n",
              "\n",
              "    .dataframe tbody tr th {\n",
              "        vertical-align: top;\n",
              "    }\n",
              "\n",
              "    .dataframe thead th {\n",
              "        text-align: right;\n",
              "    }\n",
              "</style>\n",
              "<table border=\"1\" class=\"dataframe\">\n",
              "  <thead>\n",
              "    <tr style=\"text-align: right;\">\n",
              "      <th></th>\n",
              "      <th></th>\n",
              "      <th>Label</th>\n",
              "      <th>Text</th>\n",
              "    </tr>\n",
              "    <tr>\n",
              "      <th>Label</th>\n",
              "      <th></th>\n",
              "      <th></th>\n",
              "      <th></th>\n",
              "    </tr>\n",
              "  </thead>\n",
              "  <tbody>\n",
              "    <tr>\n",
              "      <th rowspan=\"5\" valign=\"top\">1</th>\n",
              "      <th>1866</th>\n",
              "      <td>1</td>\n",
              "      <td>Ill. Plans Online Network to Import Drugs CHIC...</td>\n",
              "    </tr>\n",
              "    <tr>\n",
              "      <th>69293</th>\n",
              "      <td>1</td>\n",
              "      <td>Bush Signs  #36;136B Corporate Tax Cut Bill (A...</td>\n",
              "    </tr>\n",
              "    <tr>\n",
              "      <th>97034</th>\n",
              "      <td>1</td>\n",
              "      <td>Slumping Dollar to Dominate G-20 Meeting (AP) ...</td>\n",
              "    </tr>\n",
              "    <tr>\n",
              "      <th>56568</th>\n",
              "      <td>1</td>\n",
              "      <td>War crimes suspect surrenders to Serbs One of ...</td>\n",
              "    </tr>\n",
              "    <tr>\n",
              "      <th>41289</th>\n",
              "      <td>1</td>\n",
              "      <td>Palestinian Gunmen Kidnap CNN Producer (AP) AP...</td>\n",
              "    </tr>\n",
              "  </tbody>\n",
              "</table>\n",
              "</div>\n",
              "      <button class=\"colab-df-convert\" onclick=\"convertToInteractive('df-b68023cd-9022-4495-9022-8d23c7da751f')\"\n",
              "              title=\"Convert this dataframe to an interactive table.\"\n",
              "              style=\"display:none;\">\n",
              "        \n",
              "  <svg xmlns=\"http://www.w3.org/2000/svg\" height=\"24px\"viewBox=\"0 0 24 24\"\n",
              "       width=\"24px\">\n",
              "    <path d=\"M0 0h24v24H0V0z\" fill=\"none\"/>\n",
              "    <path d=\"M18.56 5.44l.94 2.06.94-2.06 2.06-.94-2.06-.94-.94-2.06-.94 2.06-2.06.94zm-11 1L8.5 8.5l.94-2.06 2.06-.94-2.06-.94L8.5 2.5l-.94 2.06-2.06.94zm10 10l.94 2.06.94-2.06 2.06-.94-2.06-.94-.94-2.06-.94 2.06-2.06.94z\"/><path d=\"M17.41 7.96l-1.37-1.37c-.4-.4-.92-.59-1.43-.59-.52 0-1.04.2-1.43.59L10.3 9.45l-7.72 7.72c-.78.78-.78 2.05 0 2.83L4 21.41c.39.39.9.59 1.41.59.51 0 1.02-.2 1.41-.59l7.78-7.78 2.81-2.81c.8-.78.8-2.07 0-2.86zM5.41 20L4 18.59l7.72-7.72 1.47 1.35L5.41 20z\"/>\n",
              "  </svg>\n",
              "      </button>\n",
              "      \n",
              "  <style>\n",
              "    .colab-df-container {\n",
              "      display:flex;\n",
              "      flex-wrap:wrap;\n",
              "      gap: 12px;\n",
              "    }\n",
              "\n",
              "    .colab-df-convert {\n",
              "      background-color: #E8F0FE;\n",
              "      border: none;\n",
              "      border-radius: 50%;\n",
              "      cursor: pointer;\n",
              "      display: none;\n",
              "      fill: #1967D2;\n",
              "      height: 32px;\n",
              "      padding: 0 0 0 0;\n",
              "      width: 32px;\n",
              "    }\n",
              "\n",
              "    .colab-df-convert:hover {\n",
              "      background-color: #E2EBFA;\n",
              "      box-shadow: 0px 1px 2px rgba(60, 64, 67, 0.3), 0px 1px 3px 1px rgba(60, 64, 67, 0.15);\n",
              "      fill: #174EA6;\n",
              "    }\n",
              "\n",
              "    [theme=dark] .colab-df-convert {\n",
              "      background-color: #3B4455;\n",
              "      fill: #D2E3FC;\n",
              "    }\n",
              "\n",
              "    [theme=dark] .colab-df-convert:hover {\n",
              "      background-color: #434B5C;\n",
              "      box-shadow: 0px 1px 3px 1px rgba(0, 0, 0, 0.15);\n",
              "      filter: drop-shadow(0px 1px 2px rgba(0, 0, 0, 0.3));\n",
              "      fill: #FFFFFF;\n",
              "    }\n",
              "  </style>\n",
              "\n",
              "      <script>\n",
              "        const buttonEl =\n",
              "          document.querySelector('#df-b68023cd-9022-4495-9022-8d23c7da751f button.colab-df-convert');\n",
              "        buttonEl.style.display =\n",
              "          google.colab.kernel.accessAllowed ? 'block' : 'none';\n",
              "\n",
              "        async function convertToInteractive(key) {\n",
              "          const element = document.querySelector('#df-b68023cd-9022-4495-9022-8d23c7da751f');\n",
              "          const dataTable =\n",
              "            await google.colab.kernel.invokeFunction('convertToInteractive',\n",
              "                                                     [key], {});\n",
              "          if (!dataTable) return;\n",
              "\n",
              "          const docLinkHtml = 'Like what you see? Visit the ' +\n",
              "            '<a target=\"_blank\" href=https://colab.research.google.com/notebooks/data_table.ipynb>data table notebook</a>'\n",
              "            + ' to learn more about interactive tables.';\n",
              "          element.innerHTML = '';\n",
              "          dataTable['output_type'] = 'display_data';\n",
              "          await google.colab.output.renderOutput(dataTable, element);\n",
              "          const docLink = document.createElement('div');\n",
              "          docLink.innerHTML = docLinkHtml;\n",
              "          element.appendChild(docLink);\n",
              "        }\n",
              "      </script>\n",
              "    </div>\n",
              "  </div>\n",
              "  "
            ]
          },
          "metadata": {},
          "execution_count": 27
        }
      ]
    },
    {
      "cell_type": "code",
      "source": [
        "train = train.reset_index(drop=True)\n",
        "test = test.reset_index(drop=True)"
      ],
      "metadata": {
        "id": "XMgklHSnLjjd"
      },
      "execution_count": null,
      "outputs": []
    },
    {
      "cell_type": "markdown",
      "source": [
        "From 30000 text im keeping 2000 text for each label to easy my training process"
      ],
      "metadata": {
        "id": "_aNrnlmb6H3m"
      }
    },
    {
      "cell_type": "code",
      "source": [
        "train.groupby('Label').count()"
      ],
      "metadata": {
        "colab": {
          "base_uri": "https://localhost:8080/",
          "height": 206
        },
        "id": "atP9BoSIMJqt",
        "outputId": "11266188-1735-42d2-ff3a-73a94ee44292"
      },
      "execution_count": null,
      "outputs": [
        {
          "output_type": "execute_result",
          "data": {
            "text/plain": [
              "       Text\n",
              "Label      \n",
              "1      2000\n",
              "2      2000\n",
              "3      2000\n",
              "4      2000"
            ],
            "text/html": [
              "\n",
              "  <div id=\"df-176177b4-2620-432a-b2ff-f3c9ec9727e6\">\n",
              "    <div class=\"colab-df-container\">\n",
              "      <div>\n",
              "<style scoped>\n",
              "    .dataframe tbody tr th:only-of-type {\n",
              "        vertical-align: middle;\n",
              "    }\n",
              "\n",
              "    .dataframe tbody tr th {\n",
              "        vertical-align: top;\n",
              "    }\n",
              "\n",
              "    .dataframe thead th {\n",
              "        text-align: right;\n",
              "    }\n",
              "</style>\n",
              "<table border=\"1\" class=\"dataframe\">\n",
              "  <thead>\n",
              "    <tr style=\"text-align: right;\">\n",
              "      <th></th>\n",
              "      <th>Text</th>\n",
              "    </tr>\n",
              "    <tr>\n",
              "      <th>Label</th>\n",
              "      <th></th>\n",
              "    </tr>\n",
              "  </thead>\n",
              "  <tbody>\n",
              "    <tr>\n",
              "      <th>1</th>\n",
              "      <td>2000</td>\n",
              "    </tr>\n",
              "    <tr>\n",
              "      <th>2</th>\n",
              "      <td>2000</td>\n",
              "    </tr>\n",
              "    <tr>\n",
              "      <th>3</th>\n",
              "      <td>2000</td>\n",
              "    </tr>\n",
              "    <tr>\n",
              "      <th>4</th>\n",
              "      <td>2000</td>\n",
              "    </tr>\n",
              "  </tbody>\n",
              "</table>\n",
              "</div>\n",
              "      <button class=\"colab-df-convert\" onclick=\"convertToInteractive('df-176177b4-2620-432a-b2ff-f3c9ec9727e6')\"\n",
              "              title=\"Convert this dataframe to an interactive table.\"\n",
              "              style=\"display:none;\">\n",
              "        \n",
              "  <svg xmlns=\"http://www.w3.org/2000/svg\" height=\"24px\"viewBox=\"0 0 24 24\"\n",
              "       width=\"24px\">\n",
              "    <path d=\"M0 0h24v24H0V0z\" fill=\"none\"/>\n",
              "    <path d=\"M18.56 5.44l.94 2.06.94-2.06 2.06-.94-2.06-.94-.94-2.06-.94 2.06-2.06.94zm-11 1L8.5 8.5l.94-2.06 2.06-.94-2.06-.94L8.5 2.5l-.94 2.06-2.06.94zm10 10l.94 2.06.94-2.06 2.06-.94-2.06-.94-.94-2.06-.94 2.06-2.06.94z\"/><path d=\"M17.41 7.96l-1.37-1.37c-.4-.4-.92-.59-1.43-.59-.52 0-1.04.2-1.43.59L10.3 9.45l-7.72 7.72c-.78.78-.78 2.05 0 2.83L4 21.41c.39.39.9.59 1.41.59.51 0 1.02-.2 1.41-.59l7.78-7.78 2.81-2.81c.8-.78.8-2.07 0-2.86zM5.41 20L4 18.59l7.72-7.72 1.47 1.35L5.41 20z\"/>\n",
              "  </svg>\n",
              "      </button>\n",
              "      \n",
              "  <style>\n",
              "    .colab-df-container {\n",
              "      display:flex;\n",
              "      flex-wrap:wrap;\n",
              "      gap: 12px;\n",
              "    }\n",
              "\n",
              "    .colab-df-convert {\n",
              "      background-color: #E8F0FE;\n",
              "      border: none;\n",
              "      border-radius: 50%;\n",
              "      cursor: pointer;\n",
              "      display: none;\n",
              "      fill: #1967D2;\n",
              "      height: 32px;\n",
              "      padding: 0 0 0 0;\n",
              "      width: 32px;\n",
              "    }\n",
              "\n",
              "    .colab-df-convert:hover {\n",
              "      background-color: #E2EBFA;\n",
              "      box-shadow: 0px 1px 2px rgba(60, 64, 67, 0.3), 0px 1px 3px 1px rgba(60, 64, 67, 0.15);\n",
              "      fill: #174EA6;\n",
              "    }\n",
              "\n",
              "    [theme=dark] .colab-df-convert {\n",
              "      background-color: #3B4455;\n",
              "      fill: #D2E3FC;\n",
              "    }\n",
              "\n",
              "    [theme=dark] .colab-df-convert:hover {\n",
              "      background-color: #434B5C;\n",
              "      box-shadow: 0px 1px 3px 1px rgba(0, 0, 0, 0.15);\n",
              "      filter: drop-shadow(0px 1px 2px rgba(0, 0, 0, 0.3));\n",
              "      fill: #FFFFFF;\n",
              "    }\n",
              "  </style>\n",
              "\n",
              "      <script>\n",
              "        const buttonEl =\n",
              "          document.querySelector('#df-176177b4-2620-432a-b2ff-f3c9ec9727e6 button.colab-df-convert');\n",
              "        buttonEl.style.display =\n",
              "          google.colab.kernel.accessAllowed ? 'block' : 'none';\n",
              "\n",
              "        async function convertToInteractive(key) {\n",
              "          const element = document.querySelector('#df-176177b4-2620-432a-b2ff-f3c9ec9727e6');\n",
              "          const dataTable =\n",
              "            await google.colab.kernel.invokeFunction('convertToInteractive',\n",
              "                                                     [key], {});\n",
              "          if (!dataTable) return;\n",
              "\n",
              "          const docLinkHtml = 'Like what you see? Visit the ' +\n",
              "            '<a target=\"_blank\" href=https://colab.research.google.com/notebooks/data_table.ipynb>data table notebook</a>'\n",
              "            + ' to learn more about interactive tables.';\n",
              "          element.innerHTML = '';\n",
              "          dataTable['output_type'] = 'display_data';\n",
              "          await google.colab.output.renderOutput(dataTable, element);\n",
              "          const docLink = document.createElement('div');\n",
              "          docLink.innerHTML = docLinkHtml;\n",
              "          element.appendChild(docLink);\n",
              "        }\n",
              "      </script>\n",
              "    </div>\n",
              "  </div>\n",
              "  "
            ]
          },
          "metadata": {},
          "execution_count": 29
        }
      ]
    },
    {
      "cell_type": "markdown",
      "source": [
        "Also there are 500 text each for testing"
      ],
      "metadata": {
        "id": "_iHQWRNe6VTW"
      }
    },
    {
      "cell_type": "code",
      "source": [
        "test.groupby('Label').count()"
      ],
      "metadata": {
        "colab": {
          "base_uri": "https://localhost:8080/",
          "height": 206
        },
        "id": "O3uLwncGPxfG",
        "outputId": "1220da37-2dd4-4983-89ba-9f4d94ced348"
      },
      "execution_count": null,
      "outputs": [
        {
          "output_type": "execute_result",
          "data": {
            "text/plain": [
              "       Text\n",
              "Label      \n",
              "1       500\n",
              "2       500\n",
              "3       500\n",
              "4       500"
            ],
            "text/html": [
              "\n",
              "  <div id=\"df-bbb15d56-4342-42ad-8581-5aaa305f1064\">\n",
              "    <div class=\"colab-df-container\">\n",
              "      <div>\n",
              "<style scoped>\n",
              "    .dataframe tbody tr th:only-of-type {\n",
              "        vertical-align: middle;\n",
              "    }\n",
              "\n",
              "    .dataframe tbody tr th {\n",
              "        vertical-align: top;\n",
              "    }\n",
              "\n",
              "    .dataframe thead th {\n",
              "        text-align: right;\n",
              "    }\n",
              "</style>\n",
              "<table border=\"1\" class=\"dataframe\">\n",
              "  <thead>\n",
              "    <tr style=\"text-align: right;\">\n",
              "      <th></th>\n",
              "      <th>Text</th>\n",
              "    </tr>\n",
              "    <tr>\n",
              "      <th>Label</th>\n",
              "      <th></th>\n",
              "    </tr>\n",
              "  </thead>\n",
              "  <tbody>\n",
              "    <tr>\n",
              "      <th>1</th>\n",
              "      <td>500</td>\n",
              "    </tr>\n",
              "    <tr>\n",
              "      <th>2</th>\n",
              "      <td>500</td>\n",
              "    </tr>\n",
              "    <tr>\n",
              "      <th>3</th>\n",
              "      <td>500</td>\n",
              "    </tr>\n",
              "    <tr>\n",
              "      <th>4</th>\n",
              "      <td>500</td>\n",
              "    </tr>\n",
              "  </tbody>\n",
              "</table>\n",
              "</div>\n",
              "      <button class=\"colab-df-convert\" onclick=\"convertToInteractive('df-bbb15d56-4342-42ad-8581-5aaa305f1064')\"\n",
              "              title=\"Convert this dataframe to an interactive table.\"\n",
              "              style=\"display:none;\">\n",
              "        \n",
              "  <svg xmlns=\"http://www.w3.org/2000/svg\" height=\"24px\"viewBox=\"0 0 24 24\"\n",
              "       width=\"24px\">\n",
              "    <path d=\"M0 0h24v24H0V0z\" fill=\"none\"/>\n",
              "    <path d=\"M18.56 5.44l.94 2.06.94-2.06 2.06-.94-2.06-.94-.94-2.06-.94 2.06-2.06.94zm-11 1L8.5 8.5l.94-2.06 2.06-.94-2.06-.94L8.5 2.5l-.94 2.06-2.06.94zm10 10l.94 2.06.94-2.06 2.06-.94-2.06-.94-.94-2.06-.94 2.06-2.06.94z\"/><path d=\"M17.41 7.96l-1.37-1.37c-.4-.4-.92-.59-1.43-.59-.52 0-1.04.2-1.43.59L10.3 9.45l-7.72 7.72c-.78.78-.78 2.05 0 2.83L4 21.41c.39.39.9.59 1.41.59.51 0 1.02-.2 1.41-.59l7.78-7.78 2.81-2.81c.8-.78.8-2.07 0-2.86zM5.41 20L4 18.59l7.72-7.72 1.47 1.35L5.41 20z\"/>\n",
              "  </svg>\n",
              "      </button>\n",
              "      \n",
              "  <style>\n",
              "    .colab-df-container {\n",
              "      display:flex;\n",
              "      flex-wrap:wrap;\n",
              "      gap: 12px;\n",
              "    }\n",
              "\n",
              "    .colab-df-convert {\n",
              "      background-color: #E8F0FE;\n",
              "      border: none;\n",
              "      border-radius: 50%;\n",
              "      cursor: pointer;\n",
              "      display: none;\n",
              "      fill: #1967D2;\n",
              "      height: 32px;\n",
              "      padding: 0 0 0 0;\n",
              "      width: 32px;\n",
              "    }\n",
              "\n",
              "    .colab-df-convert:hover {\n",
              "      background-color: #E2EBFA;\n",
              "      box-shadow: 0px 1px 2px rgba(60, 64, 67, 0.3), 0px 1px 3px 1px rgba(60, 64, 67, 0.15);\n",
              "      fill: #174EA6;\n",
              "    }\n",
              "\n",
              "    [theme=dark] .colab-df-convert {\n",
              "      background-color: #3B4455;\n",
              "      fill: #D2E3FC;\n",
              "    }\n",
              "\n",
              "    [theme=dark] .colab-df-convert:hover {\n",
              "      background-color: #434B5C;\n",
              "      box-shadow: 0px 1px 3px 1px rgba(0, 0, 0, 0.15);\n",
              "      filter: drop-shadow(0px 1px 2px rgba(0, 0, 0, 0.3));\n",
              "      fill: #FFFFFF;\n",
              "    }\n",
              "  </style>\n",
              "\n",
              "      <script>\n",
              "        const buttonEl =\n",
              "          document.querySelector('#df-bbb15d56-4342-42ad-8581-5aaa305f1064 button.colab-df-convert');\n",
              "        buttonEl.style.display =\n",
              "          google.colab.kernel.accessAllowed ? 'block' : 'none';\n",
              "\n",
              "        async function convertToInteractive(key) {\n",
              "          const element = document.querySelector('#df-bbb15d56-4342-42ad-8581-5aaa305f1064');\n",
              "          const dataTable =\n",
              "            await google.colab.kernel.invokeFunction('convertToInteractive',\n",
              "                                                     [key], {});\n",
              "          if (!dataTable) return;\n",
              "\n",
              "          const docLinkHtml = 'Like what you see? Visit the ' +\n",
              "            '<a target=\"_blank\" href=https://colab.research.google.com/notebooks/data_table.ipynb>data table notebook</a>'\n",
              "            + ' to learn more about interactive tables.';\n",
              "          element.innerHTML = '';\n",
              "          dataTable['output_type'] = 'display_data';\n",
              "          await google.colab.output.renderOutput(dataTable, element);\n",
              "          const docLink = document.createElement('div');\n",
              "          docLink.innerHTML = docLinkHtml;\n",
              "          element.appendChild(docLink);\n",
              "        }\n",
              "      </script>\n",
              "    </div>\n",
              "  </div>\n",
              "  "
            ]
          },
          "metadata": {},
          "execution_count": 30
        }
      ]
    },
    {
      "cell_type": "code",
      "source": [
        "train.head()"
      ],
      "metadata": {
        "colab": {
          "base_uri": "https://localhost:8080/",
          "height": 206
        },
        "id": "ivfx3m-eRH8z",
        "outputId": "805ba43b-e12f-419b-849c-3422d14ed9f2"
      },
      "execution_count": null,
      "outputs": [
        {
          "output_type": "execute_result",
          "data": {
            "text/plain": [
              "   Label                                               Text\n",
              "0      1  Ill. Plans Online Network to Import Drugs CHIC...\n",
              "1      1  Bush Signs  #36;136B Corporate Tax Cut Bill (A...\n",
              "2      1  Slumping Dollar to Dominate G-20 Meeting (AP) ...\n",
              "3      1  War crimes suspect surrenders to Serbs One of ...\n",
              "4      1  Palestinian Gunmen Kidnap CNN Producer (AP) AP..."
            ],
            "text/html": [
              "\n",
              "  <div id=\"df-4a6591e2-572d-42b9-9561-1a2ea8f7792f\">\n",
              "    <div class=\"colab-df-container\">\n",
              "      <div>\n",
              "<style scoped>\n",
              "    .dataframe tbody tr th:only-of-type {\n",
              "        vertical-align: middle;\n",
              "    }\n",
              "\n",
              "    .dataframe tbody tr th {\n",
              "        vertical-align: top;\n",
              "    }\n",
              "\n",
              "    .dataframe thead th {\n",
              "        text-align: right;\n",
              "    }\n",
              "</style>\n",
              "<table border=\"1\" class=\"dataframe\">\n",
              "  <thead>\n",
              "    <tr style=\"text-align: right;\">\n",
              "      <th></th>\n",
              "      <th>Label</th>\n",
              "      <th>Text</th>\n",
              "    </tr>\n",
              "  </thead>\n",
              "  <tbody>\n",
              "    <tr>\n",
              "      <th>0</th>\n",
              "      <td>1</td>\n",
              "      <td>Ill. Plans Online Network to Import Drugs CHIC...</td>\n",
              "    </tr>\n",
              "    <tr>\n",
              "      <th>1</th>\n",
              "      <td>1</td>\n",
              "      <td>Bush Signs  #36;136B Corporate Tax Cut Bill (A...</td>\n",
              "    </tr>\n",
              "    <tr>\n",
              "      <th>2</th>\n",
              "      <td>1</td>\n",
              "      <td>Slumping Dollar to Dominate G-20 Meeting (AP) ...</td>\n",
              "    </tr>\n",
              "    <tr>\n",
              "      <th>3</th>\n",
              "      <td>1</td>\n",
              "      <td>War crimes suspect surrenders to Serbs One of ...</td>\n",
              "    </tr>\n",
              "    <tr>\n",
              "      <th>4</th>\n",
              "      <td>1</td>\n",
              "      <td>Palestinian Gunmen Kidnap CNN Producer (AP) AP...</td>\n",
              "    </tr>\n",
              "  </tbody>\n",
              "</table>\n",
              "</div>\n",
              "      <button class=\"colab-df-convert\" onclick=\"convertToInteractive('df-4a6591e2-572d-42b9-9561-1a2ea8f7792f')\"\n",
              "              title=\"Convert this dataframe to an interactive table.\"\n",
              "              style=\"display:none;\">\n",
              "        \n",
              "  <svg xmlns=\"http://www.w3.org/2000/svg\" height=\"24px\"viewBox=\"0 0 24 24\"\n",
              "       width=\"24px\">\n",
              "    <path d=\"M0 0h24v24H0V0z\" fill=\"none\"/>\n",
              "    <path d=\"M18.56 5.44l.94 2.06.94-2.06 2.06-.94-2.06-.94-.94-2.06-.94 2.06-2.06.94zm-11 1L8.5 8.5l.94-2.06 2.06-.94-2.06-.94L8.5 2.5l-.94 2.06-2.06.94zm10 10l.94 2.06.94-2.06 2.06-.94-2.06-.94-.94-2.06-.94 2.06-2.06.94z\"/><path d=\"M17.41 7.96l-1.37-1.37c-.4-.4-.92-.59-1.43-.59-.52 0-1.04.2-1.43.59L10.3 9.45l-7.72 7.72c-.78.78-.78 2.05 0 2.83L4 21.41c.39.39.9.59 1.41.59.51 0 1.02-.2 1.41-.59l7.78-7.78 2.81-2.81c.8-.78.8-2.07 0-2.86zM5.41 20L4 18.59l7.72-7.72 1.47 1.35L5.41 20z\"/>\n",
              "  </svg>\n",
              "      </button>\n",
              "      \n",
              "  <style>\n",
              "    .colab-df-container {\n",
              "      display:flex;\n",
              "      flex-wrap:wrap;\n",
              "      gap: 12px;\n",
              "    }\n",
              "\n",
              "    .colab-df-convert {\n",
              "      background-color: #E8F0FE;\n",
              "      border: none;\n",
              "      border-radius: 50%;\n",
              "      cursor: pointer;\n",
              "      display: none;\n",
              "      fill: #1967D2;\n",
              "      height: 32px;\n",
              "      padding: 0 0 0 0;\n",
              "      width: 32px;\n",
              "    }\n",
              "\n",
              "    .colab-df-convert:hover {\n",
              "      background-color: #E2EBFA;\n",
              "      box-shadow: 0px 1px 2px rgba(60, 64, 67, 0.3), 0px 1px 3px 1px rgba(60, 64, 67, 0.15);\n",
              "      fill: #174EA6;\n",
              "    }\n",
              "\n",
              "    [theme=dark] .colab-df-convert {\n",
              "      background-color: #3B4455;\n",
              "      fill: #D2E3FC;\n",
              "    }\n",
              "\n",
              "    [theme=dark] .colab-df-convert:hover {\n",
              "      background-color: #434B5C;\n",
              "      box-shadow: 0px 1px 3px 1px rgba(0, 0, 0, 0.15);\n",
              "      filter: drop-shadow(0px 1px 2px rgba(0, 0, 0, 0.3));\n",
              "      fill: #FFFFFF;\n",
              "    }\n",
              "  </style>\n",
              "\n",
              "      <script>\n",
              "        const buttonEl =\n",
              "          document.querySelector('#df-4a6591e2-572d-42b9-9561-1a2ea8f7792f button.colab-df-convert');\n",
              "        buttonEl.style.display =\n",
              "          google.colab.kernel.accessAllowed ? 'block' : 'none';\n",
              "\n",
              "        async function convertToInteractive(key) {\n",
              "          const element = document.querySelector('#df-4a6591e2-572d-42b9-9561-1a2ea8f7792f');\n",
              "          const dataTable =\n",
              "            await google.colab.kernel.invokeFunction('convertToInteractive',\n",
              "                                                     [key], {});\n",
              "          if (!dataTable) return;\n",
              "\n",
              "          const docLinkHtml = 'Like what you see? Visit the ' +\n",
              "            '<a target=\"_blank\" href=https://colab.research.google.com/notebooks/data_table.ipynb>data table notebook</a>'\n",
              "            + ' to learn more about interactive tables.';\n",
              "          element.innerHTML = '';\n",
              "          dataTable['output_type'] = 'display_data';\n",
              "          await google.colab.output.renderOutput(dataTable, element);\n",
              "          const docLink = document.createElement('div');\n",
              "          docLink.innerHTML = docLinkHtml;\n",
              "          element.appendChild(docLink);\n",
              "        }\n",
              "      </script>\n",
              "    </div>\n",
              "  </div>\n",
              "  "
            ]
          },
          "metadata": {},
          "execution_count": 31
        }
      ]
    },
    {
      "cell_type": "markdown",
      "source": [
        "# Pre-Processing "
      ],
      "metadata": {
        "id": "XPcu-mM96dN4"
      }
    },
    {
      "cell_type": "code",
      "source": [
        "nltk.download('stopwords')\n",
        "stop_words = set(stopwords.words('english'))"
      ],
      "metadata": {
        "colab": {
          "base_uri": "https://localhost:8080/"
        },
        "id": "vjq2lQS3P-FV",
        "outputId": "39fb917a-e060-4258-b6bf-2f90ed88c3f1"
      },
      "execution_count": null,
      "outputs": [
        {
          "output_type": "stream",
          "name": "stderr",
          "text": [
            "[nltk_data] Downloading package stopwords to /root/nltk_data...\n",
            "[nltk_data]   Package stopwords is already up-to-date!\n"
          ]
        }
      ]
    },
    {
      "cell_type": "code",
      "source": [
        "def remove_stopwords(text):\n",
        "    words = text.split()\n",
        "    words = [word for word in words if word.lower() not in stopwords.words('english')]\n",
        "    return \" \".join(words)"
      ],
      "metadata": {
        "id": "6BBXn_R9Qn2-"
      },
      "execution_count": null,
      "outputs": []
    },
    {
      "cell_type": "code",
      "source": [
        "train['Category'] = train['Label'].map(TEXT_LABELS)"
      ],
      "metadata": {
        "id": "diORUPkWUb3P"
      },
      "execution_count": null,
      "outputs": []
    },
    {
      "cell_type": "code",
      "source": [
        "train.groupby('Category').Label.value_counts().plot(kind = \"bar\", color = [\"pink\", \"orange\", \"red\", \"yellow\", \"blue\"])\n",
        "plt.xlabel(\"Category of data\")\n",
        "plt.title(\"Visulaize numbers of Category of data\")\n",
        "plt.show()"
      ],
      "metadata": {
        "colab": {
          "base_uri": "https://localhost:8080/",
          "height": 350
        },
        "id": "RZT7JnyqQr-e",
        "outputId": "d4f0ebd5-6a96-41e0-daa5-ddf3aab4cdd7"
      },
      "execution_count": null,
      "outputs": [
        {
          "output_type": "display_data",
          "data": {
            "text/plain": [
              "<Figure size 432x288 with 1 Axes>"
            ],
            "image/png": "[encoded data removed]"
          },
          "metadata": {
            "needs_background": "light"
          }
        }
      ]
    },
    {
      "cell_type": "code",
      "source": [
        "train['clean_text'] = train['Text'].apply(remove_stopwords)"
      ],
      "metadata": {
        "id": "A_e_dJD9SiS0"
      },
      "execution_count": null,
      "outputs": []
    },
    {
      "cell_type": "code",
      "source": [
        "test['clean_text']=test['Text'].apply(remove_stopwords)"
      ],
      "metadata": {
        "id": "1IoyppN_VobF"
      },
      "execution_count": null,
      "outputs": []
    },
    {
      "cell_type": "code",
      "source": [
        "def special_char(text):\n",
        "  reviews = ''\n",
        "  for x in text:\n",
        "    if x.isalnum():\n",
        "      reviews = reviews + x\n",
        "    else:\n",
        "      reviews = reviews + ' '\n",
        "  return reviews"
      ],
      "metadata": {
        "id": "2ZcqrJk-V6sc"
      },
      "execution_count": null,
      "outputs": []
    },
    {
      "cell_type": "code",
      "source": [
        "test.head()"
      ],
      "metadata": {
        "colab": {
          "base_uri": "https://localhost:8080/",
          "height": 206
        },
        "id": "l4stHSP_W9El",
        "outputId": "8f822e58-8056-4995-c813-7f966105967c"
      },
      "execution_count": null,
      "outputs": [
        {
          "output_type": "execute_result",
          "data": {
            "text/plain": [
              "   Label                                               Text  \\\n",
              "0      1  Explosion in Kathmandu injures 30 At least 30 ...   \n",
              "1      1  China Says Taiwan Spy Also Operated in U.S. - ...   \n",
              "2      1  U.S. Forces Push Into Heart of Fallujah U.S. A...   \n",
              "3      1  Pinochet is ordered to stand trial for murder ...   \n",
              "4      1  Iran Says EU Nuke Negotiations in Final Stages...   \n",
              "\n",
              "                                          clean_text  \n",
              "0  Explosion Kathmandu injures 30 least 30 people...  \n",
              "1  China Says Taiwan Spy Also Operated U.S. - Med...  \n",
              "2  U.S. Forces Push Heart Fallujah U.S. Army Mari...  \n",
              "3  Pinochet ordered stand trial murder Augusto Pi...  \n",
              "4  Iran Says EU Nuke Negotiations Final Stages TE...  "
            ],
            "text/html": [
              "\n",
              "  <div id=\"df-96891cf0-b576-4ce4-9037-374e6b17e962\">\n",
              "    <div class=\"colab-df-container\">\n",
              "      <div>\n",
              "<style scoped>\n",
              "    .dataframe tbody tr th:only-of-type {\n",
              "        vertical-align: middle;\n",
              "    }\n",
              "\n",
              "    .dataframe tbody tr th {\n",
              "        vertical-align: top;\n",
              "    }\n",
              "\n",
              "    .dataframe thead th {\n",
              "        text-align: right;\n",
              "    }\n",
              "</style>\n",
              "<table border=\"1\" class=\"dataframe\">\n",
              "  <thead>\n",
              "    <tr style=\"text-align: right;\">\n",
              "      <th></th>\n",
              "      <th>Label</th>\n",
              "      <th>Text</th>\n",
              "      <th>clean_text</th>\n",
              "    </tr>\n",
              "  </thead>\n",
              "  <tbody>\n",
              "    <tr>\n",
              "      <th>0</th>\n",
              "      <td>1</td>\n",
              "      <td>Explosion in Kathmandu injures 30 At least 30 ...</td>\n",
              "      <td>Explosion Kathmandu injures 30 least 30 people...</td>\n",
              "    </tr>\n",
              "    <tr>\n",
              "      <th>1</th>\n",
              "      <td>1</td>\n",
              "      <td>China Says Taiwan Spy Also Operated in U.S. - ...</td>\n",
              "      <td>China Says Taiwan Spy Also Operated U.S. - Med...</td>\n",
              "    </tr>\n",
              "    <tr>\n",
              "      <th>2</th>\n",
              "      <td>1</td>\n",
              "      <td>U.S. Forces Push Into Heart of Fallujah U.S. A...</td>\n",
              "      <td>U.S. Forces Push Heart Fallujah U.S. Army Mari...</td>\n",
              "    </tr>\n",
              "    <tr>\n",
              "      <th>3</th>\n",
              "      <td>1</td>\n",
              "      <td>Pinochet is ordered to stand trial for murder ...</td>\n",
              "      <td>Pinochet ordered stand trial murder Augusto Pi...</td>\n",
              "    </tr>\n",
              "    <tr>\n",
              "      <th>4</th>\n",
              "      <td>1</td>\n",
              "      <td>Iran Says EU Nuke Negotiations in Final Stages...</td>\n",
              "      <td>Iran Says EU Nuke Negotiations Final Stages TE...</td>\n",
              "    </tr>\n",
              "  </tbody>\n",
              "</table>\n",
              "</div>\n",
              "      <button class=\"colab-df-convert\" onclick=\"convertToInteractive('df-96891cf0-b576-4ce4-9037-374e6b17e962')\"\n",
              "              title=\"Convert this dataframe to an interactive table.\"\n",
              "              style=\"display:none;\">\n",
              "        \n",
              "  <svg xmlns=\"http://www.w3.org/2000/svg\" height=\"24px\"viewBox=\"0 0 24 24\"\n",
              "       width=\"24px\">\n",
              "    <path d=\"M0 0h24v24H0V0z\" fill=\"none\"/>\n",
              "    <path d=\"M18.56 5.44l.94 2.06.94-2.06 2.06-.94-2.06-.94-.94-2.06-.94 2.06-2.06.94zm-11 1L8.5 8.5l.94-2.06 2.06-.94-2.06-.94L8.5 2.5l-.94 2.06-2.06.94zm10 10l.94 2.06.94-2.06 2.06-.94-2.06-.94-.94-2.06-.94 2.06-2.06.94z\"/><path d=\"M17.41 7.96l-1.37-1.37c-.4-.4-.92-.59-1.43-.59-.52 0-1.04.2-1.43.59L10.3 9.45l-7.72 7.72c-.78.78-.78 2.05 0 2.83L4 21.41c.39.39.9.59 1.41.59.51 0 1.02-.2 1.41-.59l7.78-7.78 2.81-2.81c.8-.78.8-2.07 0-2.86zM5.41 20L4 18.59l7.72-7.72 1.47 1.35L5.41 20z\"/>\n",
              "  </svg>\n",
              "      </button>\n",
              "      \n",
              "  <style>\n",
              "    .colab-df-container {\n",
              "      display:flex;\n",
              "      flex-wrap:wrap;\n",
              "      gap: 12px;\n",
              "    }\n",
              "\n",
              "    .colab-df-convert {\n",
              "      background-color: #E8F0FE;\n",
              "      border: none;\n",
              "      border-radius: 50%;\n",
              "      cursor: pointer;\n",
              "      display: none;\n",
              "      fill: #1967D2;\n",
              "      height: 32px;\n",
              "      padding: 0 0 0 0;\n",
              "      width: 32px;\n",
              "    }\n",
              "\n",
              "    .colab-df-convert:hover {\n",
              "      background-color: #E2EBFA;\n",
              "      box-shadow: 0px 1px 2px rgba(60, 64, 67, 0.3), 0px 1px 3px 1px rgba(60, 64, 67, 0.15);\n",
              "      fill: #174EA6;\n",
              "    }\n",
              "\n",
              "    [theme=dark] .colab-df-convert {\n",
              "      background-color: #3B4455;\n",
              "      fill: #D2E3FC;\n",
              "    }\n",
              "\n",
              "    [theme=dark] .colab-df-convert:hover {\n",
              "      background-color: #434B5C;\n",
              "      box-shadow: 0px 1px 3px 1px rgba(0, 0, 0, 0.15);\n",
              "      filter: drop-shadow(0px 1px 2px rgba(0, 0, 0, 0.3));\n",
              "      fill: #FFFFFF;\n",
              "    }\n",
              "  </style>\n",
              "\n",
              "      <script>\n",
              "        const buttonEl =\n",
              "          document.querySelector('#df-96891cf0-b576-4ce4-9037-374e6b17e962 button.colab-df-convert');\n",
              "        buttonEl.style.display =\n",
              "          google.colab.kernel.accessAllowed ? 'block' : 'none';\n",
              "\n",
              "        async function convertToInteractive(key) {\n",
              "          const element = document.querySelector('#df-96891cf0-b576-4ce4-9037-374e6b17e962');\n",
              "          const dataTable =\n",
              "            await google.colab.kernel.invokeFunction('convertToInteractive',\n",
              "                                                     [key], {});\n",
              "          if (!dataTable) return;\n",
              "\n",
              "          const docLinkHtml = 'Like what you see? Visit the ' +\n",
              "            '<a target=\"_blank\" href=https://colab.research.google.com/notebooks/data_table.ipynb>data table notebook</a>'\n",
              "            + ' to learn more about interactive tables.';\n",
              "          element.innerHTML = '';\n",
              "          dataTable['output_type'] = 'display_data';\n",
              "          await google.colab.output.renderOutput(dataTable, element);\n",
              "          const docLink = document.createElement('div');\n",
              "          docLink.innerHTML = docLinkHtml;\n",
              "          element.appendChild(docLink);\n",
              "        }\n",
              "      </script>\n",
              "    </div>\n",
              "  </div>\n",
              "  "
            ]
          },
          "metadata": {},
          "execution_count": 39
        }
      ]
    },
    {
      "cell_type": "code",
      "source": [
        "test['clean_text']=test['clean_text'].apply(special_char)"
      ],
      "metadata": {
        "id": "3QC7N31qW419"
      },
      "execution_count": null,
      "outputs": []
    },
    {
      "cell_type": "code",
      "source": [
        "def convert_lower(text):\n",
        "   return text.lower()"
      ],
      "metadata": {
        "id": "DcjH08e2XRg9"
      },
      "execution_count": null,
      "outputs": []
    },
    {
      "cell_type": "code",
      "source": [
        "test['clean_text']=test['clean_text'].apply(convert_lower)"
      ],
      "metadata": {
        "id": "oM5vKH2rYBG1"
      },
      "execution_count": null,
      "outputs": []
    },
    {
      "cell_type": "code",
      "source": [
        "test.head()"
      ],
      "metadata": {
        "colab": {
          "base_uri": "https://localhost:8080/",
          "height": 206
        },
        "id": "q9I_S2qKYGSt",
        "outputId": "733a0ed3-7c49-46ac-8fbd-d7f6f7189811"
      },
      "execution_count": null,
      "outputs": [
        {
          "output_type": "execute_result",
          "data": {
            "text/plain": [
              "   Label                                               Text  \\\n",
              "0      1  Explosion in Kathmandu injures 30 At least 30 ...   \n",
              "1      1  China Says Taiwan Spy Also Operated in U.S. - ...   \n",
              "2      1  U.S. Forces Push Into Heart of Fallujah U.S. A...   \n",
              "3      1  Pinochet is ordered to stand trial for murder ...   \n",
              "4      1  Iran Says EU Nuke Negotiations in Final Stages...   \n",
              "\n",
              "                                          clean_text  \n",
              "0  explosion kathmandu injures 30 least 30 people...  \n",
              "1  china says taiwan spy also operated u s    med...  \n",
              "2  u s  forces push heart fallujah u s  army mari...  \n",
              "3  pinochet ordered stand trial murder augusto pi...  \n",
              "4  iran says eu nuke negotiations final stages te...  "
            ],
            "text/html": [
              "\n",
              "  <div id=\"df-85c271fc-bcd9-4404-98d0-7a8d3fcf7cac\">\n",
              "    <div class=\"colab-df-container\">\n",
              "      <div>\n",
              "<style scoped>\n",
              "    .dataframe tbody tr th:only-of-type {\n",
              "        vertical-align: middle;\n",
              "    }\n",
              "\n",
              "    .dataframe tbody tr th {\n",
              "        vertical-align: top;\n",
              "    }\n",
              "\n",
              "    .dataframe thead th {\n",
              "        text-align: right;\n",
              "    }\n",
              "</style>\n",
              "<table border=\"1\" class=\"dataframe\">\n",
              "  <thead>\n",
              "    <tr style=\"text-align: right;\">\n",
              "      <th></th>\n",
              "      <th>Label</th>\n",
              "      <th>Text</th>\n",
              "      <th>clean_text</th>\n",
              "    </tr>\n",
              "  </thead>\n",
              "  <tbody>\n",
              "    <tr>\n",
              "      <th>0</th>\n",
              "      <td>1</td>\n",
              "      <td>Explosion in Kathmandu injures 30 At least 30 ...</td>\n",
              "      <td>explosion kathmandu injures 30 least 30 people...</td>\n",
              "    </tr>\n",
              "    <tr>\n",
              "      <th>1</th>\n",
              "      <td>1</td>\n",
              "      <td>China Says Taiwan Spy Also Operated in U.S. - ...</td>\n",
              "      <td>china says taiwan spy also operated u s    med...</td>\n",
              "    </tr>\n",
              "    <tr>\n",
              "      <th>2</th>\n",
              "      <td>1</td>\n",
              "      <td>U.S. Forces Push Into Heart of Fallujah U.S. A...</td>\n",
              "      <td>u s  forces push heart fallujah u s  army mari...</td>\n",
              "    </tr>\n",
              "    <tr>\n",
              "      <th>3</th>\n",
              "      <td>1</td>\n",
              "      <td>Pinochet is ordered to stand trial for murder ...</td>\n",
              "      <td>pinochet ordered stand trial murder augusto pi...</td>\n",
              "    </tr>\n",
              "    <tr>\n",
              "      <th>4</th>\n",
              "      <td>1</td>\n",
              "      <td>Iran Says EU Nuke Negotiations in Final Stages...</td>\n",
              "      <td>iran says eu nuke negotiations final stages te...</td>\n",
              "    </tr>\n",
              "  </tbody>\n",
              "</table>\n",
              "</div>\n",
              "      <button class=\"colab-df-convert\" onclick=\"convertToInteractive('df-85c271fc-bcd9-4404-98d0-7a8d3fcf7cac')\"\n",
              "              title=\"Convert this dataframe to an interactive table.\"\n",
              "              style=\"display:none;\">\n",
              "        \n",
              "  <svg xmlns=\"http://www.w3.org/2000/svg\" height=\"24px\"viewBox=\"0 0 24 24\"\n",
              "       width=\"24px\">\n",
              "    <path d=\"M0 0h24v24H0V0z\" fill=\"none\"/>\n",
              "    <path d=\"M18.56 5.44l.94 2.06.94-2.06 2.06-.94-2.06-.94-.94-2.06-.94 2.06-2.06.94zm-11 1L8.5 8.5l.94-2.06 2.06-.94-2.06-.94L8.5 2.5l-.94 2.06-2.06.94zm10 10l.94 2.06.94-2.06 2.06-.94-2.06-.94-.94-2.06-.94 2.06-2.06.94z\"/><path d=\"M17.41 7.96l-1.37-1.37c-.4-.4-.92-.59-1.43-.59-.52 0-1.04.2-1.43.59L10.3 9.45l-7.72 7.72c-.78.78-.78 2.05 0 2.83L4 21.41c.39.39.9.59 1.41.59.51 0 1.02-.2 1.41-.59l7.78-7.78 2.81-2.81c.8-.78.8-2.07 0-2.86zM5.41 20L4 18.59l7.72-7.72 1.47 1.35L5.41 20z\"/>\n",
              "  </svg>\n",
              "      </button>\n",
              "      \n",
              "  <style>\n",
              "    .colab-df-container {\n",
              "      display:flex;\n",
              "      flex-wrap:wrap;\n",
              "      gap: 12px;\n",
              "    }\n",
              "\n",
              "    .colab-df-convert {\n",
              "      background-color: #E8F0FE;\n",
              "      border: none;\n",
              "      border-radius: 50%;\n",
              "      cursor: pointer;\n",
              "      display: none;\n",
              "      fill: #1967D2;\n",
              "      height: 32px;\n",
              "      padding: 0 0 0 0;\n",
              "      width: 32px;\n",
              "    }\n",
              "\n",
              "    .colab-df-convert:hover {\n",
              "      background-color: #E2EBFA;\n",
              "      box-shadow: 0px 1px 2px rgba(60, 64, 67, 0.3), 0px 1px 3px 1px rgba(60, 64, 67, 0.15);\n",
              "      fill: #174EA6;\n",
              "    }\n",
              "\n",
              "    [theme=dark] .colab-df-convert {\n",
              "      background-color: #3B4455;\n",
              "      fill: #D2E3FC;\n",
              "    }\n",
              "\n",
              "    [theme=dark] .colab-df-convert:hover {\n",
              "      background-color: #434B5C;\n",
              "      box-shadow: 0px 1px 3px 1px rgba(0, 0, 0, 0.15);\n",
              "      filter: drop-shadow(0px 1px 2px rgba(0, 0, 0, 0.3));\n",
              "      fill: #FFFFFF;\n",
              "    }\n",
              "  </style>\n",
              "\n",
              "      <script>\n",
              "        const buttonEl =\n",
              "          document.querySelector('#df-85c271fc-bcd9-4404-98d0-7a8d3fcf7cac button.colab-df-convert');\n",
              "        buttonEl.style.display =\n",
              "          google.colab.kernel.accessAllowed ? 'block' : 'none';\n",
              "\n",
              "        async function convertToInteractive(key) {\n",
              "          const element = document.querySelector('#df-85c271fc-bcd9-4404-98d0-7a8d3fcf7cac');\n",
              "          const dataTable =\n",
              "            await google.colab.kernel.invokeFunction('convertToInteractive',\n",
              "                                                     [key], {});\n",
              "          if (!dataTable) return;\n",
              "\n",
              "          const docLinkHtml = 'Like what you see? Visit the ' +\n",
              "            '<a target=\"_blank\" href=https://colab.research.google.com/notebooks/data_table.ipynb>data table notebook</a>'\n",
              "            + ' to learn more about interactive tables.';\n",
              "          element.innerHTML = '';\n",
              "          dataTable['output_type'] = 'display_data';\n",
              "          await google.colab.output.renderOutput(dataTable, element);\n",
              "          const docLink = document.createElement('div');\n",
              "          docLink.innerHTML = docLinkHtml;\n",
              "          element.appendChild(docLink);\n",
              "        }\n",
              "      </script>\n",
              "    </div>\n",
              "  </div>\n",
              "  "
            ]
          },
          "metadata": {},
          "execution_count": 43
        }
      ]
    },
    {
      "cell_type": "code",
      "source": [
        "train['clean_text']=train['clean_text'].apply(special_char)"
      ],
      "metadata": {
        "id": "4XalixOmZCu1"
      },
      "execution_count": null,
      "outputs": []
    },
    {
      "cell_type": "code",
      "source": [
        "train['clean_text']=train['clean_text'].apply(convert_lower)"
      ],
      "metadata": {
        "id": "Pi1kSrk-adlV"
      },
      "execution_count": null,
      "outputs": []
    },
    {
      "cell_type": "code",
      "source": [
        "train['clean_text'][1]"
      ],
      "metadata": {
        "colab": {
          "base_uri": "https://localhost:8080/",
          "height": 70
        },
        "id": "YWJcn_EoahyN",
        "outputId": "ffbb4397-5c11-4689-de0f-aa2cf30ef8a5"
      },
      "execution_count": null,
      "outputs": [
        {
          "output_type": "execute_result",
          "data": {
            "text/plain": [
              "'bush signs  36 136b corporate tax cut bill  ap  ap   president bush showered  36 136 billion new tax breaks businesses  farmers groups friday  quietly signing sweeping rewrite corporate tax law nearly two decades '"
            ],
            "application/vnd.google.colaboratory.intrinsic+json": {
              "type": "string"
            }
          },
          "metadata": {},
          "execution_count": 46
        }
      ]
    },
    {
      "cell_type": "code",
      "source": [
        "train.sample()"
      ],
      "metadata": {
        "colab": {
          "base_uri": "https://localhost:8080/",
          "height": 142
        },
        "id": "6w3kWAaub2yO",
        "outputId": "54f8a657-746b-428d-f193-125011769dd1"
      },
      "execution_count": null,
      "outputs": [
        {
          "output_type": "execute_result",
          "data": {
            "text/plain": [
              "      Label                                               Text Category  \\\n",
              "3483      2  Vermeil's Friends Back Troubled Coach (AP) AP ...   Sports   \n",
              "\n",
              "                                             clean_text  \n",
              "3483  vermeil s friends back troubled coach  ap  ap ...  "
            ],
            "text/html": [
              "\n",
              "  <div id=\"df-9bbb09e2-94b9-46aa-9872-8c45cd3c8f7d\">\n",
              "    <div class=\"colab-df-container\">\n",
              "      <div>\n",
              "<style scoped>\n",
              "    .dataframe tbody tr th:only-of-type {\n",
              "        vertical-align: middle;\n",
              "    }\n",
              "\n",
              "    .dataframe tbody tr th {\n",
              "        vertical-align: top;\n",
              "    }\n",
              "\n",
              "    .dataframe thead th {\n",
              "        text-align: right;\n",
              "    }\n",
              "</style>\n",
              "<table border=\"1\" class=\"dataframe\">\n",
              "  <thead>\n",
              "    <tr style=\"text-align: right;\">\n",
              "      <th></th>\n",
              "      <th>Label</th>\n",
              "      <th>Text</th>\n",
              "      <th>Category</th>\n",
              "      <th>clean_text</th>\n",
              "    </tr>\n",
              "  </thead>\n",
              "  <tbody>\n",
              "    <tr>\n",
              "      <th>3483</th>\n",
              "      <td>2</td>\n",
              "      <td>Vermeil's Friends Back Troubled Coach (AP) AP ...</td>\n",
              "      <td>Sports</td>\n",
              "      <td>vermeil s friends back troubled coach  ap  ap ...</td>\n",
              "    </tr>\n",
              "  </tbody>\n",
              "</table>\n",
              "</div>\n",
              "      <button class=\"colab-df-convert\" onclick=\"convertToInteractive('df-9bbb09e2-94b9-46aa-9872-8c45cd3c8f7d')\"\n",
              "              title=\"Convert this dataframe to an interactive table.\"\n",
              "              style=\"display:none;\">\n",
              "        \n",
              "  <svg xmlns=\"http://www.w3.org/2000/svg\" height=\"24px\"viewBox=\"0 0 24 24\"\n",
              "       width=\"24px\">\n",
              "    <path d=\"M0 0h24v24H0V0z\" fill=\"none\"/>\n",
              "    <path d=\"M18.56 5.44l.94 2.06.94-2.06 2.06-.94-2.06-.94-.94-2.06-.94 2.06-2.06.94zm-11 1L8.5 8.5l.94-2.06 2.06-.94-2.06-.94L8.5 2.5l-.94 2.06-2.06.94zm10 10l.94 2.06.94-2.06 2.06-.94-2.06-.94-.94-2.06-.94 2.06-2.06.94z\"/><path d=\"M17.41 7.96l-1.37-1.37c-.4-.4-.92-.59-1.43-.59-.52 0-1.04.2-1.43.59L10.3 9.45l-7.72 7.72c-.78.78-.78 2.05 0 2.83L4 21.41c.39.39.9.59 1.41.59.51 0 1.02-.2 1.41-.59l7.78-7.78 2.81-2.81c.8-.78.8-2.07 0-2.86zM5.41 20L4 18.59l7.72-7.72 1.47 1.35L5.41 20z\"/>\n",
              "  </svg>\n",
              "      </button>\n",
              "      \n",
              "  <style>\n",
              "    .colab-df-container {\n",
              "      display:flex;\n",
              "      flex-wrap:wrap;\n",
              "      gap: 12px;\n",
              "    }\n",
              "\n",
              "    .colab-df-convert {\n",
              "      background-color: #E8F0FE;\n",
              "      border: none;\n",
              "      border-radius: 50%;\n",
              "      cursor: pointer;\n",
              "      display: none;\n",
              "      fill: #1967D2;\n",
              "      height: 32px;\n",
              "      padding: 0 0 0 0;\n",
              "      width: 32px;\n",
              "    }\n",
              "\n",
              "    .colab-df-convert:hover {\n",
              "      background-color: #E2EBFA;\n",
              "      box-shadow: 0px 1px 2px rgba(60, 64, 67, 0.3), 0px 1px 3px 1px rgba(60, 64, 67, 0.15);\n",
              "      fill: #174EA6;\n",
              "    }\n",
              "\n",
              "    [theme=dark] .colab-df-convert {\n",
              "      background-color: #3B4455;\n",
              "      fill: #D2E3FC;\n",
              "    }\n",
              "\n",
              "    [theme=dark] .colab-df-convert:hover {\n",
              "      background-color: #434B5C;\n",
              "      box-shadow: 0px 1px 3px 1px rgba(0, 0, 0, 0.15);\n",
              "      filter: drop-shadow(0px 1px 2px rgba(0, 0, 0, 0.3));\n",
              "      fill: #FFFFFF;\n",
              "    }\n",
              "  </style>\n",
              "\n",
              "      <script>\n",
              "        const buttonEl =\n",
              "          document.querySelector('#df-9bbb09e2-94b9-46aa-9872-8c45cd3c8f7d button.colab-df-convert');\n",
              "        buttonEl.style.display =\n",
              "          google.colab.kernel.accessAllowed ? 'block' : 'none';\n",
              "\n",
              "        async function convertToInteractive(key) {\n",
              "          const element = document.querySelector('#df-9bbb09e2-94b9-46aa-9872-8c45cd3c8f7d');\n",
              "          const dataTable =\n",
              "            await google.colab.kernel.invokeFunction('convertToInteractive',\n",
              "                                                     [key], {});\n",
              "          if (!dataTable) return;\n",
              "\n",
              "          const docLinkHtml = 'Like what you see? Visit the ' +\n",
              "            '<a target=\"_blank\" href=https://colab.research.google.com/notebooks/data_table.ipynb>data table notebook</a>'\n",
              "            + ' to learn more about interactive tables.';\n",
              "          element.innerHTML = '';\n",
              "          dataTable['output_type'] = 'display_data';\n",
              "          await google.colab.output.renderOutput(dataTable, element);\n",
              "          const docLink = document.createElement('div');\n",
              "          docLink.innerHTML = docLinkHtml;\n",
              "          element.appendChild(docLink);\n",
              "        }\n",
              "      </script>\n",
              "    </div>\n",
              "  </div>\n",
              "  "
            ]
          },
          "metadata": {},
          "execution_count": 47
        }
      ]
    },
    {
      "cell_type": "code",
      "source": [
        "le = LabelEncoder()\n",
        "\n",
        "X_train = train['clean_text']\n",
        "y_train = train['Label']\n",
        "y_train = le.fit_transform(y_train)\n",
        "y_train = to_categorical(y_train, num_classes=4)\n",
        "\n",
        "\n",
        "X_test = test['clean_text']\n",
        "y_test = test['Label']\n",
        "y_test = le.transform(y_test)\n",
        "y_test = to_categorical(y_test, num_classes=4)"
      ],
      "metadata": {
        "id": "6xl9_64zao2N"
      },
      "execution_count": null,
      "outputs": []
    },
    {
      "cell_type": "code",
      "source": [
        "print(X_test.shape)"
      ],
      "metadata": {
        "colab": {
          "base_uri": "https://localhost:8080/"
        },
        "id": "xcrooahUmYYt",
        "outputId": "05327a25-ad3b-47dc-b922-9593a9b19529"
      },
      "execution_count": null,
      "outputs": [
        {
          "output_type": "stream",
          "name": "stdout",
          "text": [
            "(2000,)\n"
          ]
        }
      ]
    },
    {
      "cell_type": "code",
      "source": [
        "print(y_test.shape)"
      ],
      "metadata": {
        "colab": {
          "base_uri": "https://localhost:8080/"
        },
        "id": "8EYFTusjmdn1",
        "outputId": "ea2e4d63-53a3-4fb0-f0f7-39a9fbd8c998"
      },
      "execution_count": null,
      "outputs": [
        {
          "output_type": "stream",
          "name": "stdout",
          "text": [
            "(2000, 4)\n"
          ]
        }
      ]
    },
    {
      "cell_type": "code",
      "source": [
        "train.shape[0]"
      ],
      "metadata": {
        "colab": {
          "base_uri": "https://localhost:8080/"
        },
        "id": "jhANr0simyPu",
        "outputId": "7ebf9ca8-c400-48fe-de67-7c76258340a1"
      },
      "execution_count": null,
      "outputs": [
        {
          "output_type": "execute_result",
          "data": {
            "text/plain": [
              "8000"
            ]
          },
          "metadata": {},
          "execution_count": 70
        }
      ]
    },
    {
      "cell_type": "markdown",
      "source": [
        "# Loading the PreTrained BERT Model"
      ],
      "metadata": {
        "id": "sTZfVMz861fT"
      }
    },
    {
      "cell_type": "code",
      "source": [
        "text_input = tf.keras.layers.Input(shape=(), dtype=tf.string)\n",
        "preprocessor = hub.KerasLayer(\n",
        "    \"https://tfhub.dev/tensorflow/bert_en_uncased_preprocess/3\")\n",
        "encoder_inputs = preprocessor(text_input)\n",
        "encoder = hub.KerasLayer(\n",
        "    \"https://tfhub.dev/tensorflow/bert_en_uncased_L-12_H-768_A-12/4\",\n",
        "    trainable=True)\n",
        "outputs = encoder(encoder_inputs)\n",
        "pooled_output = outputs[\"pooled_output\"]      \n",
        "sequence_output = outputs[\"sequence_output\"] "
      ],
      "metadata": {
        "id": "g_DkWmUmbIAu"
      },
      "execution_count": null,
      "outputs": []
    },
    {
      "cell_type": "code",
      "source": [
        "# Verify that the preprocessor works:\n",
        "hub_inputs = preprocessor(['ID for each word, with zero padding at the end.'])\n",
        "{key: value[0, :25].numpy() for key, value in hub_inputs.items()}"
      ],
      "metadata": {
        "colab": {
          "base_uri": "https://localhost:8080/"
        },
        "id": "4qIxg7-AcQM0",
        "outputId": "7b06928d-b278-4a80-e3db-c4b17c362ae9"
      },
      "execution_count": null,
      "outputs": [
        {
          "output_type": "execute_result",
          "data": {
            "text/plain": [
              "{'input_word_ids': array([  101,  8909,  2005,  2169,  2773,  1010,  2007,  5717, 11687,\n",
              "         4667,  2012,  1996,  2203,  1012,   102,     0,     0,     0,\n",
              "            0,     0,     0,     0,     0,     0,     0], dtype=int32),\n",
              " 'input_mask': array([1, 1, 1, 1, 1, 1, 1, 1, 1, 1, 1, 1, 1, 1, 1, 0, 0, 0, 0, 0, 0, 0,\n",
              "        0, 0, 0], dtype=int32),\n",
              " 'input_type_ids': array([0, 0, 0, 0, 0, 0, 0, 0, 0, 0, 0, 0, 0, 0, 0, 0, 0, 0, 0, 0, 0, 0,\n",
              "        0, 0, 0], dtype=int32)}"
            ]
          },
          "metadata": {},
          "execution_count": 50
        }
      ]
    },
    {
      "cell_type": "code",
      "source": [
        "result = encoder(\n",
        "    inputs=hub_inputs,\n",
        "    training=False,\n",
        ")\n",
        "\n",
        "print(\"Pooled output shape:\", result['pooled_output'].shape)\n",
        "print(\"Sequence output shape:\", result['sequence_output'].shape)"
      ],
      "metadata": {
        "colab": {
          "base_uri": "https://localhost:8080/"
        },
        "id": "FWet1ZEvfufV",
        "outputId": "f65cbd99-cc09-447f-ac4f-3b917857b9aa"
      },
      "execution_count": null,
      "outputs": [
        {
          "output_type": "stream",
          "name": "stdout",
          "text": [
            "Pooled output shape: (1, 768)\n",
            "Sequence output shape: (1, 128, 768)\n"
          ]
        }
      ]
    },
    {
      "cell_type": "markdown",
      "source": [
        "# Building the Model"
      ],
      "metadata": {
        "id": "LZWu00R06-bH"
      }
    },
    {
      "cell_type": "code",
      "source": [
        "epochs = 4\n",
        "batch_size = 32\n",
        "eval_batch_size = 32\n",
        "\n",
        "train_data_size = train.shape[0]\n",
        "steps_per_epoch = int(train_data_size / batch_size)\n",
        "num_train_steps = steps_per_epoch * epochs\n",
        "num_warmup_steps = int(0.1*num_train_steps)\n",
        "\n",
        "init_lr = 3e-5\n",
        "optimizer = optimization.create_optimizer(init_lr=init_lr,\n",
        "                                          num_train_steps=num_train_steps,\n",
        "                                          num_warmup_steps=num_warmup_steps,\n",
        "                                          optimizer_type='adamw')"
      ],
      "metadata": {
        "id": "iNI2B-vMfzs8"
      },
      "execution_count": null,
      "outputs": []
    },
    {
      "cell_type": "code",
      "source": [
        "def build_model(num_classes, optimizer, max_len=512):\n",
        "    \n",
        "    text_input = tf.keras.layers.Input(shape=(), dtype=tf.string, name='text')\n",
        "    preprocessing_layer = hub.KerasLayer(\"https://tfhub.dev/tensorflow/bert_en_uncased_preprocess/3\", name='preprocessing')\n",
        "    encoder_inputs = preprocessing_layer(text_input)\n",
        "    encoder = hub.KerasLayer(\"https://tfhub.dev/tensorflow/bert_en_uncased_L-12_H-768_A-12/4\", trainable=True, name='BERT_encoder')\n",
        "    outputs = encoder(encoder_inputs)\n",
        "    net = outputs['pooled_output']\n",
        "    net = tf.keras.layers.Dropout(0.1)(net)\n",
        "    net = tf.keras.layers.Dense(64, activation='relu')(net)\n",
        "    net = tf.keras.layers.Dropout(0.1)(net)\n",
        "    out = tf.keras.layers.Dense(num_classes, activation='softmax', name='classifier')(net)\n",
        "    \n",
        "    \n",
        "    model = tf.keras.models.Model(text_input, out)\n",
        "    model.compile(optimizer, loss='categorical_crossentropy', metrics=['accuracy'])\n",
        "    \n",
        "    return model"
      ],
      "metadata": {
        "id": "l18Spoxff9Bt"
      },
      "execution_count": null,
      "outputs": []
    },
    {
      "cell_type": "code",
      "source": [
        "model = build_model(num_classes=4, optimizer=optimizer)"
      ],
      "metadata": {
        "id": "TnzwnQpcgFOf"
      },
      "execution_count": null,
      "outputs": []
    },
    {
      "cell_type": "code",
      "source": [
        "model.summary()"
      ],
      "metadata": {
        "colab": {
          "base_uri": "https://localhost:8080/"
        },
        "id": "21W3dl5Ggk9d",
        "outputId": "796ee1bf-04a5-48fa-dc92-628c23499bff"
      },
      "execution_count": null,
      "outputs": [
        {
          "output_type": "stream",
          "name": "stdout",
          "text": [
            "Model: \"model\"\n",
            "__________________________________________________________________________________________________\n",
            " Layer (type)                   Output Shape         Param #     Connected to                     \n",
            "==================================================================================================\n",
            " text (InputLayer)              [(None,)]            0           []                               \n",
            "                                                                                                  \n",
            " preprocessing (KerasLayer)     {'input_mask': (Non  0           ['text[0][0]']                   \n",
            "                                e, 128),                                                          \n",
            "                                 'input_type_ids':                                                \n",
            "                                (None, 128),                                                      \n",
            "                                 'input_word_ids':                                                \n",
            "                                (None, 128)}                                                      \n",
            "                                                                                                  \n",
            " BERT_encoder (KerasLayer)      {'encoder_outputs':  109482241   ['preprocessing[0][0]',          \n",
            "                                 [(None, 128, 768),               'preprocessing[0][1]',          \n",
            "                                 (None, 128, 768),                'preprocessing[0][2]']          \n",
            "                                 (None, 128, 768),                                                \n",
            "                                 (None, 128, 768),                                                \n",
            "                                 (None, 128, 768),                                                \n",
            "                                 (None, 128, 768),                                                \n",
            "                                 (None, 128, 768),                                                \n",
            "                                 (None, 128, 768),                                                \n",
            "                                 (None, 128, 768),                                                \n",
            "                                 (None, 128, 768),                                                \n",
            "                                 (None, 128, 768),                                                \n",
            "                                 (None, 128, 768)],                                               \n",
            "                                 'default': (None,                                                \n",
            "                                768),                                                             \n",
            "                                 'pooled_output': (                                               \n",
            "                                None, 768),                                                       \n",
            "                                 'sequence_output':                                               \n",
            "                                 (None, 128, 768)}                                                \n",
            "                                                                                                  \n",
            " dropout (Dropout)              (None, 768)          0           ['BERT_encoder[0][13]']          \n",
            "                                                                                                  \n",
            " dense (Dense)                  (None, 64)           49216       ['dropout[0][0]']                \n",
            "                                                                                                  \n",
            " dropout_1 (Dropout)            (None, 64)           0           ['dense[0][0]']                  \n",
            "                                                                                                  \n",
            " classifier (Dense)             (None, 4)            260         ['dropout_1[0][0]']              \n",
            "                                                                                                  \n",
            "==================================================================================================\n",
            "Total params: 109,531,717\n",
            "Trainable params: 109,531,716\n",
            "Non-trainable params: 1\n",
            "__________________________________________________________________________________________________\n"
          ]
        }
      ]
    },
    {
      "cell_type": "code",
      "source": [
        "checkpoint = tf.keras.callbacks.ModelCheckpoint('model.h5', monitor='val_accuracy', save_best_only=True, verbose=1)\n",
        "early_stopping = tf.keras.callbacks.EarlyStopping(monitor='val_accuracy', patience=5, verbose=1)\n",
        "\n",
        "history = model.fit(x=X_train,\n",
        "          y=y_train,\n",
        "          validation_data=(X_test, y_test),\n",
        "          epochs=epochs, \n",
        "          callbacks=[checkpoint, early_stopping], \n",
        "          batch_size=batch_size,\n",
        "          validation_batch_size=eval_batch_size,\n",
        "          verbose=1)"
      ],
      "metadata": {
        "colab": {
          "base_uri": "https://localhost:8080/"
        },
        "id": "AhkDDIGbguHs",
        "outputId": "8c229162-3e00-4622-ab77-9eec057e67f3"
      },
      "execution_count": null,
      "outputs": [
        {
          "output_type": "stream",
          "name": "stdout",
          "text": [
            "Epoch 1/4\n",
            "250/250 [==============================] - ETA: 0s - loss: 0.6020 - accuracy: 0.7692\n",
            "Epoch 1: val_accuracy improved from -inf to 0.89900, saving model to model.h5\n",
            "250/250 [==============================] - 283s 1s/step - loss: 0.6020 - accuracy: 0.7692 - val_loss: 0.3012 - val_accuracy: 0.8990\n",
            "Epoch 2/4\n",
            "250/250 [==============================] - ETA: 0s - loss: 0.2531 - accuracy: 0.9250\n",
            "Epoch 2: val_accuracy improved from 0.89900 to 0.90800, saving model to model.h5\n",
            "250/250 [==============================] - 245s 979ms/step - loss: 0.2531 - accuracy: 0.9250 - val_loss: 0.3125 - val_accuracy: 0.9080\n",
            "Epoch 3/4\n",
            "250/250 [==============================] - ETA: 0s - loss: 0.1587 - accuracy: 0.9525\n",
            "Epoch 3: val_accuracy improved from 0.90800 to 0.91100, saving model to model.h5\n",
            "250/250 [==============================] - 267s 1s/step - loss: 0.1587 - accuracy: 0.9525 - val_loss: 0.3099 - val_accuracy: 0.9110\n",
            "Epoch 4/4\n",
            "250/250 [==============================] - ETA: 0s - loss: 0.0986 - accuracy: 0.9724\n",
            "Epoch 4: val_accuracy did not improve from 0.91100\n",
            "250/250 [==============================] - 259s 1s/step - loss: 0.0986 - accuracy: 0.9724 - val_loss: 0.3461 - val_accuracy: 0.9110\n"
          ]
        }
      ]
    },
    {
      "cell_type": "code",
      "source": [
        "y_proba = model.predict(X_test, batch_size=eval_batch_size)"
      ],
      "metadata": {
        "colab": {
          "base_uri": "https://localhost:8080/"
        },
        "id": "QQeC_JcCg-AV",
        "outputId": "e0f78791-eef8-4c91-e3c1-2b005df9f7ea"
      },
      "execution_count": null,
      "outputs": [
        {
          "output_type": "stream",
          "name": "stdout",
          "text": [
            "63/63 [==============================] - 22s 324ms/step\n"
          ]
        }
      ]
    },
    {
      "cell_type": "code",
      "source": [
        "print(len(y_proba))\n",
        "print(y_proba)"
      ],
      "metadata": {
        "colab": {
          "base_uri": "https://localhost:8080/"
        },
        "id": "wMCjUIcinpoN",
        "outputId": "b9e69c7f-170b-45d7-b4e1-66b5fb4f21d6"
      },
      "execution_count": null,
      "outputs": [
        {
          "output_type": "stream",
          "name": "stdout",
          "text": [
            "2000\n",
            "[[9.9830413e-01 7.3008134e-04 5.7248806e-04 3.9331295e-04]\n",
            " [9.9821377e-01 1.9664383e-04 3.6859891e-04 1.2209894e-03]\n",
            " [9.9894828e-01 5.0677120e-04 2.4769420e-04 2.9717438e-04]\n",
            " ...\n",
            " [1.0974297e-03 1.0738651e-03 6.2671485e-03 9.9156159e-01]\n",
            " [8.9066807e-04 2.6047099e-04 9.7034520e-01 2.8503614e-02]\n",
            " [1.1566615e-03 1.5600650e-03 8.4259018e-04 9.9644071e-01]]\n"
          ]
        }
      ]
    },
    {
      "cell_type": "code",
      "source": [
        "y_pred = np.argmax(y_proba, axis=1)"
      ],
      "metadata": {
        "id": "JPa7UqjZlMlF"
      },
      "execution_count": null,
      "outputs": []
    },
    {
      "cell_type": "code",
      "source": [
        "print(len(y_pred))\n",
        "print(y_pred)"
      ],
      "metadata": {
        "colab": {
          "base_uri": "https://localhost:8080/"
        },
        "id": "oAHaPvZxnzbv",
        "outputId": "806d562f-deca-4857-c8c3-e0dd5ade73d8"
      },
      "execution_count": null,
      "outputs": [
        {
          "output_type": "stream",
          "name": "stdout",
          "text": [
            "2000\n",
            "[0 0 0 ... 3 2 3]\n"
          ]
        }
      ]
    },
    {
      "cell_type": "code",
      "source": [
        "y_pred_labels = [TEXT_LABELS[x] for x in le.inverse_transform(y_pred)]\n",
        "y_true_labels = [TEXT_LABELS[x] for x in test['Label']]"
      ],
      "metadata": {
        "id": "to4ZMXcslUzd"
      },
      "execution_count": null,
      "outputs": []
    },
    {
      "cell_type": "code",
      "source": [
        "len(y_true_labels)"
      ],
      "metadata": {
        "colab": {
          "base_uri": "https://localhost:8080/"
        },
        "id": "QRHNpo4onN5k",
        "outputId": "a905fe9c-000b-4b01-db5f-d183f59791d9"
      },
      "execution_count": null,
      "outputs": [
        {
          "output_type": "execute_result",
          "data": {
            "text/plain": [
              "2000"
            ]
          },
          "metadata": {},
          "execution_count": 84
        }
      ]
    },
    {
      "cell_type": "markdown",
      "source": [
        "# Accuracy Check"
      ],
      "metadata": {
        "id": "wh-o8Pqr7DFY"
      }
    },
    {
      "cell_type": "code",
      "source": [
        "print(classification_report(y_true=y_true_labels, y_pred=y_pred_labels))\n",
        "print(confusion_matrix(y_true_labels, y_pred_labels))"
      ],
      "metadata": {
        "colab": {
          "base_uri": "https://localhost:8080/"
        },
        "id": "NcicXGpslc4t",
        "outputId": "d67df304-e1a3-412a-b5fb-9c533e20ba51"
      },
      "execution_count": null,
      "outputs": [
        {
          "output_type": "stream",
          "name": "stdout",
          "text": [
            "              precision    recall  f1-score   support\n",
            "\n",
            "    Business       0.89      0.88      0.88       500\n",
            "    Sci/Tech       0.88      0.89      0.88       500\n",
            "      Sports       0.94      0.98      0.96       500\n",
            "       World       0.94      0.89      0.91       500\n",
            "\n",
            "    accuracy                           0.91      2000\n",
            "   macro avg       0.91      0.91      0.91      2000\n",
            "weighted avg       0.91      0.91      0.91      2000\n",
            "\n",
            "[[438  39   6  17]\n",
            " [ 39 446   6   9]\n",
            " [  2   2 492   4]\n",
            " [ 15  22  17 446]]\n"
          ]
        }
      ]
    },
    {
      "cell_type": "code",
      "source": [
        "print(y_true_labels)"
      ],
      "metadata": {
        "colab": {
          "base_uri": "https://localhost:8080/"
        },
        "id": "WOGZESt5lhxd",
        "outputId": "0d2a64b0-ec5d-4511-cd5e-a7da9da50316"
      },
      "execution_count": null,
      "outputs": [
        {
          "output_type": "stream",
          "name": "stdout",
          "text": [
            "['Business', 'Sci/Tech', 'Sci/Tech', 'Sci/Tech', 'Sci/Tech', 'Sci/Tech', 'Sci/Tech', 'Sci/Tech', 'Sci/Tech', 'Sci/Tech', 'Sci/Tech', 'Sci/Tech', 'Sci/Tech', 'Sci/Tech', 'Sci/Tech', 'Sci/Tech', 'Sci/Tech', 'Sci/Tech', 'Sci/Tech', 'Sci/Tech', 'Sci/Tech', 'Sci/Tech', 'Sci/Tech', 'Sci/Tech', 'Sci/Tech', 'Sci/Tech', 'Sports', 'Sports', 'Sports', 'Sports', 'Sports', 'Sports', 'World', 'World', 'World', 'World', 'World', 'World', 'World', 'World', 'Sports', 'Business', 'World', 'Sci/Tech', 'Sports', 'Sports', 'World', 'Sci/Tech', 'World', 'Sports', 'World', 'Sports', 'World', 'Sci/Tech', 'Business', 'Sci/Tech', 'World', 'World', 'Business', 'Business', 'Sports', 'Sports', 'Sports', 'Sci/Tech', 'World', 'Sci/Tech', 'World', 'World', 'Sports', 'World', 'Sci/Tech', 'Sci/Tech', 'Sci/Tech', 'World', 'Sci/Tech', 'Sports', 'World', 'Sports', 'World', 'World', 'World', 'Sports', 'Business', 'Business', 'World', 'World', 'Business', 'World', 'World', 'Sci/Tech', 'World', 'Business', 'Sci/Tech', 'Business', 'Sports', 'Sports', 'Sports', 'Business', 'World', 'Business', 'Sports', 'Business', 'Sci/Tech', 'Business', 'World', 'Sports', 'World', 'Sports', 'World', 'Sci/Tech', 'Business', 'Sci/Tech', 'Sci/Tech', 'Sci/Tech', 'Sci/Tech', 'Sports', 'Sci/Tech', 'Sci/Tech', 'Business', 'Sports', 'World', 'Sports', 'Sci/Tech', 'World', 'Sci/Tech', 'Business', 'Sports', 'Sports', 'Sports', 'World', 'World', 'World', 'Sports', 'World', 'Sports', 'Sports', 'World', 'Sports', 'Sports', 'World', 'Sports', 'World', 'Sports', 'World', 'World', 'World', 'Sports', 'Business', 'Sports', 'Sports', 'Sports', 'World', 'Sports', 'World', 'World', 'World', 'Business', 'Sports', 'Sports', 'World', 'Sports', 'Business', 'Sci/Tech', 'World', 'World', 'Business', 'Business', 'Business', 'Sports', 'World', 'Sci/Tech', 'Sci/Tech', 'Business', 'Sci/Tech', 'World', 'World', 'Sci/Tech', 'Sports', 'Sci/Tech', 'Sports', 'Business', 'Sports', 'Sports', 'Sci/Tech', 'Business', 'World', 'Sci/Tech', 'World', 'Sports', 'Sci/Tech', 'Sci/Tech', 'World', 'World', 'World', 'Business', 'Business', 'World', 'Sports', 'Business', 'Sports', 'Sci/Tech', 'Sci/Tech', 'Sci/Tech', 'World', 'Sports', 'Sports', 'Sports', 'Sci/Tech', 'Sports', 'Sci/Tech', 'Sports', 'World', 'Sports', 'Sports', 'Sports', 'Sci/Tech', 'Business', 'Business', 'Sci/Tech', 'Sports', 'Sports', 'World', 'Business', 'Sports', 'Business', 'Business', 'World', 'Sports', 'Business', 'World', 'Sports', 'Sports', 'Business', 'Sci/Tech', 'Business', 'Sports', 'Business', 'Sports', 'World', 'Business', 'Sci/Tech', 'Sports', 'Sports', 'Sci/Tech', 'Business', 'Business', 'Sci/Tech', 'Sci/Tech', 'Sci/Tech', 'World', 'Business', 'World', 'Sports', 'Business', 'Business', 'Sci/Tech', 'Business', 'Sci/Tech', 'Sci/Tech', 'Sci/Tech', 'Sports', 'World', 'Sci/Tech', 'Sci/Tech', 'Sci/Tech', 'Sci/Tech', 'Sports', 'Sci/Tech', 'Sports', 'Sports', 'Sports', 'World', 'Business', 'Sci/Tech', 'Sports', 'Sci/Tech', 'Sci/Tech', 'Sports', 'Business', 'Sci/Tech', 'Business', 'Sports', 'Sports', 'Sci/Tech', 'Sports', 'World', 'World', 'Business', 'Business', 'Sports', 'Sports', 'Sci/Tech', 'Sci/Tech', 'Sci/Tech', 'Sports', 'World', 'World', 'Sci/Tech', 'Sports', 'Business', 'Sports', 'Business', 'Business', 'Business', 'Business', 'Sports', 'Sci/Tech', 'Sci/Tech', 'Sports', 'Business', 'Business', 'Sports', 'Sci/Tech', 'Business', 'Business', 'World', 'World', 'Business', 'Sports', 'Business', 'Business', 'World', 'Sports', 'Sci/Tech', 'Sports', 'Sci/Tech', 'World', 'World', 'Sci/Tech', 'Business', 'Sci/Tech', 'Sports', 'World', 'World', 'Sports', 'World', 'Business', 'Business', 'Sports', 'Sports', 'Sci/Tech', 'Sports', 'World', 'Sports', 'Sports', 'Sci/Tech', 'Sci/Tech', 'Sports', 'World', 'Business', 'Sports', 'World', 'World', 'Sports', 'World', 'World', 'Sports', 'Business', 'Sports', 'Sports', 'Sports', 'World', 'Business', 'World', 'World', 'Sci/Tech', 'Sports', 'Business', 'World', 'World', 'Sports', 'World', 'World', 'Sports', 'Sports', 'Sci/Tech', 'Sports', 'Sports', 'Business', 'World', 'Sports', 'Sports', 'Sci/Tech', 'Sports', 'Business', 'Sports', 'Sports', 'Sports', 'World', 'World', 'World', 'Sports', 'World', 'World', 'World', 'Sports', 'Sports', 'Sci/Tech', 'Sports', 'Business', 'Sci/Tech', 'Sports', 'World', 'World', 'World', 'Business', 'Business', 'Business', 'Business', 'Sports', 'Business', 'Sports', 'World', 'World', 'World', 'Sports', 'Sports', 'Business', 'Business', 'World', 'World', 'Sports', 'Business', 'Sci/Tech', 'Sci/Tech', 'World', 'Business', 'Business', 'Sci/Tech', 'Sci/Tech', 'World', 'Sports', 'Sports', 'Business', 'Business', 'Sci/Tech', 'Business', 'Business', 'Sci/Tech', 'Sci/Tech', 'Business', 'Sci/Tech', 'World', 'Business', 'World', 'Sci/Tech', 'Sci/Tech', 'Sci/Tech', 'Business', 'Business', 'World', 'World', 'Business', 'Sci/Tech', 'Sci/Tech', 'Sports', 'Business', 'Sci/Tech', 'Sports', 'Business', 'Sports', 'Sports', 'Sci/Tech', 'Sports', 'World', 'Sci/Tech', 'Business', 'Business', 'Sci/Tech', 'Sports', 'World', 'Sci/Tech', 'World', 'Business', 'Sports', 'Sci/Tech', 'Sports', 'Sci/Tech', 'World', 'Business', 'Sci/Tech', 'Business', 'Business', 'Sci/Tech', 'Business', 'Business', 'Sports', 'Business', 'Business', 'Sports', 'Sports', 'Sci/Tech', 'Sports', 'Business', 'Business', 'Sports', 'Business', 'World', 'Sports', 'Sci/Tech', 'Sci/Tech', 'Sports', 'Sports', 'World', 'World', 'World', 'World', 'Sci/Tech', 'Business', 'Sci/Tech', 'Sci/Tech', 'World', 'Sci/Tech', 'World', 'World', 'Sports', 'World', 'Business', 'Sci/Tech', 'Sports', 'Business', 'World', 'Business', 'World', 'World', 'World', 'Sci/Tech', 'World', 'World', 'World', 'Sports', 'Sci/Tech', 'Sci/Tech', 'Sci/Tech', 'Business', 'Business', 'Sci/Tech', 'Sci/Tech', 'Sports', 'Sci/Tech', 'Sports', 'World', 'World', 'Sci/Tech', 'Sports', 'Sci/Tech', 'Business', 'Sports', 'Sci/Tech', 'Business', 'World', 'World', 'World', 'Sports', 'Sci/Tech', 'Sci/Tech', 'Sci/Tech', 'Sci/Tech', 'Sci/Tech', 'Sci/Tech', 'Sci/Tech', 'World', 'Business', 'Sci/Tech', 'Sports', 'World', 'World', 'Sci/Tech', 'Sci/Tech', 'Sports', 'Sci/Tech', 'Business', 'Sci/Tech', 'Sci/Tech', 'World', 'Business', 'Sports', 'Sci/Tech', 'Sci/Tech', 'World', 'Sports', 'Sci/Tech', 'Business', 'Sports', 'World', 'Business', 'Sci/Tech', 'Sci/Tech', 'Sci/Tech', 'Business', 'World', 'Business', 'Sci/Tech', 'World', 'Sci/Tech', 'World', 'Sci/Tech', 'Sci/Tech', 'Business', 'World', 'Business', 'Business', 'Sci/Tech', 'Business', 'Sports', 'World', 'World', 'Sci/Tech', 'Sports', 'Sports', 'Sports', 'World', 'World', 'World', 'World', 'Business', 'Sci/Tech', 'World', 'World', 'Business', 'Business', 'Business', 'Sci/Tech', 'Sci/Tech', 'Sci/Tech', 'World', 'World', 'Sci/Tech', 'Business', 'Sports', 'Sci/Tech', 'Sports', 'Sci/Tech', 'Sci/Tech', 'Business', 'Sci/Tech', 'Sci/Tech', 'Sports', 'Sports', 'World', 'Business', 'Sci/Tech', 'Sci/Tech', 'Business', 'Sports', 'Sci/Tech', 'World', 'World', 'Sports', 'Business', 'World', 'Business', 'World', 'World', 'Sci/Tech', 'World', 'Business', 'Sci/Tech', 'Sci/Tech', 'Sci/Tech', 'Sci/Tech', 'Sci/Tech', 'Sports', 'Business', 'Sci/Tech', 'Sports', 'Sports', 'Business', 'Sci/Tech', 'World', 'Sports', 'Sci/Tech', 'World', 'Business', 'Sports', 'Sports', 'World', 'World', 'World', 'Sports', 'Sci/Tech', 'World', 'World', 'World', 'World', 'Business', 'Sports', 'Business', 'Business', 'World', 'Sports', 'Sports', 'Sports', 'Sports', 'World', 'World', 'Sports', 'World', 'Sports', 'World', 'Business', 'Sports', 'Sci/Tech', 'World', 'Sports', 'Sports', 'Sci/Tech', 'Business', 'Sci/Tech', 'Sci/Tech', 'Business', 'Business', 'Business', 'Sports', 'Sports', 'Sci/Tech', 'Sci/Tech', 'Sports', 'Sports', 'World', 'World', 'World', 'Sci/Tech', 'Business', 'World', 'World', 'Sports', 'World', 'Business', 'Business', 'Business', 'Sci/Tech', 'Sci/Tech', 'Business', 'Business', 'Sports', 'Business', 'World', 'Sci/Tech', 'Sports', 'Sports', 'Sci/Tech', 'World', 'Sci/Tech', 'Business', 'Business', 'Business', 'World', 'Sci/Tech', 'Sports', 'World', 'Business', 'Sports', 'Sports', 'World', 'Sci/Tech', 'World', 'World', 'Sci/Tech', 'Sports', 'Business', 'Sci/Tech', 'Business', 'Sci/Tech', 'World', 'Sports', 'Sports', 'Sports', 'World', 'Sports', 'Business', 'Sports', 'World', 'Sports', 'Sports', 'World', 'Sci/Tech', 'Sports', 'Sci/Tech', 'Sports', 'World', 'World', 'Sports', 'Sci/Tech', 'Sports', 'World', 'World', 'Sports', 'Business', 'Sci/Tech', 'World', 'Sci/Tech', 'World', 'Sports', 'Sci/Tech', 'World', 'Business', 'World', 'Sports', 'World', 'Sports', 'Sports', 'World', 'World', 'Business', 'Sci/Tech', 'Business', 'Sports', 'World', 'Sports', 'World', 'Sci/Tech', 'Sci/Tech', 'World', 'Sports', 'World', 'Business', 'Sports', 'World', 'World', 'World', 'Sports', 'Sports', 'Sports', 'Business', 'Sports', 'World', 'Sports', 'World', 'World', 'World', 'World', 'World', 'World', 'Sports', 'Business', 'Business', 'Sports', 'World', 'Sci/Tech', 'Sports', 'World', 'Sports', 'Sports', 'World', 'Sci/Tech', 'World', 'World', 'World', 'Sports', 'Sci/Tech', 'Sports', 'World', 'Sports', 'Sports', 'Sports', 'Sports', 'Sports', 'Sports', 'Sci/Tech', 'World', 'Business', 'Sports', 'Sports', 'Business', 'Business', 'Sci/Tech', 'Business', 'World', 'World', 'Sports', 'Sports', 'Sports', 'Sports', 'Sports', 'Sports', 'Business', 'Business', 'Sports', 'World', 'Sci/Tech', 'Business', 'World', 'Business', 'Sports', 'Sports', 'Sports', 'Business', 'Sports', 'Business', 'Business', 'Sports', 'Business', 'World', 'World', 'Business', 'World', 'World', 'World', 'Business', 'Business', 'Sports', 'Business', 'World', 'Sci/Tech', 'Sports', 'Business', 'Business', 'World', 'Business', 'Sci/Tech', 'Business', 'Sci/Tech', 'Sports', 'Business', 'World', 'Business', 'Sports', 'World', 'World', 'Sci/Tech', 'Sci/Tech', 'Business', 'Business', 'World', 'World', 'World', 'Sci/Tech', 'Sci/Tech', 'Sports', 'World', 'Business', 'Business', 'Sci/Tech', 'Sci/Tech', 'Sports', 'Business', 'World', 'World', 'Sports', 'Sports', 'Sci/Tech', 'World', 'Sports', 'Sci/Tech', 'Sports', 'Sci/Tech', 'Sports', 'World', 'Sports', 'Business', 'Sci/Tech', 'Sports', 'Business', 'Sci/Tech', 'Business', 'Sci/Tech', 'Sci/Tech', 'World', 'Sports', 'Sci/Tech', 'World', 'World', 'Business', 'Business', 'Business', 'Sports', 'World', 'Sci/Tech', 'Sci/Tech', 'Business', 'Sci/Tech', 'World', 'World', 'Sports', 'Sports', 'Sci/Tech', 'Sci/Tech', 'World', 'Sci/Tech', 'Business', 'Sci/Tech', 'Sci/Tech', 'Sports', 'Sports', 'Sci/Tech', 'World', 'World', 'Sci/Tech', 'Sci/Tech', 'Sports', 'Business', 'World', 'World', 'Sci/Tech', 'Sports', 'Sports', 'Sports', 'Sci/Tech', 'World', 'Business', 'Business', 'Sci/Tech', 'World', 'Sci/Tech', 'Sci/Tech', 'Business', 'Sports', 'Sports', 'Sci/Tech', 'Business', 'Sci/Tech', 'Business', 'Sci/Tech', 'Sci/Tech', 'Sci/Tech', 'Sports', 'World', 'Business', 'Sci/Tech', 'Sports', 'World', 'Sci/Tech', 'Business', 'Sci/Tech', 'Business', 'Sci/Tech', 'Sci/Tech', 'World', 'Business', 'Business', 'Sci/Tech', 'Sci/Tech', 'World', 'Sports', 'Sci/Tech', 'Business', 'Sci/Tech', 'Sci/Tech', 'World', 'Sports', 'World', 'Sci/Tech', 'Sci/Tech', 'Business', 'Sci/Tech', 'Sci/Tech', 'World', 'Sports', 'World', 'Business', 'Business', 'World', 'World', 'Sports', 'Sports', 'Sports', 'Sci/Tech', 'World', 'Sci/Tech', 'Sports', 'World', 'Business', 'Business', 'World', 'World', 'Sci/Tech', 'Sci/Tech', 'Business', 'Sports', 'Sci/Tech', 'Sci/Tech', 'Sci/Tech', 'Sci/Tech', 'Sci/Tech', 'Sci/Tech', 'Sci/Tech', 'Business', 'Sci/Tech', 'Sci/Tech', 'World', 'Sports', 'Sports', 'Business', 'Business', 'Sci/Tech', 'Sci/Tech', 'Sci/Tech', 'Sci/Tech', 'Sci/Tech', 'World', 'World', 'World', 'Business', 'Business', 'World', 'World', 'Business', 'Sci/Tech', 'Business', 'World', 'Business', 'Sports', 'Business', 'Sci/Tech', 'World', 'Sci/Tech', 'Sci/Tech', 'Sci/Tech', 'World', 'Business', 'Business', 'Sports', 'Sports', 'Sports', 'Business', 'Business', 'World', 'Sci/Tech', 'Sci/Tech', 'Sports', 'World', 'Business', 'Business', 'Business', 'Sci/Tech', 'Business', 'Sci/Tech', 'Sports', 'Sports', 'World', 'Business', 'Sci/Tech', 'Sports', 'World', 'Sports', 'World', 'Sports', 'Sports', 'World', 'Sci/Tech', 'Sports', 'World', 'Business', 'Sports', 'Sports', 'World', 'Sports', 'World', 'World', 'World', 'Business', 'Sports', 'Sports', 'Sci/Tech', 'Business', 'World', 'Sports', 'Sports', 'Sports', 'Business', 'Sports', 'Sci/Tech', 'Business', 'Business', 'Business', 'Business', 'Sci/Tech', 'World', 'Sports', 'Sports', 'Sports', 'Sports', 'World', 'Sports', 'Sports', 'Sports', 'Business', 'Business', 'Sports', 'World', 'Sports', 'Sci/Tech', 'Sci/Tech', 'Sports', 'World', 'World', 'Sci/Tech', 'Business', 'World', 'Sci/Tech', 'World', 'Sports', 'Sports', 'Sports', 'World', 'World', 'Business', 'Sports', 'World', 'World', 'Sports', 'Sports', 'Sports', 'Business', 'World', 'Sports', 'World', 'Sports', 'Business', 'Business', 'Sci/Tech', 'Sports', 'World', 'Business', 'World', 'Sports', 'Sports', 'Sports', 'Business', 'World', 'Business', 'World', 'Business', 'World', 'World', 'Sci/Tech', 'World', 'Sports', 'Business', 'Sci/Tech', 'Sci/Tech', 'Sports', 'Business', 'Sci/Tech', 'Business', 'Sci/Tech', 'Sci/Tech', 'Sports', 'World', 'Business', 'Business', 'Sci/Tech', 'Business', 'Sports', 'World', 'Sports', 'Sports', 'Business', 'Sports', 'Sports', 'World', 'Business', 'Business', 'Business', 'World', 'World', 'Sci/Tech', 'Business', 'Sports', 'Sports', 'Sports', 'Sci/Tech', 'World', 'World', 'Sci/Tech', 'World', 'Sports', 'Sci/Tech', 'Sci/Tech', 'Business', 'Sports', 'World', 'Business', 'Business', 'Business', 'Sports', 'Business', 'World', 'Business', 'Sci/Tech', 'Sports', 'Sports', 'Sports', 'Sports', 'Sci/Tech', 'Business', 'Sports', 'Sports', 'Business', 'World', 'Business', 'Sci/Tech', 'Business', 'Sci/Tech', 'Business', 'Business', 'Sci/Tech', 'World', 'World', 'World', 'Sci/Tech', 'Sports', 'World', 'Sports', 'Business', 'World', 'Sci/Tech', 'World', 'Sports', 'Business', 'Business', 'Business', 'World', 'Sci/Tech', 'Sci/Tech', 'World', 'Sports', 'Business', 'Business', 'Sports', 'Business', 'Sports', 'Sci/Tech', 'Business', 'Sci/Tech', 'Sci/Tech', 'Sports', 'Sports', 'World', 'Business', 'Sci/Tech', 'Sci/Tech', 'Sci/Tech', 'Business', 'Business', 'Business', 'Business', 'World', 'World', 'Sports', 'Business', 'Sports', 'Sci/Tech', 'Business', 'Sci/Tech', 'Sci/Tech', 'Business', 'Sports', 'Sci/Tech', 'Sci/Tech', 'Sports', 'World', 'Sports', 'Sci/Tech', 'Business', 'Sports', 'Business', 'Business', 'Business', 'Sci/Tech', 'Business', 'Sports', 'Sci/Tech', 'Sci/Tech', 'World', 'Business', 'Business', 'Sci/Tech', 'Business', 'Sci/Tech', 'Sports', 'Business', 'World', 'Business', 'Sci/Tech', 'Sports', 'Sci/Tech', 'Sci/Tech', 'World', 'Business', 'Sports', 'Sports', 'Sci/Tech', 'Sports', 'World', 'World', 'Business', 'Business', 'Sports', 'Sci/Tech', 'Sci/Tech', 'Sci/Tech', 'Sports', 'World', 'Business', 'Business', 'Sports', 'Business', 'World', 'Sports', 'Sci/Tech', 'World', 'World', 'Sports', 'Sports', 'Sports', 'Sports', 'Sports', 'Business', 'Business', 'Business', 'Sci/Tech', 'Sci/Tech', 'Sports', 'Business', 'Business', 'Sports', 'Sports', 'Business', 'Business', 'World', 'Sports', 'World', 'World', 'Sci/Tech', 'Sci/Tech', 'Sci/Tech', 'Sci/Tech', 'Sci/Tech', 'Business', 'Business', 'Business', 'Sci/Tech', 'Sci/Tech', 'Sports', 'World', 'Sci/Tech', 'Business', 'Sci/Tech', 'Sports', 'Business', 'World', 'Sci/Tech', 'Sci/Tech', 'World', 'Sci/Tech', 'Sci/Tech', 'World', 'Sci/Tech', 'Business', 'Business', 'Sci/Tech', 'World', 'Sports', 'World', 'Business', 'Sci/Tech', 'Sports', 'World', 'Sci/Tech', 'World', 'Sci/Tech', 'World', 'World', 'Sports', 'World', 'Sports', 'Sports', 'Business', 'Sports', 'Sci/Tech', 'World', 'Sports', 'Sci/Tech', 'World', 'Business', 'World', 'Sports', 'World', 'Business', 'Business', 'Business', 'Business', 'Sports', 'Sci/Tech', 'Sci/Tech', 'Sports', 'Sports', 'Sports', 'World', 'World', 'World', 'Sports', 'World', 'Business', 'Sports', 'Sci/Tech', 'Sci/Tech', 'Sci/Tech', 'Business', 'Sci/Tech', 'Sports', 'Sci/Tech', 'World', 'World', 'World', 'Sci/Tech', 'Sci/Tech', 'Sci/Tech', 'Sci/Tech', 'Business', 'Sci/Tech', 'Sci/Tech', 'Business', 'Sports', 'Sci/Tech', 'World', 'Sports', 'World', 'Sci/Tech', 'World', 'Sports', 'World', 'Business', 'World', 'Sci/Tech', 'Business', 'World', 'World', 'Business', 'Business', 'World', 'World', 'Sci/Tech', 'World', 'Sports', 'World', 'World', 'Business', 'Sports', 'Sci/Tech', 'Sci/Tech', 'World', 'World', 'World', 'World', 'Sports', 'Business', 'World', 'Sci/Tech', 'Sports', 'Business', 'Sports', 'Sports', 'Sports', 'Business', 'Sports', 'Sports', 'World', 'Sports', 'Business', 'World', 'Sports', 'Sports', 'Sports', 'Sports', 'World', 'World', 'Sports', 'Sports', 'Sports', 'World', 'Sci/Tech', 'Sports', 'Business', 'World', 'Sports', 'World', 'Sci/Tech', 'World', 'World', 'World', 'Sports', 'Business', 'Sports', 'World', 'World', 'Sports', 'World', 'Business', 'Business', 'Sports', 'World', 'Sports', 'World', 'Sports', 'Business', 'World', 'World', 'Sci/Tech', 'Sports', 'Business', 'Business', 'Sports', 'World', 'Sci/Tech', 'Business', 'World', 'Sci/Tech', 'Sci/Tech', 'Business', 'Business', 'Business', 'Sports', 'Business', 'World', 'World', 'Sci/Tech', 'Sci/Tech', 'Sci/Tech', 'Sci/Tech', 'Business', 'World', 'Sports', 'Sci/Tech', 'Sci/Tech', 'Sports', 'Business', 'Sci/Tech', 'Sci/Tech', 'Business', 'Sci/Tech', 'Sci/Tech', 'Sci/Tech', 'Business', 'World', 'World', 'Business', 'Sci/Tech', 'Sci/Tech', 'Sci/Tech', 'Sci/Tech', 'Sports', 'World', 'Business', 'Sports', 'Sci/Tech', 'World', 'World', 'Sports', 'Sports', 'Business', 'Sci/Tech', 'Business', 'Sci/Tech', 'Sports', 'Business', 'World', 'Sci/Tech', 'Sci/Tech', 'Business', 'Business', 'Sports', 'World', 'Business', 'Sci/Tech', 'Sci/Tech', 'Business', 'Sci/Tech', 'Business', 'World', 'World', 'Business', 'Sports', 'World', 'Sci/Tech', 'Sports', 'Business', 'Sports', 'World', 'Business', 'Sports', 'Sci/Tech', 'Sports', 'World', 'Sci/Tech', 'Business', 'Sci/Tech', 'Sci/Tech', 'Sci/Tech', 'World', 'Business', 'Business', 'Business', 'Sci/Tech', 'Sci/Tech', 'World', 'Sports', 'Business', 'World', 'Sports', 'Sci/Tech', 'Sci/Tech', 'Sci/Tech', 'Business', 'Sports', 'Sports', 'Business', 'Sci/Tech', 'Sci/Tech', 'Sci/Tech', 'Sports', 'Business', 'Business', 'Sports', 'World', 'Sci/Tech', 'Business', 'Business', 'Business', 'Sci/Tech', 'Sports', 'World', 'Sci/Tech', 'Sci/Tech', 'Business', 'Sports', 'Sci/Tech', 'World', 'Business', 'Sports', 'Sports', 'Sports', 'Sports', 'Business', 'Sports', 'Sports', 'Sports', 'World', 'Sports', 'Sports', 'World', 'Sci/Tech', 'World', 'World', 'Business', 'World', 'Business', 'Sports', 'Sci/Tech', 'World', 'Business', 'Sports', 'Sci/Tech', 'World', 'World', 'Business', 'Sports', 'Sports', 'World', 'Sports', 'Sci/Tech', 'Business', 'World', 'Sports', 'Business', 'Sports', 'World', 'Business', 'Business', 'Business', 'World', 'Sci/Tech', 'Sci/Tech', 'Business', 'Sports', 'Sports', 'World', 'World', 'World', 'Sci/Tech', 'Sports', 'Business', 'Sci/Tech', 'Sports', 'Sports', 'Sports', 'Business', 'Sports', 'Business', 'World', 'Business', 'Sports', 'Sports', 'Sci/Tech', 'Business', 'Sci/Tech', 'Sports', 'Business', 'World', 'Sports', 'Sci/Tech', 'Sports', 'Business', 'Sports', 'Sci/Tech', 'Sports', 'World', 'Sports', 'Sports', 'Sci/Tech', 'Sports', 'World', 'Sci/Tech', 'Sports', 'World', 'World', 'World', 'Business', 'Sci/Tech', 'Sports', 'World', 'Business', 'Sports', 'Business', 'Business', 'World', 'World', 'Sports', 'Sports', 'Sci/Tech', 'Sports', 'Sci/Tech', 'World', 'World', 'World', 'Sports', 'Business', 'World', 'Sports', 'World', 'Business', 'World', 'World', 'Business', 'World', 'Business', 'World', 'Sports', 'World', 'Sci/Tech', 'World', 'Business', 'Sci/Tech', 'Sci/Tech', 'World', 'World', 'Sports', 'Business', 'World', 'Business', 'Business', 'Sci/Tech', 'Sci/Tech', 'Business', 'World', 'World', 'Sci/Tech', 'World', 'Business', 'Sports', 'World', 'Sci/Tech', 'Sci/Tech', 'Business', 'Sports', 'World', 'Sci/Tech', 'Sports', 'World', 'Sci/Tech', 'Sports', 'Sci/Tech', 'Sci/Tech', 'Sci/Tech', 'World', 'World', 'Sci/Tech', 'Sci/Tech', 'Sci/Tech', 'World', 'Business', 'Sci/Tech', 'World', 'Sci/Tech', 'Business', 'Business', 'Sci/Tech', 'Sci/Tech', 'Business', 'Sci/Tech', 'Sports', 'World', 'World', 'Sci/Tech', 'Sports', 'Business', 'Sports', 'World', 'Sports', 'Sci/Tech', 'World', 'Business', 'Sci/Tech', 'Sports', 'Sci/Tech', 'Sports', 'Sci/Tech', 'Sci/Tech', 'Business', 'Business', 'Sci/Tech', 'Sci/Tech', 'Business', 'World', 'Business', 'Business', 'Business', 'Business', 'Sports', 'Sports', 'Sports', 'World', 'World', 'Sci/Tech', 'World', 'Sci/Tech', 'Sci/Tech', 'World', 'Sci/Tech', 'Sci/Tech', 'Sports', 'World', 'Sports', 'Sports', 'World', 'Sports', 'Sports', 'Business', 'Sports', 'World', 'Sports', 'Sci/Tech', 'Sci/Tech', 'Sci/Tech', 'Sci/Tech', 'Sports', 'Business', 'Business', 'Sports', 'Business', 'Business', 'Sports', 'Sci/Tech', 'World', 'World', 'Sci/Tech', 'Sci/Tech', 'Sports', 'Sports', 'World', 'Business', 'Sci/Tech', 'Business', 'World', 'World', 'World', 'Sci/Tech', 'World', 'World', 'World', 'Sports', 'Sci/Tech', 'Sci/Tech', 'Sports', 'Sci/Tech', 'World', 'Sci/Tech', 'Business', 'Sci/Tech', 'Business', 'Sports', 'Business', 'World', 'Business', 'Sci/Tech', 'Business', 'World', 'Sports', 'Sports', 'Sports', 'Sports', 'Sports', 'World', 'Business', 'Sci/Tech', 'Sci/Tech', 'Sports', 'Sci/Tech', 'Business', 'World', 'World', 'World', 'World', 'World', 'World', 'Business', 'Sports', 'Sports', 'World', 'World', 'World', 'Sports', 'World', 'Sci/Tech', 'Sports', 'World', 'World', 'World', 'World', 'Sports', 'Sports', 'Business', 'Sci/Tech', 'Business', 'Sports', 'World', 'Business', 'Sports', 'Sports', 'Sci/Tech', 'World', 'World', 'Sports', 'Sports', 'Business', 'World', 'Sports', 'Business', 'Sports', 'Sports', 'Sports', 'World', 'World', 'World', 'World', 'World', 'Sports', 'World', 'World', 'Sci/Tech', 'Business', 'World', 'Sports', 'World', 'Sports', 'Business', 'Business', 'Sports', 'Sci/Tech', 'World', 'Sports', 'World', 'World', 'Sports', 'World', 'Sports', 'Sports', 'Sports', 'Business', 'Sci/Tech', 'Sci/Tech', 'World', 'Business', 'Sci/Tech', 'Business', 'World', 'World', 'Sci/Tech', 'Sports', 'Business', 'World', 'Sci/Tech', 'Sci/Tech', 'Sci/Tech', 'Sports', 'Sports', 'Business', 'Sports', 'Sci/Tech', 'Sci/Tech', 'Sci/Tech', 'Sci/Tech', 'Sci/Tech', 'World', 'Sci/Tech', 'Sci/Tech', 'World', 'Sports', 'Sports', 'Business', 'Sci/Tech', 'Sci/Tech', 'Sports', 'Sci/Tech', 'Business', 'Business', 'World', 'Sports', 'Business', 'Business', 'Sci/Tech', 'Business', 'Business', 'World', 'Sci/Tech', 'Business', 'Sci/Tech', 'Sci/Tech', 'Sci/Tech', 'Sci/Tech', 'Sports', 'Sci/Tech', 'World', 'World', 'Sports', 'World', 'Sci/Tech', 'Sci/Tech', 'World', 'Sci/Tech', 'Sci/Tech', 'Sci/Tech', 'Sports', 'Sci/Tech', 'Sports', 'Sports', 'Business', 'Sci/Tech', 'World', 'Sci/Tech', 'Business', 'Sports', 'World', 'Sports', 'Business', 'Business', 'World', 'World', 'Sports', 'World', 'Sci/Tech', 'Business', 'World', 'Sci/Tech', 'Sci/Tech', 'World', 'Business', 'Business', 'Sci/Tech', 'Sports', 'World', 'World', 'World', 'Business', 'Sci/Tech', 'Sci/Tech', 'Sci/Tech', 'Sci/Tech', 'Sci/Tech', 'Sci/Tech', 'Business', 'World', 'World', 'Sci/Tech', 'Business', 'World', 'Business', 'Business', 'Business', 'Sci/Tech', 'Sports', 'Sci/Tech', 'Sci/Tech', 'World', 'Sci/Tech', 'Sci/Tech', 'Business', 'Sci/Tech', 'Sci/Tech', 'Sports', 'Sci/Tech', 'World', 'Business', 'World', 'Business', 'Business', 'Sci/Tech', 'Sci/Tech', 'Sci/Tech', 'Sci/Tech', 'Business', 'Business', 'Business', 'World', 'Sports', 'Sci/Tech', 'World', 'World', 'Sports', 'Sports', 'Sci/Tech', 'Sci/Tech', 'World', 'Sci/Tech', 'World', 'Business', 'World', 'Sports', 'Sports', 'World', 'Business', 'Business', 'Business', 'Sports', 'World', 'World', 'Business', 'Sports', 'Sports', 'World', 'World', 'Sports', 'Sports', 'Sci/Tech', 'World', 'World', 'Sci/Tech', 'World', 'Sports', 'Sci/Tech', 'Sci/Tech', 'Business', 'World', 'Sci/Tech', 'Sci/Tech', 'Business', 'Business', 'Business', 'Business', 'Sports', 'Sci/Tech', 'Business', 'Sports', 'Sports', 'Sci/Tech', 'Sports', 'Sports', 'Sci/Tech', 'Sci/Tech', 'World', 'Sci/Tech', 'World', 'Sci/Tech', 'Business', 'World', 'Sports', 'Business', 'Business', 'World', 'Business', 'Sci/Tech', 'Sci/Tech', 'World', 'Sci/Tech', 'Sci/Tech', 'Sci/Tech', 'World', 'Sci/Tech', 'World', 'Sci/Tech', 'Sci/Tech', 'Sci/Tech', 'Sci/Tech', 'Sports', 'Business', 'Sports', 'Business', 'Business', 'World', 'Sports', 'Sports', 'World', 'Sports', 'Sports', 'World', 'Business', 'Business', 'World', 'Business', 'Business', 'Business', 'Business', 'Business', 'Sports', 'Sci/Tech', 'Business', 'Business', 'Business', 'Sports', 'Business', 'Business', 'Sci/Tech', 'World', 'World', 'Sports', 'Sports', 'Sports', 'Sports', 'Sports', 'Business', 'Business', 'Business', 'Sports', 'Sci/Tech', 'Sci/Tech', 'Sports', 'Business', 'World', 'World', 'Sports', 'Business', 'Business', 'Business', 'Sci/Tech', 'Sports', 'World', 'Sci/Tech', 'World', 'Sci/Tech', 'Business', 'Business', 'Sci/Tech', 'Business', 'Sci/Tech', 'Business', 'Sports', 'Sci/Tech', 'Business', 'World', 'World', 'Sports', 'Business', 'Sci/Tech', 'World', 'World', 'Business', 'World', 'World', 'World', 'Sports', 'World', 'Business', 'Sci/Tech', 'Sports', 'Business', 'Business', 'World', 'Sci/Tech', 'Sci/Tech', 'Sci/Tech', 'Sci/Tech', 'Sports', 'Sci/Tech', 'Business', 'World', 'Sci/Tech', 'Sports', 'Sports', 'Sports', 'Business', 'World', 'Sports', 'Business', 'Business', 'Business', 'Sci/Tech', 'World', 'World', 'World', 'Business', 'Sports', 'Sports', 'Sports', 'Business', 'World', 'Business', 'Sci/Tech', 'Sports', 'World', 'Sports', 'Sci/Tech', 'Business', 'Sci/Tech', 'Sci/Tech', 'Sports', 'Sci/Tech', 'World', 'Sci/Tech', 'Business', 'Business', 'Sci/Tech', 'Sci/Tech', 'Business', 'Business', 'World', 'Business', 'Sci/Tech', 'World', 'Business', 'Business', 'Sci/Tech', 'Sports', 'Sci/Tech', 'Sci/Tech', 'Sci/Tech', 'Sci/Tech', 'Sci/Tech', 'Business', 'Business', 'Sci/Tech', 'Sports', 'World', 'Business', 'Business', 'Sci/Tech', 'Sci/Tech', 'Business', 'World', 'Business', 'Business', 'Sci/Tech', 'Sports', 'Sports', 'Sports', 'Sports', 'Sci/Tech', 'Business', 'Sports', 'World', 'World', 'Business', 'World', 'Sports', 'Sports', 'Business', 'Sports', 'World', 'Business', 'Business', 'Sports', 'Sports', 'Sports', 'Business', 'Sports', 'World', 'Sports', 'Sports', 'Business', 'Sports', 'Business', 'World', 'Sci/Tech', 'Sports', 'Sports', 'World', 'World', 'Business', 'Business', 'Sports', 'World', 'Sports', 'Sports', 'Sports', 'Sports', 'Sports', 'Business', 'World', 'Sports', 'Business', 'Business', 'Sports', 'Sports', 'World', 'Sports', 'World', 'World', 'Sci/Tech', 'Sports', 'Sports', 'Sports', 'World', 'World', 'World', 'Sports', 'Sports', 'Sports', 'Sports', 'World', 'Sci/Tech', 'Sci/Tech', 'Sci/Tech', 'Sports', 'World', 'World', 'Sports', 'World', 'World', 'Sports', 'Sports', 'World', 'Sports', 'Sci/Tech', 'Sci/Tech', 'Business', 'Sports', 'Sports', 'Sports', 'World', 'World', 'Business', 'Sci/Tech', 'Business', 'Sports', 'Business', 'Business', 'World', 'World', 'World', 'Business', 'Sports', 'Sports', 'World', 'World', 'Sci/Tech', 'Sci/Tech', 'Sports', 'World', 'World', 'Sports', 'World', 'Sports', 'World', 'World', 'Business', 'Business', 'World', 'Sports', 'Sports', 'Sports', 'Sci/Tech', 'World', 'Business', 'Business', 'Sci/Tech', 'Sci/Tech', 'Sci/Tech', 'World', 'Sports', 'Business', 'Business', 'Sci/Tech', 'Sci/Tech', 'Sports', 'Sci/Tech', 'Sci/Tech', 'World', 'Business', 'Sci/Tech', 'Business', 'World', 'Business', 'World', 'Business', 'World', 'Business', 'Business', 'Sci/Tech', 'Business', 'Business', 'Sci/Tech', 'World', 'World', 'World', 'Sci/Tech', 'Sports', 'World', 'Sci/Tech', 'Business', 'Business', 'Sci/Tech', 'Sci/Tech', 'World', 'Business', 'Sports', 'Sci/Tech', 'Business', 'Sci/Tech', 'Sci/Tech', 'Business', 'Sci/Tech', 'Sports', 'Sports', 'World', 'Sci/Tech', 'Sports', 'Business', 'Business', 'Sports', 'Sports', 'Sports', 'World', 'Sci/Tech', 'Sports', 'Sci/Tech', 'Business', 'World', 'Business', 'Sports', 'Sports', 'Sports', 'Sports', 'Business', 'Sports', 'Sports', 'World', 'World', 'Business', 'Business', 'Sci/Tech', 'Sports', 'Business', 'World', 'Business', 'Sci/Tech', 'World', 'World', 'Business', 'Business', 'Sci/Tech', 'Sports', 'Business', 'World', 'Business', 'Sports', 'Business', 'Business', 'World', 'Sci/Tech', 'World', 'Business', 'Business', 'Sci/Tech', 'Sci/Tech', 'Business', 'Sci/Tech', 'Sci/Tech', 'Sci/Tech', 'Business', 'Business', 'Sci/Tech', 'Sci/Tech', 'World', 'Business', 'World', 'World', 'Business', 'Business', 'Sports', 'Sports', 'Sports', 'Sci/Tech', 'Sci/Tech', 'Sci/Tech', 'World', 'Business', 'Business', 'Sci/Tech', 'Business', 'Business', 'Business', 'World', 'Business', 'World', 'Sports', 'Business', 'Sci/Tech', 'Sci/Tech', 'Sci/Tech', 'Sci/Tech', 'World', 'Sci/Tech', 'Sports', 'Business', 'Sports', 'Sports', 'Sports', 'Business', 'Sci/Tech', 'World', 'World', 'Sci/Tech', 'Sports', 'Business', 'World', 'Business', 'Sci/Tech', 'Sports', 'Business', 'World', 'Business', 'Sci/Tech', 'Sports', 'World', 'Business', 'Sports', 'Sports', 'World', 'Sports', 'World', 'Business', 'Sci/Tech', 'World', 'Sports', 'Business', 'Business', 'Sports', 'Sci/Tech', 'Business', 'Business', 'Sports', 'Business', 'Sci/Tech', 'Sci/Tech', 'Business', 'Sci/Tech', 'Business', 'World', 'Business', 'Sci/Tech', 'World', 'Business', 'Sci/Tech', 'Sci/Tech', 'Business', 'Sci/Tech', 'Sci/Tech', 'Business', 'World', 'Sci/Tech', 'Business', 'Business', 'Sci/Tech', 'Sports', 'Business', 'Sci/Tech', 'Sports', 'Sci/Tech', 'Sci/Tech', 'Sci/Tech', 'World', 'Sports', 'Business', 'Sports', 'Sci/Tech', 'Business', 'Sci/Tech', 'Sci/Tech', 'Business', 'Sci/Tech', 'Business', 'Sci/Tech', 'Sports', 'Sports', 'Business', 'Sci/Tech', 'Sci/Tech', 'Sports', 'Sci/Tech', 'Sci/Tech', 'Sci/Tech', 'World', 'Sports', 'Sci/Tech', 'Sci/Tech', 'Sci/Tech', 'Sci/Tech', 'World', 'Sports', 'Sci/Tech', 'Sci/Tech', 'Sci/Tech', 'Sci/Tech', 'World', 'Business', 'Business', 'World', 'Sci/Tech', 'World', 'Sports', 'Sports', 'World', 'Business', 'World', 'Sports', 'Sports', 'Business', 'Business', 'Sports', 'World', 'Sci/Tech', 'Sports', 'Sci/Tech', 'World', 'Business', 'Business', 'Sports', 'World', 'World', 'World', 'Business', 'Sci/Tech', 'Business', 'Sci/Tech', 'Sports', 'World', 'World', 'Sci/Tech', 'Sci/Tech', 'Sci/Tech', 'Business', 'Business', 'World', 'Sci/Tech', 'World', 'Sci/Tech', 'Business', 'Sports', 'Sports', 'World', 'Sci/Tech', 'Sci/Tech', 'Sports', 'Sci/Tech', 'World', 'Business', 'Business', 'Sci/Tech', 'Business', 'Sports', 'Sports', 'Sports', 'Business', 'Sports', 'Business', 'Sports', 'Sci/Tech', 'Business', 'Sci/Tech', 'Sports', 'World', 'Sci/Tech', 'World', 'World', 'Sci/Tech', 'Sci/Tech', 'Sports', 'Sports', 'Sports', 'Sports', 'Sports', 'Sports', 'Sports', 'Sci/Tech', 'Sports', 'Sports', 'Business', 'Sports', 'Business', 'Sports', 'World', 'Sci/Tech', 'World', 'Sports', 'Sports', 'World', 'Sports', 'Sports', 'Business', 'Sci/Tech', 'World', 'World', 'Sci/Tech', 'Business', 'Sci/Tech', 'Sports', 'Sports', 'Sci/Tech', 'Sci/Tech', 'World', 'World', 'Business', 'Business', 'Sports', 'World', 'Sci/Tech', 'Sports', 'Sci/Tech', 'Sci/Tech', 'Sci/Tech', 'Sci/Tech', 'Business', 'Sports', 'Sports', 'Business', 'Sci/Tech', 'Business', 'Business', 'Business', 'Business', 'Sci/Tech', 'Sports', 'Sports', 'World', 'Business', 'Sci/Tech', 'World', 'Sci/Tech', 'Sci/Tech', 'Sports', 'Sports', 'Business', 'Sci/Tech', 'Sports', 'Sci/Tech', 'World', 'Business', 'Sci/Tech', 'World', 'Sports', 'Sports', 'Sci/Tech', 'Sports', 'World', 'Sci/Tech', 'World', 'Business', 'World', 'Sci/Tech', 'Business', 'Business', 'Sports', 'World', 'Business', 'Business', 'World', 'World', 'Business', 'Sci/Tech', 'Sports', 'Business', 'Sci/Tech', 'World', 'World', 'Business', 'Business', 'Business', 'Business', 'World', 'World', 'Sports', 'Sports', 'World', 'Sports', 'Sports', 'World', 'World', 'Sports', 'World', 'Sports', 'Business', 'Sports', 'Business', 'Sci/Tech', 'Business', 'World', 'Sports', 'Business', 'Sports', 'Business', 'Business', 'Sci/Tech', 'World', 'Business', 'Sports', 'Business', 'Business', 'Sports', 'World', 'Business', 'World', 'Sports', 'Business', 'Sports', 'Business', 'Sports', 'Sci/Tech', 'Sports', 'Sports', 'Sports', 'Sports', 'Sports', 'World', 'Sci/Tech', 'Business', 'Sports', 'Sports', 'Sci/Tech', 'World', 'World', 'World', 'World', 'Sports', 'World', 'Business', 'Sports', 'Sports', 'World', 'Sports', 'Sports', 'Business', 'Business', 'Sports', 'World', 'Business', 'Sci/Tech', 'Sci/Tech', 'World', 'Sci/Tech', 'Sci/Tech', 'World', 'World', 'World', 'World', 'Sports', 'Sports', 'Business', 'Sci/Tech', 'Business', 'Business', 'Sports', 'Sports', 'Sci/Tech', 'Sports', 'World', 'Business', 'Business', 'Business', 'Sports', 'Sci/Tech', 'World', 'World', 'Business', 'Business', 'World', 'Business', 'Sci/Tech', 'Sports', 'Sci/Tech', 'Sci/Tech', 'Sci/Tech', 'Sports', 'World', 'Sports', 'Sports', 'Business', 'Sci/Tech', 'Business', 'Sci/Tech', 'Sci/Tech', 'Business', 'World', 'Sci/Tech', 'Business', 'Business', 'World', 'Sci/Tech', 'World', 'Sci/Tech', 'Sci/Tech', 'World', 'Business', 'World', 'Sci/Tech', 'Business', 'Sci/Tech', 'Sports', 'World', 'Business', 'Sci/Tech', 'Business', 'World', 'World', 'World', 'Sci/Tech', 'Sports', 'Sci/Tech', 'Business', 'Sci/Tech', 'Business', 'Sports', 'World', 'World', 'Business', 'Business', 'Sci/Tech', 'Sci/Tech', 'World', 'Sci/Tech', 'Sci/Tech', 'Sci/Tech', 'Sports', 'World', 'Business', 'Sci/Tech', 'Sci/Tech', 'World', 'Sports', 'Sports', 'Sports', 'World', 'World', 'World', 'Sports', 'Sci/Tech', 'Business', 'World', 'Business', 'Sci/Tech', 'Sports', 'World', 'Sci/Tech', 'World', 'World', 'Sports', 'Sports', 'World', 'Sci/Tech', 'World', 'Business', 'Business', 'World', 'Sports', 'World', 'Sci/Tech', 'World', 'Business', 'Business', 'Sports', 'Sci/Tech', 'World', 'Business', 'Business', 'Business', 'Sci/Tech', 'World', 'World', 'Business', 'Business', 'Business', 'World', 'Business', 'Business', 'World', 'World', 'World', 'Sci/Tech', 'Sci/Tech', 'Sci/Tech', 'Sports', 'Business', 'Business', 'Business', 'Sci/Tech', 'World', 'World', 'Business', 'Sports', 'Business', 'World', 'World', 'Business', 'Business', 'Business', 'Business', 'Sports', 'Sci/Tech', 'Business', 'World', 'Business', 'Sci/Tech', 'Sci/Tech', 'Sci/Tech', 'World', 'Sci/Tech', 'World', 'Sci/Tech', 'World', 'Sci/Tech', 'Sports', 'Sports', 'Sports', 'World', 'Sports', 'Sports', 'Sports', 'Sports', 'Sports', 'World', 'Business', 'Sci/Tech', 'Business', 'Business', 'Sports', 'World', 'Business', 'World', 'World', 'World', 'World', 'Sci/Tech', 'Business', 'World', 'World', 'World', 'Sci/Tech', 'Sci/Tech', 'Business', 'Sports', 'Business', 'Sports', 'Sci/Tech', 'Sci/Tech', 'Business', 'Sci/Tech', 'Business', 'Business', 'World', 'Business', 'Business', 'Sports', 'Business', 'Sports', 'Business', 'Sports', 'Business', 'Business', 'Sci/Tech', 'World', 'Sci/Tech', 'Sci/Tech', 'Sci/Tech', 'Sports', 'World', 'Sci/Tech', 'World', 'Sci/Tech', 'Business', 'Sci/Tech', 'Sci/Tech', 'Sci/Tech', 'Sci/Tech', 'Sci/Tech', 'Business', 'World', 'Sci/Tech', 'World', 'World', 'Business', 'World', 'World', 'Sports', 'World', 'Business', 'Sci/Tech', 'World', 'Business', 'Sports', 'Sports', 'Sci/Tech', 'World', 'World', 'Sci/Tech', 'World', 'World', 'World', 'Sports', 'Sports', 'Business', 'Sports', 'Business', 'Sports', 'Business', 'Business', 'Business', 'Sports', 'Business', 'World', 'Business', 'Business', 'Sports', 'Business', 'World', 'Business', 'Business', 'Sports', 'Sports', 'Sports', 'Business', 'Sports', 'Business', 'Sci/Tech', 'Sci/Tech', 'World', 'World', 'World', 'Sports', 'Sports', 'Sports', 'Business', 'Business', 'Sports', 'World', 'Business', 'Sci/Tech', 'Sci/Tech', 'Sports', 'World', 'Sports', 'Sports', 'Sports', 'Sports', 'Business', 'Sci/Tech', 'Sports', 'Sports', 'World', 'Sci/Tech', 'Sports', 'Sci/Tech', 'Sci/Tech', 'Sports', 'Sports', 'Sci/Tech', 'Sci/Tech', 'Sports', 'World', 'World', 'Business', 'Business', 'Business', 'Sci/Tech', 'Sci/Tech', 'World', 'Sports', 'Business', 'Sports', 'World', 'World', 'Business', 'Sports', 'Sci/Tech', 'World', 'Sci/Tech', 'Sci/Tech', 'Business', 'Sci/Tech', 'World', 'World', 'World', 'Sci/Tech', 'Sci/Tech', 'Business', 'Sci/Tech', 'Sci/Tech', 'Business', 'World', 'World', 'Business', 'Business', 'Business', 'Sci/Tech', 'Sports', 'Sci/Tech', 'Business', 'Sports', 'Sci/Tech', 'Business', 'Business', 'Sci/Tech', 'Sci/Tech', 'Business', 'Business', 'Sports', 'Sports', 'Sci/Tech', 'Business', 'World', 'Sci/Tech', 'Business', 'World', 'Business', 'Sci/Tech', 'World', 'Sci/Tech', 'World', 'Business', 'Sci/Tech', 'World', 'Business', 'Sci/Tech', 'Sports', 'Sci/Tech', 'World', 'Business', 'World', 'Business', 'Business', 'Sci/Tech', 'World', 'World', 'World', 'World', 'World', 'Business', 'Sci/Tech', 'Sports', 'Business', 'Sci/Tech', 'Sci/Tech', 'World', 'Sports', 'Sports', 'Sports', 'Business', 'Business', 'Sci/Tech', 'Sports', 'Business', 'Sci/Tech', 'Business', 'Sci/Tech', 'World', 'World', 'Sci/Tech', 'Sci/Tech', 'World', 'Sci/Tech', 'World', 'World', 'World', 'Business', 'World', 'World', 'World', 'Sci/Tech', 'Sci/Tech', 'Business', 'Sports', 'Sports', 'World', 'Business', 'World', 'World', 'Business', 'Sci/Tech', 'Sci/Tech', 'Sports', 'Sports', 'World', 'Sci/Tech', 'Sci/Tech', 'World', 'World', 'World', 'Sci/Tech', 'Sports', 'Business', 'World', 'World', 'World', 'Sci/Tech', 'World', 'Sports', 'World', 'World', 'World', 'World', 'Sports', 'Sports', 'Sports', 'Sports', 'Sports', 'World', 'Sports', 'World', 'Sports', 'World', 'Sports', 'Sports', 'World', 'Sci/Tech', 'World', 'Sports', 'Sci/Tech', 'World', 'Sci/Tech', 'Business', 'Sports', 'World', 'Sports', 'Business', 'Sports', 'Sports', 'World', 'World', 'World', 'Business', 'World', 'Sports', 'Sports', 'World', 'Business', 'Business', 'World', 'Business', 'Sports', 'World', 'Sports', 'Sports', 'World', 'Sports', 'World', 'Sci/Tech', 'World', 'Business', 'Sci/Tech', 'Sports', 'World', 'World', 'Business', 'World', 'Business', 'Sci/Tech', 'Business', 'Business', 'Business', 'Sports', 'World', 'Business', 'World', 'Business', 'Business', 'Sports', 'Sports', 'Sports', 'World', 'Sci/Tech', 'Business', 'World', 'Business', 'Business', 'Business', 'World', 'Business', 'Sports', 'Sports', 'World', 'Sports', 'Business', 'Sports', 'Sci/Tech', 'Sports', 'World', 'Sci/Tech', 'World', 'Business', 'World', 'World', 'Sci/Tech', 'World', 'Sci/Tech', 'World', 'Sci/Tech', 'World', 'Business', 'Business', 'Sports', 'World', 'Sports', 'Sports', 'World', 'Sci/Tech', 'Business', 'World', 'Sports', 'World', 'Business', 'World', 'Sports', 'Business', 'Business', 'World', 'Business', 'Business', 'Sports', 'World', 'World', 'Sports', 'Business', 'Sports', 'Sci/Tech', 'Sci/Tech', 'World', 'Sci/Tech', 'Sports', 'Sports', 'World', 'World', 'World', 'Sci/Tech', 'Sci/Tech', 'Business', 'World', 'Sci/Tech', 'Business', 'World', 'Business', 'Sci/Tech', 'World', 'World', 'World', 'Business', 'Sci/Tech', 'World', 'Sports', 'Sci/Tech', 'Sci/Tech', 'World', 'Sci/Tech', 'Business', 'Business', 'World', 'Business', 'Sci/Tech', 'Sci/Tech', 'Sports', 'World', 'Sci/Tech', 'Business', 'Sci/Tech', 'Business', 'World', 'Business', 'World', 'World', 'Sci/Tech', 'World', 'Sci/Tech', 'Sci/Tech', 'Sci/Tech', 'Business', 'Sports', 'Business', 'Sports', 'World', 'World', 'World', 'Business', 'Business', 'Business', 'Sci/Tech', 'Sci/Tech', 'Sports', 'World', 'Sci/Tech', 'World', 'Sci/Tech', 'Sports', 'World', 'Business', 'Business', 'Business', 'Sci/Tech', 'Sci/Tech', 'Business', 'Sci/Tech', 'World', 'Sports', 'Business', 'Sports', 'Sci/Tech', 'Business', 'Business', 'Sports', 'Sci/Tech', 'World', 'Business', 'Business', 'Sci/Tech', 'Sci/Tech', 'Sci/Tech', 'Sports', 'Sports', 'World', 'Sports', 'World', 'Sci/Tech', 'Sci/Tech', 'Sports', 'Sci/Tech', 'Business', 'World', 'Sports', 'Sports', 'World', 'World', 'Sports', 'World', 'Business', 'Business', 'Business', 'World', 'Business', 'World', 'World', 'Sci/Tech', 'World', 'Sci/Tech', 'Sci/Tech', 'World', 'World', 'Business', 'Business', 'Business', 'Sci/Tech', 'World', 'Sports', 'Business', 'Business', 'Sports', 'Sports', 'Sports', 'World', 'Sci/Tech', 'Sci/Tech', 'Sci/Tech', 'Business', 'Business', 'Sci/Tech', 'Sports', 'World', 'World', 'World', 'World', 'World', 'Sci/Tech', 'Sci/Tech', 'Business', 'World', 'Sports', 'Sports', 'Sci/Tech', 'Sports', 'Business', 'Business', 'Business', 'Sports', 'World', 'Sci/Tech', 'Sci/Tech', 'Sci/Tech', 'Sports', 'Business', 'World', 'Sports', 'Business', 'Sports', 'Sports', 'World', 'Sci/Tech', 'Business', 'Business', 'World', 'Sci/Tech', 'Sci/Tech', 'Business', 'Sci/Tech', 'Business', 'Sports', 'World', 'Business', 'Business', 'Sci/Tech', 'Sports', 'Business', 'Sci/Tech', 'Sci/Tech', 'Business', 'Sci/Tech', 'Sports', 'World', 'World', 'Sci/Tech', 'Sci/Tech', 'Sports', 'Sports', 'World', 'Sports', 'Sports', 'Sports', 'Business', 'World', 'World', 'World', 'Sci/Tech', 'Sci/Tech', 'Sports', 'Sci/Tech', 'World', 'Sports', 'Sports', 'Sci/Tech', 'Business', 'World', 'World', 'Business', 'Sports', 'Sports', 'World', 'Business', 'Business', 'World', 'Business', 'Sports', 'Business', 'Business', 'Business', 'Sci/Tech', 'Business', 'Sports', 'Sci/Tech', 'World', 'World', 'Business', 'World', 'World', 'World', 'Sci/Tech', 'Business', 'Sports', 'World', 'Sci/Tech', 'Sports', 'Sports', 'World', 'Sci/Tech', 'Sci/Tech', 'Business', 'Business', 'Sci/Tech', 'Sports', 'World', 'Sports', 'Sci/Tech', 'Sports', 'World', 'Sports', 'World', 'World', 'Sports', 'Business', 'World', 'World', 'Sports', 'World', 'Business', 'Sports', 'World', 'World', 'World', 'World', 'Sci/Tech', 'World', 'World', 'World', 'Sports', 'World', 'Sports', 'World', 'Sports', 'Sci/Tech', 'Sports', 'Sports', 'World', 'Sports', 'Sports', 'World', 'World', 'World', 'World', 'Sports', 'Sports', 'Business', 'Sports', 'Sports', 'Sports', 'Sports', 'Sports', 'Business', 'Sports', 'Sports', 'World', 'Sports', 'Sci/Tech', 'Sports', 'Sports', 'World', 'Business', 'Sci/Tech', 'Sports', 'Sports', 'Sci/Tech', 'Sci/Tech', 'Sports', 'World', 'World', 'World', 'Sports', 'World', 'Sports', 'Sports', 'Sports', 'Sci/Tech', 'Sports', 'Sports', 'World', 'Business', 'Sci/Tech', 'Business', 'World', 'Sports', 'Sports', 'Business', 'Business', 'Business', 'Business', 'Sports', 'World', 'World', 'World', 'Sports', 'Sci/Tech', 'Sci/Tech', 'Sci/Tech', 'Sci/Tech', 'Sci/Tech', 'Business', 'Sci/Tech', 'Business', 'Sci/Tech', 'World', 'Sci/Tech', 'Sci/Tech', 'Sports', 'Sports', 'Sports', 'Sci/Tech', 'World', 'Business', 'World', 'Business', 'Business', 'Sci/Tech', 'Sci/Tech', 'Business', 'World', 'Business', 'Sci/Tech', 'World', 'Sports', 'Sci/Tech', 'Business', 'Business', 'World', 'Sci/Tech', 'Sci/Tech', 'Sports', 'Sports', 'Business', 'Sci/Tech', 'Business', 'Sci/Tech', 'Business', 'Business', 'Business', 'World', 'World', 'World', 'Sci/Tech', 'Sports', 'World', 'Business', 'Sports', 'Business', 'Business', 'Sports', 'World', 'World', 'Sports', 'Sports', 'Sports', 'Sports', 'World', 'Business', 'Sports', 'Sci/Tech', 'Sci/Tech', 'Business', 'Sports', 'Sci/Tech', 'Business', 'World', 'Sports', 'Business', 'Business', 'Sci/Tech', 'Sci/Tech', 'Business', 'Business', 'Sports', 'World', 'Business', 'Sports', 'Business', 'Sports', 'World', 'World', 'Sci/Tech', 'Sci/Tech', 'Sports', 'Sci/Tech', 'Sci/Tech', 'Business', 'Sci/Tech', 'World', 'World', 'Business', 'Business', 'World', 'Sci/Tech', 'Sci/Tech', 'Sci/Tech', 'Sci/Tech', 'Sci/Tech', 'Sci/Tech', 'World', 'World', 'Business', 'Sci/Tech', 'Sports', 'Sports', 'Business', 'Sports', 'World', 'Business', 'Sci/Tech', 'Business', 'Sports', 'Sci/Tech', 'Business', 'World', 'Sci/Tech', 'World', 'Sci/Tech', 'World', 'Sci/Tech', 'World', 'Business', 'Business', 'Sci/Tech', 'Sports', 'Sports', 'Sci/Tech', 'Sci/Tech', 'Business', 'World', 'World', 'Business', 'Sci/Tech', 'Sci/Tech', 'Sci/Tech', 'Business', 'Sports', 'Sports', 'Sports', 'World', 'Business', 'Sports', 'Business', 'Sci/Tech', 'Business', 'Business', 'World', 'Sports', 'Business', 'World', 'Business', 'World', 'Sci/Tech', 'Sports', 'Sports', 'World', 'Sports', 'Sci/Tech', 'World', 'World', 'Sci/Tech', 'Business', 'Sci/Tech', 'Business', 'Sci/Tech', 'Sci/Tech', 'World', 'World', 'World', 'Business', 'Business', 'Sci/Tech', 'Business', 'Business', 'World', 'Sci/Tech', 'Business', 'Business', 'Business', 'Sports', 'Business', 'World', 'Sports', 'World', 'Business', 'Sci/Tech', 'Sci/Tech', 'Sports', 'World', 'Sci/Tech', 'World', 'Sports', 'Sports', 'Business', 'World', 'World', 'Sci/Tech', 'Business', 'Sci/Tech', 'Sci/Tech', 'World', 'Business', 'Sports', 'Business', 'Sports', 'Sports', 'Sci/Tech', 'Sci/Tech', 'Sports', 'World', 'Business', 'Sports', 'Sci/Tech', 'Sci/Tech', 'Sports', 'Sci/Tech', 'Sports', 'Business', 'Sports', 'Sports', 'World', 'World', 'Business', 'World', 'World', 'Sports', 'Business', 'Sports', 'Business', 'World', 'Sci/Tech', 'Business', 'Sports', 'Business', 'Sci/Tech', 'Business', 'Sports', 'Sci/Tech', 'Sci/Tech', 'World', 'Business', 'World', 'Sci/Tech', 'Sci/Tech', 'Sci/Tech', 'Business', 'World', 'Business', 'Business', 'Sports', 'Sports', 'Sports', 'Sports', 'Business', 'Business', 'World', 'Sci/Tech', 'Sci/Tech', 'World', 'World', 'Sci/Tech', 'Business', 'World', 'World', 'Sci/Tech', 'Business', 'Business', 'Business', 'Business', 'Sci/Tech', 'Sci/Tech', 'Sci/Tech', 'Sports', 'World', 'World', 'Business', 'Sci/Tech', 'Sports', 'Sci/Tech', 'Sci/Tech', 'Sci/Tech', 'Business', 'Sci/Tech', 'Sports', 'Sci/Tech', 'Sports', 'Sports', 'Business', 'Sports', 'Sci/Tech', 'Sci/Tech', 'Sports', 'Sports', 'Sports', 'World', 'Sports', 'Business', 'Sci/Tech', 'World', 'Business', 'Business', 'Business', 'World', 'World', 'Business', 'Business', 'Sci/Tech', 'World', 'Sports', 'Business', 'Sports', 'World', 'Sports', 'Sports', 'World', 'World', 'Business', 'Sci/Tech', 'Sci/Tech', 'World', 'Business', 'Business', 'Business', 'Business', 'Sci/Tech', 'World', 'Sports', 'World', 'Sci/Tech', 'Business', 'Sci/Tech', 'Sci/Tech', 'Sci/Tech', 'Sports', 'Sci/Tech', 'Sci/Tech', 'Sci/Tech', 'World', 'Business', 'Business', 'Sports', 'Sports', 'Sports', 'World', 'Sci/Tech', 'Sports', 'World', 'Business', 'World', 'Business', 'World', 'World', 'Business', 'Sports', 'Sci/Tech', 'Sports', 'World', 'Sports', 'Sci/Tech', 'Sports', 'Sports', 'Business', 'Sports', 'Sci/Tech', 'Sports', 'World', 'Business', 'Sports', 'Business', 'World', 'World', 'Business', 'World', 'Sports', 'Sports', 'Business', 'Sports', 'Business', 'Business', 'Sports', 'Sports', 'Sci/Tech', 'Sports', 'World', 'World', 'Sports', 'World', 'World', 'World', 'Sports', 'World', 'Sports', 'World', 'Sci/Tech', 'Sci/Tech', 'Business', 'Sports', 'World', 'World', 'Sports', 'Business', 'World', 'Business', 'Sports', 'Business', 'Sports', 'Business', 'Sci/Tech', 'World', 'Sports', 'World', 'World', 'Business', 'World', 'Business', 'World', 'Sports', 'Sports', 'World', 'Sports', 'Business', 'World', 'Sports', 'Sports', 'Business', 'Business', 'World', 'World', 'World', 'World', 'Sports', 'World', 'Sports', 'Sports', 'World', 'World', 'Sports', 'World', 'World', 'Sports', 'Sports', 'Sports', 'World', 'Sports', 'Sports', 'Sports', 'Sports', 'Business', 'Business', 'Business', 'Sports', 'World', 'Business', 'Sci/Tech', 'Sci/Tech', 'Sports', 'World', 'Sports', 'Sports', 'World', 'Business', 'Sports', 'Sports', 'Sci/Tech', 'World', 'World', 'Sports', 'World', 'World', 'Sports', 'Sports', 'World', 'Sports', 'Sports', 'World', 'World', 'Sci/Tech', 'Sports', 'World', 'Sci/Tech', 'World', 'World', 'Sci/Tech', 'World', 'Business', 'Business', 'Business', 'Sports', 'Sports', 'Business', 'Business', 'Business', 'Sci/Tech', 'World', 'Sci/Tech', 'Sci/Tech', 'World', 'World', 'Business', 'Business', 'Sci/Tech', 'Sci/Tech', 'Business', 'Sci/Tech', 'Sports', 'Sci/Tech', 'Sci/Tech', 'World', 'Business', 'World', 'Sci/Tech', 'Sci/Tech', 'Sports', 'Business', 'Sci/Tech', 'Sci/Tech', 'Business', 'Sports', 'Sci/Tech', 'Sci/Tech', 'Business', 'Sports', 'Business', 'Sports', 'World', 'Sports', 'Sci/Tech', 'Sci/Tech', 'Sports', 'Business', 'Business', 'World', 'World', 'Business', 'Sports', 'Business', 'Sports', 'Sci/Tech', 'Sports', 'Sci/Tech', 'World', 'Sports', 'World', 'Business', 'Sports', 'Business', 'World', 'Sports', 'Business', 'Sports', 'World', 'Sports', 'Sports', 'World', 'Business', 'Sports', 'World', 'World', 'Sci/Tech', 'Sci/Tech', 'World', 'World', 'Sci/Tech', 'Sci/Tech', 'Business', 'Sci/Tech', 'Business', 'Sci/Tech', 'Business', 'Sci/Tech', 'World', 'Sci/Tech', 'Business', 'World', 'Business', 'World', 'Sci/Tech', 'Business', 'Business', 'World', 'Business', 'Sci/Tech', 'World', 'Business', 'Business', 'Sports', 'World', 'World', 'Sci/Tech', 'World', 'World', 'Business', 'Business', 'Sports', 'Sci/Tech', 'Sports', 'Sci/Tech', 'Sci/Tech', 'Sports', 'Business', 'Sci/Tech', 'World', 'World', 'Business', 'Business', 'Sci/Tech', 'Sci/Tech', 'Sports', 'Sci/Tech', 'Sci/Tech', 'World', 'Business', 'Sci/Tech', 'Sports', 'World', 'Business', 'Sci/Tech', 'Sci/Tech', 'Sports', 'World', 'Sci/Tech', 'Sci/Tech', 'Sci/Tech', 'Business', 'World', 'Business', 'Sports', 'Sports', 'World', 'Sci/Tech', 'Business', 'Sports', 'World', 'World', 'Sci/Tech', 'Sci/Tech', 'World', 'Sports', 'Sports', 'Business', 'Sports', 'Business', 'Sports', 'Sports', 'Sports', 'Business', 'Sports', 'Business', 'Sports', 'World', 'Business', 'World', 'Sports', 'Sci/Tech', 'World', 'Sci/Tech', 'World', 'Business', 'Sports', 'World', 'Sci/Tech', 'Sports', 'World', 'World', 'Business', 'Business', 'World', 'Sci/Tech', 'World', 'World', 'Sports', 'Sports', 'Sports', 'Business', 'Sci/Tech', 'Sci/Tech', 'World', 'Sci/Tech', 'World', 'Business', 'World', 'World', 'Business', 'Sci/Tech', 'World', 'Business', 'Sci/Tech', 'World', 'Sci/Tech', 'World', 'Sci/Tech', 'World', 'Business', 'Business', 'Sci/Tech', 'World', 'Business', 'Business', 'Business', 'Business', 'Business', 'Business', 'Sports', 'Business', 'World', 'Sports', 'Sci/Tech', 'Sports', 'Sports', 'World', 'Sports', 'World', 'World', 'Sci/Tech', 'Sports', 'Business', 'Sci/Tech', 'Sports', 'Sci/Tech', 'Sports', 'World', 'World', 'Sports', 'World', 'World', 'Business', 'Sci/Tech', 'World', 'World', 'Business', 'World', 'Business', 'World', 'Sci/Tech', 'Business', 'Sports', 'Sports', 'Sports', 'World', 'Business', 'Sports', 'Sports', 'Sports', 'Sports', 'Sports', 'Sports', 'World', 'Business', 'World', 'Sci/Tech', 'Sci/Tech', 'Business', 'Sci/Tech', 'Sci/Tech', 'Sci/Tech', 'Sports', 'Sci/Tech', 'Sports', 'Business', 'Sports', 'World', 'Sci/Tech', 'Business', 'Business', 'World', 'Business', 'Sci/Tech', 'Sports', 'Business', 'World', 'Business', 'Business', 'Sci/Tech', 'World', 'Sci/Tech', 'Sci/Tech', 'World', 'Business', 'Business', 'Sci/Tech', 'Business', 'Business', 'Sports', 'Sci/Tech', 'Sports', 'Business', 'World', 'Sci/Tech', 'Sci/Tech', 'Sports', 'Sci/Tech', 'Sci/Tech', 'Sports', 'Sports', 'Business', 'Business', 'Sci/Tech', 'Sports', 'Sports', 'Sci/Tech', 'World', 'Sci/Tech', 'World', 'Sci/Tech', 'Sci/Tech', 'Sci/Tech', 'Business', 'Business', 'Sci/Tech', 'World', 'Business', 'World', 'World', 'Sci/Tech', 'World', 'Sci/Tech', 'World', 'Sports', 'Sci/Tech', 'Business', 'Sports', 'Sports', 'Business', 'World', 'World', 'World', 'World', 'Sci/Tech', 'World', 'Sports', 'Sci/Tech', 'Sports', 'World', 'World', 'Business', 'Sports', 'Business', 'Sports', 'Sci/Tech', 'Sports', 'Business', 'Sci/Tech', 'Sports', 'Sci/Tech', 'Business', 'Sports', 'World', 'Business', 'Business', 'Business', 'World', 'Business', 'Business', 'World', 'Sports', 'World', 'Sci/Tech', 'Sports', 'World', 'Sci/Tech', 'Sports', 'Business', 'Sci/Tech', 'Sports', 'World', 'Sci/Tech', 'Sports', 'Sci/Tech', 'Business', 'Sci/Tech', 'World', 'World', 'Sci/Tech', 'World', 'Business', 'World', 'Business', 'Business', 'Sci/Tech', 'Sci/Tech', 'Sports', 'Sci/Tech', 'Sci/Tech', 'World', 'Sci/Tech', 'World', 'World', 'Sports', 'Sports', 'Sci/Tech', 'Sports', 'Sports', 'World', 'World', 'Sports', 'Sci/Tech', 'Sports', 'Sci/Tech', 'World', 'Sports', 'Sci/Tech', 'Sports', 'World', 'Sci/Tech', 'Sports', 'World', 'Sports', 'Sports', 'Sports', 'World', 'Sci/Tech', 'Sports', 'World', 'Sports', 'Business', 'Sports', 'Sci/Tech', 'Sports', 'Business', 'Sports', 'Business', 'World', 'World', 'Sports', 'Sports', 'Sports', 'Sports', 'Sci/Tech', 'Business', 'Sci/Tech', 'World', 'Sports', 'Sports', 'Sci/Tech', 'World', 'World', 'World', 'Sports', 'World', 'Sports', 'Sci/Tech', 'Business', 'Sports', 'Business', 'Sci/Tech', 'Sports', 'Business', 'Sports', 'Sci/Tech', 'World', 'Sports', 'World', 'Business', 'Business', 'Sci/Tech', 'Business', 'Sci/Tech', 'World', 'Sports', 'Sci/Tech', 'World', 'Sci/Tech', 'Business', 'Sports', 'Business', 'Sports', 'Sports', 'Business', 'Sports', 'Sci/Tech', 'Sci/Tech', 'Business', 'Sci/Tech', 'Business', 'Business', 'Business', 'Sports', 'Sci/Tech', 'Business', 'World', 'Sports', 'Business', 'Sports', 'World', 'Business', 'Sports', 'Sports', 'Business', 'Business', 'Sports', 'Sci/Tech', 'Business', 'Business', 'Business', 'World', 'Sci/Tech', 'Business', 'Sports', 'Business', 'Business', 'Sci/Tech', 'Business', 'World', 'Business', 'World', 'Sports', 'Business', 'Sports', 'Sports', 'World', 'Sports', 'Business', 'Business', 'Business', 'Sports', 'Sci/Tech', 'Business', 'Sports', 'Sci/Tech', 'Business', 'World', 'Sports', 'World', 'World', 'World', 'Sci/Tech', 'World', 'Sports', 'Sports', 'Sports', 'Business', 'Business', 'Business', 'Sports', 'Sports', 'Sci/Tech', 'Sports', 'Business', 'Sports', 'Sports', 'Business', 'Sports', 'Sports', 'Business', 'Business', 'World', 'Business', 'Business', 'Sci/Tech', 'Sports', 'Sci/Tech', 'World', 'Business', 'World', 'World', 'Sci/Tech', 'Business', 'Sci/Tech', 'Sports', 'Business', 'Sci/Tech', 'Sports', 'Business', 'Business', 'Sports', 'Sci/Tech', 'Business', 'World', 'Sci/Tech', 'Sports', 'Sports', 'Business', 'Sci/Tech', 'Sports', 'Business', 'Business', 'Business', 'Sci/Tech', 'Sports', 'Business', 'World', 'World', 'Business', 'Sports', 'Sci/Tech', 'Sports', 'Business', 'Business', 'Business', 'Business', 'World', 'Sports', 'Sci/Tech', 'Sci/Tech', 'World', 'Business', 'Business', 'Sports', 'World', 'Business', 'Sci/Tech', 'World', 'Business', 'Sci/Tech', 'Business', 'Sci/Tech', 'Sci/Tech', 'Sports', 'World', 'Sports', 'Sports', 'Sports', 'Sci/Tech', 'Sci/Tech', 'Business', 'Sci/Tech', 'Sports', 'Business', 'Business', 'World', 'Business', 'Business', 'Sports', 'Sci/Tech', 'World', 'Business', 'Sci/Tech', 'Sci/Tech', 'World', 'Business', 'World', 'Business', 'Sports', 'World', 'World', 'Sci/Tech', 'World', 'World', 'Business', 'Sci/Tech', 'World', 'Business', 'Sci/Tech', 'Sci/Tech', 'Sci/Tech', 'Business', 'Sci/Tech', 'Sci/Tech', 'Sci/Tech', 'Business', 'Sci/Tech', 'Sci/Tech', 'Sci/Tech', 'Sci/Tech', 'World', 'Business', 'Sci/Tech', 'Sci/Tech', 'Business', 'Sci/Tech', 'Sci/Tech', 'Business', 'World', 'Sci/Tech', 'Sci/Tech', 'Business', 'Sci/Tech', 'World', 'World', 'Sports', 'Business', 'Sci/Tech', 'Business', 'Sci/Tech', 'Business', 'World', 'World', 'Business', 'Sci/Tech', 'Sci/Tech', 'Sports', 'World', 'Sci/Tech', 'Sci/Tech', 'Business', 'Business', 'World', 'Business', 'Business', 'Sci/Tech', 'Sports', 'Sci/Tech', 'Sci/Tech', 'Sci/Tech', 'Sci/Tech', 'Sports', 'World', 'Sci/Tech', 'Sci/Tech', 'Sci/Tech', 'World', 'Sci/Tech', 'Sci/Tech', 'World', 'Sci/Tech', 'World', 'Sports', 'Sports', 'Sci/Tech', 'Business', 'Sports', 'Business', 'Sports', 'World', 'Sports', 'World', 'Business', 'Sports', 'World', 'World', 'World', 'Sports', 'Sports', 'Sports', 'Sports', 'Sports', 'Sports', 'Sports', 'Business', 'Business', 'Sports', 'World', 'Sports', 'World', 'Business', 'Business', 'Business', 'Business', 'Sports', 'World', 'Sports', 'Sports', 'World', 'World', 'Business', 'Sci/Tech', 'Sports', 'World', 'World', 'World', 'Sci/Tech', 'Sports', 'Sports', 'Sports', 'Sports', 'World', 'Business', 'World', 'World', 'World', 'Sports', 'World', 'World', 'World', 'Business', 'Sports', 'World', 'World', 'World', 'World', 'Business', 'Business', 'Sci/Tech', 'Sports', 'Sports', 'World', 'Sci/Tech', 'Sci/Tech', 'Business', 'Sports', 'Sports', 'Sports', 'Business', 'World', 'World', 'Business', 'World', 'Sci/Tech', 'World', 'Business', 'Sports', 'Sports', 'Business', 'Business', 'Business', 'Business', 'Sports', 'Business', 'World', 'World', 'Sci/Tech', 'Sports', 'Sports', 'World', 'Business', 'Sci/Tech', 'Sports', 'Business', 'World', 'Sci/Tech', 'Sci/Tech', 'Business', 'Business', 'Business', 'Business', 'Business', 'World', 'Sci/Tech', 'Sci/Tech', 'Sci/Tech', 'Business', 'Business', 'World', 'Sci/Tech', 'Sci/Tech', 'Business', 'Business', 'Business', 'Business', 'Sci/Tech', 'Sci/Tech', 'Sports', 'World', 'Business', 'Sci/Tech', 'Sci/Tech', 'Sci/Tech', 'Sci/Tech', 'Sci/Tech', 'Sports', 'Sci/Tech', 'Sci/Tech', 'Sci/Tech', 'Sci/Tech', 'Sports', 'Business', 'Sports', 'Business', 'Business', 'World', 'Sci/Tech', 'Sci/Tech', 'Sci/Tech', 'Sci/Tech', 'Sci/Tech', 'Business', 'Business', 'Sci/Tech', 'Business', 'Sci/Tech', 'Sports', 'World', 'Business', 'Sci/Tech', 'Sports', 'Business', 'Sci/Tech', 'Sports', 'World', 'Sci/Tech', 'World', 'World', 'World', 'Sci/Tech', 'Sports', 'Business', 'Business', 'Business', 'Business', 'Sci/Tech', 'Sports', 'World', 'Business', 'Business', 'Sci/Tech', 'Sci/Tech', 'Business', 'Business', 'Sci/Tech', 'Sports', 'World', 'World', 'Business', 'Business', 'Sci/Tech', 'World', 'World', 'Sci/Tech', 'Sci/Tech', 'Sci/Tech', 'Sci/Tech', 'Sports', 'Sci/Tech', 'Sci/Tech', 'Business', 'Sci/Tech', 'Sci/Tech', 'Sci/Tech', 'Business', 'Sci/Tech', 'Sci/Tech', 'Business', 'Sports', 'Sports', 'Sci/Tech', 'Business', 'Business', 'Business', 'Sports', 'Sports', 'Sci/Tech', 'Sci/Tech', 'Sci/Tech', 'Sci/Tech', 'World', 'Business', 'Sci/Tech', 'World', 'Sci/Tech', 'Sci/Tech', 'Business', 'Business', 'World', 'Sci/Tech', 'Sci/Tech', 'Business', 'Sports', 'Sports', 'Business', 'Sci/Tech', 'Sci/Tech', 'World', 'Sports', 'Business', 'Business', 'Business', 'Sci/Tech', 'Sci/Tech', 'Sci/Tech', 'Sports', 'Sci/Tech', 'Sci/Tech', 'World', 'World', 'Sci/Tech', 'Sports', 'World', 'World', 'Sci/Tech', 'Business', 'Business', 'Sports', 'Business', 'World', 'Sci/Tech', 'Sci/Tech', 'World', 'Sci/Tech', 'Sports', 'Sci/Tech', 'Sports', 'Sports', 'Business', 'Sci/Tech', 'Sci/Tech', 'World', 'Sci/Tech', 'Business', 'Sci/Tech', 'Sports', 'Sci/Tech', 'Sci/Tech', 'Business', 'World', 'Business', 'Sports', 'Business', 'Business', 'Business', 'Sci/Tech', 'Sports', 'Business', 'Sci/Tech', 'Business', 'Sci/Tech', 'Business', 'Sports', 'Sci/Tech', 'Sci/Tech', 'World', 'World', 'Business', 'Sports', 'Sports', 'Business', 'Business', 'Sports', 'Business', 'Sports', 'World', 'Business', 'Sports', 'World', 'Business', 'Business', 'Sports', 'Business', 'Business', 'Business', 'Sports', 'Sci/Tech', 'Sports', 'World', 'Sci/Tech', 'Sci/Tech', 'World', 'Sci/Tech', 'Sci/Tech', 'World', 'World', 'Business', 'Business', 'World', 'World', 'Sports', 'Business', 'Business', 'Sci/Tech', 'Sci/Tech', 'World', 'Business', 'Sports', 'Business', 'Sci/Tech', 'Business', 'Sci/Tech', 'World', 'Business', 'Sports', 'Sci/Tech', 'Sports', 'World', 'Business', 'Business', 'Business', 'Sports', 'World', 'Sci/Tech', 'Sci/Tech', 'Sports', 'Business', 'World', 'World', 'Sci/Tech', 'Sports', 'World', 'Business', 'Sci/Tech', 'Sci/Tech', 'Sports', 'Sci/Tech', 'Business', 'Sports', 'World', 'Business', 'Sports', 'World', 'Sci/Tech', 'World', 'Sci/Tech', 'World', 'Sports', 'Sports', 'Sports', 'Sports', 'Business', 'Business', 'World', 'Sports', 'Sports', 'World', 'World', 'Business', 'Sci/Tech', 'Business', 'Sports', 'World', 'Sports', 'Business', 'Sci/Tech', 'World', 'World', 'Business', 'Business', 'Business', 'Business', 'Sports', 'World', 'World', 'World', 'Sci/Tech', 'Sports', 'Business', 'Business', 'Business', 'Sci/Tech', 'Sci/Tech', 'Sci/Tech', 'Sports', 'World', 'World', 'Sci/Tech', 'World', 'Sci/Tech', 'World', 'World', 'World', 'World', 'Sci/Tech', 'World', 'Business', 'Sci/Tech', 'Sci/Tech', 'Business', 'Sci/Tech', 'Business', 'Sports', 'Sci/Tech', 'Sci/Tech', 'Sci/Tech', 'Business', 'Sci/Tech', 'World', 'Sports', 'World', 'World', 'Sci/Tech', 'Business', 'Sports', 'World', 'Business', 'Sci/Tech', 'Business', 'World', 'World', 'Sports', 'World', 'Sports', 'World', 'World', 'Sports', 'World', 'Business', 'Sci/Tech', 'Sci/Tech', 'Sports', 'Sports', 'World', 'Sports', 'Business', 'Sports', 'Sci/Tech', 'World', 'Sports', 'Sci/Tech', 'Sports', 'Sports', 'Sports', 'Business', 'Sci/Tech', 'Sports', 'Sports', 'Sports', 'Sports', 'World', 'Sports', 'Business', 'Sports', 'Sports', 'Sports', 'Business', 'Sports', 'Sports', 'Sci/Tech', 'World', 'Sci/Tech', 'Sci/Tech', 'World', 'Sci/Tech', 'Sci/Tech', 'Sports', 'World', 'Business', 'Sci/Tech', 'Sports', 'Sports', 'Sports', 'World', 'Sports', 'Sci/Tech', 'Sci/Tech', 'Sports', 'World', 'Business', 'Sports', 'World', 'Sci/Tech', 'Sports', 'Sports', 'Sports', 'Business', 'Sports', 'World', 'World', 'Sports', 'Sports', 'Sports', 'World', 'World', 'World', 'Sci/Tech', 'Sci/Tech', 'Sports', 'Sports', 'World', 'Sports', 'Sports', 'World', 'World', 'Sci/Tech', 'Sports', 'Business', 'Sci/Tech', 'Sports', 'World', 'Sci/Tech', 'Sports', 'Sports', 'Sci/Tech', 'Sci/Tech', 'Sci/Tech', 'Business', 'World', 'Business', 'Sci/Tech', 'World', 'World', 'Sports', 'World', 'Sci/Tech', 'Business', 'Sports', 'Business', 'Business', 'Sci/Tech', 'Sci/Tech', 'Sci/Tech', 'Business', 'Business', 'Sci/Tech', 'Business', 'Sci/Tech', 'Business', 'Sports', 'Sci/Tech', 'Business', 'Sports', 'Sports', 'Business', 'Sci/Tech', 'Sci/Tech', 'Sci/Tech', 'World', 'Business', 'Sci/Tech', 'Business', 'Sci/Tech', 'Business', 'Business', 'Business', 'World', 'Sci/Tech', 'World', 'Sports', 'Sci/Tech', 'Sci/Tech', 'Sports', 'Business', 'World', 'Sci/Tech', 'Sci/Tech', 'Sports', 'Sports', 'Business', 'Sci/Tech', 'Sci/Tech', 'Sci/Tech', 'World', 'World', 'World', 'Sports', 'World', 'Sci/Tech', 'Sports', 'Sports', 'Sports', 'Business', 'World', 'World', 'Business', 'World', 'World', 'Sci/Tech', 'Sports', 'World', 'Business', 'Business', 'World', 'Sci/Tech', 'Sports', 'World', 'Sci/Tech', 'Sports', 'Sports', 'World', 'World', 'World', 'Sci/Tech', 'Sci/Tech', 'World', 'Business', 'Sci/Tech', 'Business', 'Sci/Tech', 'Sports', 'World', 'Business', 'Business', 'Business', 'Business', 'Sports', 'Business', 'Business', 'Sports', 'Business', 'Business', 'Sports', 'Sci/Tech', 'Sci/Tech', 'Sci/Tech', 'Sci/Tech', 'Sci/Tech', 'Business', 'Business', 'Sci/Tech', 'Sci/Tech', 'Sci/Tech', 'World', 'Business', 'Sci/Tech', 'Sci/Tech', 'Sports', 'Sci/Tech', 'Sci/Tech', 'Business', 'Sci/Tech', 'Sci/Tech', 'Business', 'Sci/Tech', 'Business', 'Sci/Tech', 'Business', 'World', 'Business', 'Sports', 'World', 'World', 'Sci/Tech', 'Sci/Tech', 'Sports', 'World', 'World', 'Sci/Tech', 'Sports', 'Sports', 'Business', 'World', 'World', 'World', 'Sports', 'World', 'World', 'Sci/Tech', 'World', 'World', 'Business', 'World', 'Sci/Tech', 'Sci/Tech', 'World', 'Sports', 'Sci/Tech', 'Business', 'Business', 'Sci/Tech', 'Sci/Tech', 'Sports', 'Sports', 'Sci/Tech', 'Business', 'Sports', 'World', 'World', 'Sci/Tech', 'Sci/Tech', 'World', 'Sports', 'Business', 'World', 'Sci/Tech', 'Sci/Tech', 'Business', 'World', 'Business', 'World', 'Business', 'Sci/Tech', 'Business', 'Sci/Tech', 'World', 'World', 'World', 'Sci/Tech', 'Sci/Tech', 'Business', 'Business', 'Business', 'World', 'Business', 'Business', 'World', 'World', 'Business', 'World', 'Business', 'Business', 'Sci/Tech', 'World', 'Business', 'Sci/Tech', 'Sports', 'Sports', 'Business', 'World', 'Business', 'World', 'Sports', 'Business', 'World', 'Sports', 'World', 'Sports', 'Sci/Tech', 'World', 'Business', 'Sports', 'Sci/Tech', 'World', 'Sports', 'Sports', 'Sci/Tech', 'Business', 'Sports', 'Business', 'World', 'World', 'World', 'Sports', 'Sports', 'Sports', 'Business', 'Business', 'Sports', 'World', 'World', 'Sci/Tech', 'World', 'World', 'Business', 'Business', 'Sci/Tech', 'World', 'Sports', 'World', 'World', 'World', 'Business', 'Business', 'Business', 'Sports', 'Business', 'Sports', 'Business', 'Business', 'World', 'Sci/Tech', 'Sports', 'Business', 'Business', 'Sports', 'Sci/Tech', 'Sci/Tech', 'Business', 'Sci/Tech', 'World', 'Business', 'Sci/Tech', 'Business', 'Sci/Tech', 'Sci/Tech', 'Sci/Tech', 'Sports', 'Sci/Tech', 'Business', 'Business', 'Business', 'Business', 'Business', 'Sci/Tech', 'Business', 'Business', 'Sports', 'Sci/Tech', 'Sci/Tech', 'World', 'Sports', 'Sci/Tech', 'Sci/Tech', 'Sci/Tech', 'Business', 'Sci/Tech', 'Sports', 'Sports', 'World', 'Business', 'Business', 'World', 'World', 'World', 'World', 'World', 'Business', 'Business', 'Business', 'Sports', 'Business', 'Business', 'Sci/Tech', 'Sports', 'Sports', 'World', 'Sci/Tech', 'Sports', 'World', 'Sci/Tech', 'Sci/Tech', 'Business', 'World', 'Business', 'Business', 'Sci/Tech', 'Business', 'Business', 'Sci/Tech', 'Business', 'Sports', 'Business', 'World', 'Sports', 'Sports', 'Sci/Tech', 'Business', 'Sci/Tech', 'Sci/Tech', 'Sci/Tech', 'Business', 'Business', 'Sci/Tech', 'Sci/Tech', 'Sports', 'Sci/Tech', 'World', 'Sports', 'Business', 'Sports', 'World', 'Sci/Tech', 'Sci/Tech', 'Business', 'Sci/Tech', 'World', 'World', 'Business', 'Business', 'Sports', 'Business', 'Business', 'Business', 'Sports', 'World', 'World', 'Business', 'Sci/Tech', 'Sports', 'Sci/Tech', 'Business', 'World', 'Sci/Tech', 'Business', 'Business', 'Sports', 'World', 'World', 'Sports', 'Business', 'World', 'Business', 'Sci/Tech', 'Sci/Tech', 'Sports', 'Sports', 'Sci/Tech', 'World', 'Business', 'Sci/Tech', 'World', 'World', 'Sports', 'World', 'Business', 'Business', 'Sci/Tech', 'Sci/Tech', 'Sci/Tech', 'Business', 'World', 'Sci/Tech', 'World', 'Sports', 'Sports', 'Sports', 'World', 'World', 'Sports', 'Sports', 'Sports', 'Sci/Tech', 'Sports', 'Sports', 'Sports', 'World', 'World', 'World', 'Business', 'Sports', 'Sports', 'Sports', 'Business', 'World', 'Sci/Tech', 'Sci/Tech', 'Business', 'Sports', 'Sports', 'Sports', 'Business', 'Sports', 'World', 'World', 'World', 'Sports', 'Sports', 'Business', 'Business', 'Sports', 'Business', 'Sports', 'Business', 'Sports', 'Sports', 'Sports', 'World', 'Sports', 'World', 'Business', 'Business', 'Sports', 'Sports', 'Business', 'World', 'Sports', 'Sports', 'Sci/Tech', 'Sports', 'World', 'Business', 'World', 'World', 'World', 'Business', 'Business', 'Sports', 'World', 'World', 'World', 'World', 'Sports', 'World', 'Business', 'Sports', 'World', 'Sci/Tech', 'Sci/Tech', 'World', 'Business', 'Sports', 'Business', 'Sports', 'Business', 'Sports', 'World', 'Business', 'Business', 'Sci/Tech', 'Sports', 'World', 'Business', 'Business', 'Sports', 'Sports', 'World', 'World', 'Sci/Tech', 'Business', 'Business', 'Business', 'Business', 'Business', 'Sci/Tech', 'Sci/Tech', 'Business', 'Business', 'Sci/Tech', 'World', 'World', 'World', 'World', 'World', 'Business', 'Sports', 'Business', 'Sci/Tech', 'Sci/Tech', 'Sci/Tech', 'Sci/Tech', 'World', 'Sports', 'Business', 'World', 'Business', 'Sci/Tech', 'Sci/Tech', 'Sports', 'Business', 'Business', 'Business', 'Sci/Tech', 'Sci/Tech', 'Business', 'Sports', 'Sci/Tech', 'Sports', 'Sci/Tech', 'World', 'Sci/Tech', 'Business', 'Business', 'Business', 'World', 'Sci/Tech', 'Sci/Tech', 'Sports', 'Business', 'Business', 'World', 'Business', 'Sci/Tech', 'Sports', 'Business', 'Sci/Tech', 'Sports', 'Sci/Tech', 'Business', 'Sports', 'Sports', 'Sports', 'Sports', 'World', 'Sci/Tech', 'Sports', 'World', 'Sci/Tech', 'Business', 'Sci/Tech', 'Sci/Tech', 'Sci/Tech', 'Sci/Tech', 'Sci/Tech', 'World', 'Sci/Tech', 'Sci/Tech', 'Sports', 'Sci/Tech', 'World', 'Sci/Tech', 'Sci/Tech', 'World', 'Sci/Tech', 'Sports', 'World', 'Sports', 'Sports', 'Sports', 'Sports', 'World', 'Sports', 'World', 'Business', 'Business', 'World', 'World', 'World', 'Sports', 'World', 'Business', 'World', 'Sci/Tech', 'Business', 'Sci/Tech', 'Business', 'Business', 'Business', 'Sci/Tech', 'Sci/Tech', 'World', 'World', 'Business', 'Sci/Tech', 'Sports', 'Business', 'Sports', 'Business', 'Sports', 'World', 'Business', 'Business', 'Business', 'Sci/Tech', 'Sports', 'Sports', 'Sci/Tech', 'Business', 'Sci/Tech', 'Sci/Tech', 'Sci/Tech', 'Business', 'Sports', 'Sports', 'Sports', 'World', 'Business', 'Business', 'Business', 'Business', 'Business', 'World', 'World', 'Business', 'World', 'Sports', 'Sci/Tech', 'Sci/Tech', 'Sports', 'Sci/Tech', 'World', 'Sci/Tech', 'World', 'Sports', 'Sports', 'Business', 'Business', 'Sports', 'Sci/Tech', 'World', 'Sports', 'World', 'Sports', 'Sports', 'Business', 'Sports', 'Sports', 'Sports', 'Sci/Tech', 'Sports', 'World', 'World', 'World', 'Business', 'World', 'World', 'World', 'Sports', 'World', 'Sports', 'Sports', 'Sports', 'Sports', 'Sports', 'Sports', 'Business', 'Sports', 'World', 'World', 'Sports', 'World', 'Sports', 'World', 'Business', 'Sci/Tech', 'Business', 'Business', 'Business', 'Sci/Tech', 'World', 'Business', 'World', 'Sports', 'Business', 'Sci/Tech', 'World', 'World', 'World', 'Sci/Tech', 'World', 'Sports', 'Sci/Tech', 'Business', 'Sports', 'World', 'Business', 'Business', 'Sports', 'Business', 'Business', 'Business', 'Sci/Tech', 'Business', 'World', 'Sci/Tech', 'World', 'World', 'Business', 'Sports', 'Sports', 'Sports', 'World', 'Sci/Tech', 'Business', 'Business', 'Business', 'Sports', 'World', 'World', 'World', 'Sports', 'World', 'Business', 'Sci/Tech', 'Sports', 'World', 'World', 'World', 'Sports', 'Business', 'Sci/Tech', 'Business', 'Sports', 'Sports', 'Sci/Tech', 'World', 'Sports', 'Sports', 'Sci/Tech', 'World', 'Sports', 'Business', 'Sci/Tech', 'Sports', 'Sci/Tech', 'Sports', 'Business', 'World', 'Business', 'Business', 'World', 'Sci/Tech', 'World', 'Sports', 'World', 'World', 'World', 'Sports', 'Sports', 'Business', 'Sports', 'World', 'Business', 'Sports', 'World', 'Sports', 'Sports', 'Sports', 'Sports', 'Sci/Tech', 'Business', 'Sports', 'Sports', 'Business', 'Sports', 'Sports', 'Sports', 'Sci/Tech', 'Business', 'Sports', 'Business', 'World', 'World', 'World', 'Sports', 'Sports', 'Sports', 'World', 'Sports', 'World', 'Sci/Tech', 'Sports', 'Business', 'Business', 'World', 'Sci/Tech', 'Sci/Tech', 'World', 'Sci/Tech', 'Business', 'Sci/Tech', 'Sci/Tech', 'World', 'Business', 'Business', 'Sci/Tech', 'Sci/Tech', 'Sports', 'Sports', 'Sci/Tech', 'Business', 'Sports', 'Business', 'Sci/Tech', 'World', 'Sports', 'World', 'World', 'World', 'Sci/Tech', 'Business', 'Business', 'Sports', 'Business', 'Business', 'World', 'World', 'Sci/Tech', 'Sports', 'Business', 'Business', 'Business', 'Sci/Tech', 'World', 'Business', 'World', 'Business', 'Sci/Tech', 'Sports', 'Sports', 'World', 'Sports', 'Sci/Tech', 'Business', 'Sports', 'World', 'Sports', 'Sports', 'Sci/Tech', 'Sports', 'Business', 'Sci/Tech', 'Sci/Tech', 'World', 'Sports', 'Sci/Tech', 'World', 'World', 'Sports', 'Business', 'Sports', 'Business', 'Sports', 'World', 'World', 'Sports', 'Sports', 'Business', 'Business', 'Sports', 'World', 'World', 'Business', 'Business', 'Business', 'Business', 'World', 'Business', 'World', 'Business', 'Sci/Tech', 'World', 'Business', 'Sports', 'Business', 'Sci/Tech', 'Sci/Tech', 'Sci/Tech', 'World', 'Sci/Tech', 'Sports', 'Sci/Tech', 'Sports', 'Sci/Tech', 'Sci/Tech', 'Sports', 'World', 'Sci/Tech', 'Sports', 'Business', 'World', 'Business', 'Sports', 'Business', 'Business', 'World', 'Sports', 'World', 'Sci/Tech', 'Business', 'Sci/Tech', 'Sci/Tech', 'Business', 'Sports', 'Sports', 'Business', 'World', 'Sci/Tech', 'Business', 'Sports', 'World', 'Business', 'Sports', 'Sci/Tech', 'Sci/Tech', 'Sports', 'Sports', 'World', 'Business', 'Business', 'Sports', 'Business', 'Business', 'Business', 'Sports', 'World', 'World', 'World', 'World', 'Sci/Tech', 'Business', 'Sports', 'World', 'Business', 'Sci/Tech', 'Business', 'Sci/Tech', 'Sports', 'World', 'Business', 'Business', 'Business', 'Sci/Tech', 'World', 'World', 'Sci/Tech', 'World', 'Sci/Tech', 'Sci/Tech', 'Business', 'Sports', 'Sci/Tech', 'Business', 'Business', 'Business', 'Sports', 'Business', 'Business', 'Sci/Tech', 'Sci/Tech', 'Sports', 'World', 'World', 'Sports', 'Sports', 'Business', 'World', 'Business', 'Sports', 'Sports', 'Business', 'World', 'World', 'World', 'Sports', 'Sports', 'Business', 'Sports', 'Sci/Tech', 'Business', 'Sci/Tech', 'Sci/Tech', 'Sports', 'Sci/Tech', 'World', 'Sci/Tech', 'Sci/Tech', 'Sci/Tech', 'Sci/Tech', 'Sci/Tech', 'Sci/Tech', 'Sci/Tech', 'Sci/Tech', 'Sci/Tech', 'World', 'Business', 'Sci/Tech', 'Sports', 'World', 'World', 'Sci/Tech', 'Sci/Tech', 'Sci/Tech', 'Sports', 'World', 'World', 'Business', 'Sci/Tech', 'Sci/Tech', 'Sci/Tech', 'Sci/Tech', 'Sci/Tech', 'Business', 'Sci/Tech', 'Sports', 'Sci/Tech', 'Sports', 'Business', 'Business', 'Business', 'World', 'Business', 'World', 'World', 'Business', 'Business', 'Sports', 'Sports', 'Sci/Tech', 'Sci/Tech', 'Sports', 'World', 'World', 'World', 'Business', 'Sci/Tech', 'Sci/Tech', 'Sci/Tech', 'Business', 'Sports', 'World', 'Sci/Tech', 'Business', 'Sci/Tech', 'World', 'Business', 'World', 'Business', 'Sci/Tech', 'Sci/Tech', 'Sports', 'Sci/Tech', 'World', 'Sports', 'Business', 'Business', 'Sci/Tech', 'Business', 'Sports', 'Sci/Tech', 'World', 'World', 'Sci/Tech', 'Sci/Tech', 'Business', 'World', 'Sci/Tech', 'World', 'Sci/Tech', 'Sci/Tech', 'Sci/Tech', 'Sci/Tech', 'Sci/Tech', 'Business', 'Business', 'Business', 'Business', 'Business', 'Business', 'World', 'World', 'Business', 'World', 'World', 'World', 'Sports', 'Sports', 'Sports', 'Business', 'Sports', 'Business', 'Sports', 'Sci/Tech', 'Sci/Tech', 'Sci/Tech', 'Business', 'Business', 'Sports', 'Sci/Tech', 'Sports', 'Sports', 'Sci/Tech', 'Sports', 'Sports', 'Sports', 'Business', 'Business', 'World', 'World', 'Sports', 'Sports', 'Sports', 'Sports', 'World', 'World', 'Business', 'Sports', 'Sports', 'Sports', 'World', 'Sports', 'Business', 'World', 'World', 'World', 'Sports', 'Sci/Tech', 'World', 'Business', 'Sports', 'World', 'Sci/Tech', 'Sci/Tech', 'Business', 'Business', 'Sports', 'Sci/Tech', 'Sports', 'Sci/Tech', 'Sci/Tech', 'Sci/Tech', 'World', 'World', 'Sports', 'Business', 'Business', 'Sports', 'World', 'Business', 'Business', 'Sports', 'Sports', 'Sports', 'Business', 'Sci/Tech', 'Sports', 'Sports', 'World', 'Sports', 'Business', 'Sports', 'Sports', 'Business', 'World', 'Sci/Tech', 'Business', 'Business', 'Sports', 'Business', 'Sports', 'World', 'Sci/Tech', 'Sports', 'World', 'World', 'Business', 'World', 'World', 'Business', 'Sci/Tech', 'World', 'Sci/Tech', 'Business', 'Sports', 'Sci/Tech', 'Sci/Tech', 'Sci/Tech', 'Business', 'World', 'Business', 'World', 'Sports', 'World', 'World', 'Business', 'World', 'Sci/Tech', 'Business', 'Business', 'Sci/Tech', 'Sci/Tech', 'World', 'Business', 'Sci/Tech', 'World', 'Sports', 'Sports', 'Sports', 'Business', 'Business', 'Business', 'World', 'Sci/Tech', 'World', 'Business', 'World', 'Sports', 'Business', 'World', 'Sci/Tech', 'Sci/Tech', 'Business', 'Sports', 'Sports', 'Business', 'Business', 'World', 'Sci/Tech', 'Sci/Tech', 'Business', 'Sci/Tech', 'Sci/Tech', 'Sci/Tech', 'Business', 'Sports', 'Sports', 'Business', 'Sports', 'Sports', 'Sports', 'Sports', 'Business', 'Sci/Tech', 'Sci/Tech', 'Sports', 'World', 'World', 'Sports', 'Business', 'World', 'World', 'Sci/Tech', 'World', 'World', 'Business', 'Sci/Tech', 'Business', 'World', 'Business', 'Sci/Tech', 'World', 'Business', 'World', 'Sci/Tech', 'Sci/Tech', 'World', 'Sci/Tech', 'Business', 'Sci/Tech', 'World', 'Business', 'Business', 'Sci/Tech', 'Business', 'Business', 'Sports', 'Sci/Tech', 'Sci/Tech', 'Business', 'Business', 'Sci/Tech', 'World', 'Sci/Tech', 'Sci/Tech', 'Business', 'Business', 'World', 'Sci/Tech', 'Sci/Tech', 'Business', 'Sci/Tech', 'World', 'Sports', 'World', 'Sports', 'Sci/Tech', 'Sci/Tech', 'Sports', 'Business', 'World', 'Sports', 'World', 'Business', 'Business', 'World', 'World', 'Sports', 'World', 'Business', 'Business', 'Business', 'Sci/Tech', 'Sci/Tech', 'Sports', 'World', 'World', 'Sports', 'Sci/Tech', 'Sports', 'World', 'Sci/Tech', 'Sci/Tech', 'Sports', 'Sports', 'Sci/Tech', 'Sci/Tech', 'Business', 'World', 'Business', 'World', 'Sci/Tech', 'Business', 'Business', 'Sports', 'Business', 'Sports', 'Business', 'Business', 'World', 'Sci/Tech', 'Sci/Tech', 'Sports', 'Business', 'Business', 'Business', 'Business', 'World', 'Business', 'Sci/Tech', 'Business', 'Sci/Tech', 'Sports', 'Business', 'Sci/Tech', 'Sci/Tech', 'Sports', 'Sports', 'Sci/Tech', 'Business', 'Business', 'World', 'World', 'Business', 'Business', 'Sci/Tech', 'World', 'Sports', 'Sci/Tech', 'World', 'Sports', 'Sports', 'Sports', 'World', 'World', 'Business', 'Sci/Tech', 'Sci/Tech', 'Sports', 'Sports', 'Sports', 'Sports', 'Sports', 'Sci/Tech', 'Sports', 'Sports', 'Sci/Tech', 'Business', 'World', 'Sports', 'Sports', 'Sports', 'World', 'Sports', 'Sports', 'Sports', 'World', 'Sports', 'Sports', 'World', 'World', 'World', 'Business', 'Sports', 'Sports', 'World', 'Sci/Tech', 'World', 'World', 'World', 'Business', 'Sports', 'Sports', 'Sports', 'Sports', 'Sports', 'World', 'Sports', 'Business', 'Sports', 'Sports', 'Sports', 'Sports', 'Sci/Tech', 'World', 'Sports', 'World', 'World', 'Sports', 'World', 'Sports', 'Sci/Tech', 'World', 'Business', 'Sci/Tech', 'Sci/Tech', 'Sci/Tech', 'World', 'Business', 'Business', 'Sports', 'Sports', 'Sports', 'Business', 'Sci/Tech', 'Business', 'Business', 'Sports', 'World', 'World', 'Sports', 'Sports', 'Business', 'World', 'World', 'World', 'Business', 'Business', 'World', 'Business', 'Sci/Tech', 'Sports', 'Business', 'Sports', 'Sports', 'Business', 'World', 'World', 'World', 'Business', 'Business', 'Business', 'Sports', 'World', 'World', 'Sci/Tech', 'Sci/Tech', 'World', 'Business', 'Business', 'Business', 'World', 'World', 'Sports', 'Sci/Tech', 'World', 'World', 'Business', 'Business', 'Sci/Tech', 'Sports', 'Sci/Tech', 'Business', 'World', 'Business', 'Business', 'World', 'Sci/Tech', 'Sports', 'Sci/Tech', 'Sci/Tech', 'Sci/Tech', 'Sci/Tech', 'Sci/Tech', 'Sci/Tech', 'Sports', 'World', 'Sports', 'Sports', 'World', 'Sports', 'Business', 'Sports', 'World', 'World', 'Business', 'Sports', 'Sports', 'Sports', 'Business', 'Sci/Tech', 'World', 'Sci/Tech', 'Business', 'World', 'Sci/Tech', 'Sci/Tech', 'Sports', 'World', 'Business', 'Business', 'Sci/Tech', 'Business', 'Sci/Tech', 'Sci/Tech', 'Sci/Tech', 'Sci/Tech', 'Sports', 'Business', 'Sports', 'Sci/Tech', 'World', 'World', 'World', 'Sports', 'Sports', 'Sports', 'Business', 'Sci/Tech', 'World', 'Business', 'Sci/Tech', 'Sci/Tech', 'Sci/Tech', 'Sci/Tech', 'Sports', 'World', 'Business', 'Business', 'Business', 'World', 'Sci/Tech', 'Business', 'Business', 'Sci/Tech', 'World', 'Business', 'Sci/Tech', 'Business', 'Sci/Tech', 'World', 'Sports', 'Sports', 'World', 'Sports', 'Sci/Tech', 'Sports', 'Sci/Tech', 'Business', 'Sports', 'Business', 'Sports', 'World', 'Sports', 'Sports', 'World', 'World', 'Sci/Tech', 'Sports', 'Sci/Tech', 'Business', 'World', 'World', 'World', 'Sci/Tech', 'Sci/Tech', 'Sports', 'World', 'Business', 'Business', 'World', 'Sci/Tech', 'Sports', 'Sci/Tech', 'World', 'Business', 'Business', 'Sci/Tech', 'Sports', 'Sports', 'Sports', 'World', 'Sports', 'Sports', 'World', 'Business', 'Business', 'Sci/Tech', 'Sci/Tech', 'World', 'Business', 'Sci/Tech', 'Sci/Tech', 'Sports', 'Sports', 'World', 'Sports', 'Sci/Tech', 'World', 'Business', 'Sci/Tech', 'Sports', 'Sports', 'Business', 'Business', 'Sci/Tech', 'World', 'World', 'Sci/Tech', 'Sci/Tech', 'Sci/Tech', 'Sci/Tech', 'Business', 'Sports', 'Business', 'Sci/Tech', 'Sci/Tech', 'Sci/Tech', 'World', 'Business', 'Sci/Tech', 'Business', 'Sports', 'Sports', 'Business', 'Sci/Tech', 'Sci/Tech', 'Sports', 'Sci/Tech', 'Business', 'Business', 'Sports', 'Sports', 'Sports', 'Sports', 'World', 'Sci/Tech', 'Business', 'Sci/Tech', 'Sci/Tech', 'Business', 'Sports', 'World', 'Business', 'Sports', 'Business', 'Sports', 'Business', 'Business', 'Business', 'Business', 'Business', 'Sci/Tech', 'Sports', 'Business', 'Sci/Tech', 'Sports', 'World', 'World', 'World', 'Sci/Tech', 'Business', 'Business', 'Business', 'Business', 'Sci/Tech', 'World', 'Business', 'Sci/Tech', 'Business', 'World', 'Sci/Tech', 'World', 'World', 'Sports', 'World', 'World', 'Sci/Tech', 'Sports', 'Business', 'Sci/Tech', 'World', 'World', 'Sports', 'Sci/Tech', 'Sports', 'Sports', 'Business', 'Sports', 'World', 'Sci/Tech', 'Business', 'Sci/Tech', 'Sci/Tech', 'World', 'Business', 'Sci/Tech', 'Sci/Tech', 'Sci/Tech', 'Sports', 'Business', 'World', 'Business', 'Sci/Tech', 'World', 'Sports', 'Business', 'Business', 'World', 'World', 'Business', 'World', 'Sci/Tech', 'Sci/Tech', 'Business', 'World', 'Sports', 'Sci/Tech', 'World', 'Sci/Tech', 'Sci/Tech', 'Sci/Tech', 'Business', 'Business', 'Sports', 'World', 'Sci/Tech', 'Sports', 'World', 'Business', 'Sports', 'Sports', 'World', 'World', 'Business', 'World', 'Business', 'World', 'World', 'World', 'Sci/Tech', 'Sci/Tech', 'Business', 'World', 'World', 'Sci/Tech', 'Business', 'Business', 'Business', 'Sports', 'Sports', 'World', 'Business', 'Business', 'Business', 'Business', 'Business', 'Business', 'Sci/Tech', 'World', 'Business', 'Sports', 'Sports', 'Business', 'Sci/Tech', 'Sci/Tech', 'Sci/Tech', 'World', 'Sci/Tech', 'World', 'Sports', 'Sports', 'Sci/Tech', 'Sci/Tech', 'Sports', 'Sports', 'Sports', 'World', 'Business', 'Sports', 'Business', 'Sci/Tech', 'Sports', 'Sports', 'World', 'Sports', 'Sci/Tech', 'Sci/Tech', 'Sports', 'Sports', 'World', 'World', 'Sports', 'World', 'World', 'Sports', 'Sports', 'Business', 'Business']\n"
          ]
        }
      ]
    },
    {
      "cell_type": "markdown",
      "source": [
        "# Check input Manually"
      ],
      "metadata": {
        "id": "0CtbMCMx4aUI"
      }
    },
    {
      "cell_type": "markdown",
      "source": [],
      "metadata": {
        "id": "g6Y0wHnvOco2"
      }
    },
    {
      "cell_type": "code",
      "source": [
        "text = [\"Reuters - A car bomb exploded near a U.S.\\military patrol in the town of Baiji, north of Baghdad, on\\Tuesday, killing at least seven Iraqis and wounding 20 people,\\including two U.S. soldiers, doctors and the military said.\"]"
      ],
      "metadata": {
        "id": "IF4yTjoHlyxu"
      },
      "execution_count": null,
      "outputs": []
    },
    {
      "cell_type": "code",
      "source": [
        "y_proba = model.predict(text)\n",
        "y_pred = np.argmax(y_proba, axis=1)\n",
        "y_pred_labels = [TEXT_LABELS[x] for x in le.inverse_transform(y_pred)]\n",
        "print(\"\\n\\n\",y_pred_labels[0])"
      ],
      "metadata": {
        "colab": {
          "base_uri": "https://localhost:8080/"
        },
        "id": "G5SIWqZ_1PLe",
        "outputId": "4c9d3644-d291-4469-928b-d3bf766ddc93"
      },
      "execution_count": null,
      "outputs": [
        {
          "output_type": "stream",
          "name": "stdout",
          "text": [
            "1/1 [==============================] - 0s 70ms/step\n",
            "\n",
            "\n",
            " World\n"
          ]
        }
      ]
    },
    {
      "cell_type": "code",
      "source": [],
      "metadata": {
        "id": "ToAIbaIvOZCV"
      },
      "execution_count": null,
      "outputs": []
    },
    {
      "cell_type": "code",
      "source": [],
      "metadata": {
        "id": "pZhFSWlk24bP"
      },
      "execution_count": null,
      "outputs": []
    }
  ]
}